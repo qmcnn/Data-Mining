{
  "cells": [
    {
      "cell_type": "markdown",
      "metadata": {
        "id": "view-in-github",
        "colab_type": "text"
      },
      "source": [
        "<a href=\"https://colab.research.google.com/github/qmcnn/Data-Mining/blob/main/Python_HW1.ipynb\" target=\"_parent\"><img src=\"https://colab.research.google.com/assets/colab-badge.svg\" alt=\"Open In Colab\"/></a>"
      ]
    },
    {
      "cell_type": "markdown",
      "id": "3cf3e5da",
      "metadata": {
        "id": "3cf3e5da"
      },
      "source": [
        "# Practicing Python Coding"
      ]
    },
    {
      "cell_type": "markdown",
      "id": "901b0bbc",
      "metadata": {
        "id": "901b0bbc"
      },
      "source": [
        "* สร้าง list ที่ประกอบด้วยคำว่า \"hamburger\", \"freshfries\", \"smoothie\", \"milkshake\", และ \"hot dog\"\n",
        "* จาก list ข้างต้น ให้ทำการ slicing list ให้ได้คำดังต่อไปนี้\n",
        "    * \"fries\"\n",
        "    * \"milk\"\n",
        "    * \"dog\"\n",
        "    * \"burger\""
      ]
    },
    {
      "cell_type": "code",
      "execution_count": null,
      "id": "ef7d874a",
      "metadata": {
        "id": "ef7d874a",
        "outputId": "fa9f3e11-8604-469f-b3aa-f9d5125c59b3",
        "colab": {
          "base_uri": "https://localhost:8080/"
        }
      },
      "outputs": [
        {
          "output_type": "execute_result",
          "data": {
            "text/plain": [
              "['hamburger', 'freshfries', 'smoothie', 'milkshake', 'hot dog']"
            ]
          },
          "metadata": {},
          "execution_count": 2
        }
      ],
      "source": [
        "list_t = [ \"hamburger\", \"freshfries\", \"smoothie\", \"milkshake\", \"hot dog\"]\n",
        "list_t"
      ]
    },
    {
      "cell_type": "code",
      "execution_count": null,
      "id": "c3afcef1",
      "metadata": {
        "id": "c3afcef1",
        "outputId": "5b2037e1-cee9-4852-f334-0a1c5a97156a",
        "colab": {
          "base_uri": "https://localhost:8080/",
          "height": 37
        }
      },
      "outputs": [
        {
          "output_type": "execute_result",
          "data": {
            "text/plain": [
              "'fries'"
            ],
            "application/vnd.google.colaboratory.intrinsic+json": {
              "type": "string"
            }
          },
          "metadata": {},
          "execution_count": 4
        }
      ],
      "source": [
        "list_t[1][5:]"
      ]
    },
    {
      "cell_type": "code",
      "execution_count": null,
      "id": "c79c36a8",
      "metadata": {
        "id": "c79c36a8",
        "outputId": "54d8527b-b768-46a4-dd60-61935c74b650",
        "colab": {
          "base_uri": "https://localhost:8080/",
          "height": 37
        }
      },
      "outputs": [
        {
          "output_type": "execute_result",
          "data": {
            "text/plain": [
              "'milk'"
            ],
            "application/vnd.google.colaboratory.intrinsic+json": {
              "type": "string"
            }
          },
          "metadata": {},
          "execution_count": 6
        }
      ],
      "source": [
        "list_t[3][0:4]"
      ]
    },
    {
      "cell_type": "code",
      "execution_count": null,
      "id": "64c25242",
      "metadata": {
        "id": "64c25242",
        "outputId": "1899c344-37c9-4256-83d8-0fe714ebad9a",
        "colab": {
          "base_uri": "https://localhost:8080/",
          "height": 37
        }
      },
      "outputs": [
        {
          "output_type": "execute_result",
          "data": {
            "text/plain": [
              "'dog'"
            ],
            "application/vnd.google.colaboratory.intrinsic+json": {
              "type": "string"
            }
          },
          "metadata": {},
          "execution_count": 8
        }
      ],
      "source": [
        "list_t[4][-3:]"
      ]
    },
    {
      "cell_type": "code",
      "source": [
        "list_t[0][3:]"
      ],
      "metadata": {
        "id": "ZMXGH8Ahsqmy",
        "outputId": "ea998974-1ef8-476b-efd1-0c9a48585212",
        "colab": {
          "base_uri": "https://localhost:8080/",
          "height": 37
        }
      },
      "id": "ZMXGH8Ahsqmy",
      "execution_count": null,
      "outputs": [
        {
          "output_type": "execute_result",
          "data": {
            "text/plain": [
              "'burger'"
            ],
            "application/vnd.google.colaboratory.intrinsic+json": {
              "type": "string"
            }
          },
          "metadata": {},
          "execution_count": 10
        }
      ]
    },
    {
      "cell_type": "markdown",
      "id": "49de30b8",
      "metadata": {
        "id": "49de30b8"
      },
      "source": [
        "สร้าง list [[1],[1,2],[1,2,3],...,[1,2,3,4,5,6,7,8,9,10]] โดยใช้ for loop"
      ]
    },
    {
      "cell_type": "code",
      "execution_count": null,
      "id": "21cf8ec7",
      "metadata": {
        "id": "21cf8ec7",
        "outputId": "65f645cd-482f-46cf-ca23-68aca3e748e7",
        "colab": {
          "base_uri": "https://localhost:8080/"
        }
      },
      "outputs": [
        {
          "output_type": "stream",
          "name": "stdout",
          "text": [
            "list_ans = []\n",
            "temp = [] i = 1\n",
            "temp = [1, 1],[1, 1]\n",
            "list_ans = [[1, 1]]\n",
            "temp = [] i = 2\n",
            "temp = [1, 2],[1, 2]\n",
            "list_ans = [[1, 1], [1, 2]]\n",
            "temp = [] i = 3\n",
            "temp = [1, 3],[1, 3]\n",
            "list_ans = [[1, 1], [1, 2], [1, 3]]\n",
            "[[1, 1], [1, 2], [1, 3]]\n"
          ]
        }
      ],
      "source": [
        "list_ans = []\n",
        "print(f'list_ans = {list_ans}')\n",
        "for i in range(1,4):\n",
        "    temp = []\n",
        "    print(f'temp = {temp} i = {i}')\n",
        "    temp.append(1)\n",
        "    for j in range(1):\n",
        "        temp.append(i)#\n",
        "    print(f'temp = {temp},')\n",
        "    list_ans.append(temp)\n",
        "    print(f'list_ans = {list_ans}')\n",
        "print(list_ans)\n"
      ]
    },
    {
      "cell_type": "markdown",
      "id": "178f5210",
      "metadata": {
        "id": "178f5210"
      },
      "source": [
        "list_ex = [1,5,9,-19,-2,0] # หาค่ามากที่สุดใน list_ex โดยไม่ใช้ function max (ใช้ for กับ if)"
      ]
    },
    {
      "cell_type": "code",
      "source": [
        "list_ex = [1,5,9,-19,-2,0]"
      ],
      "metadata": {
        "id": "9qIMNdrON8x2"
      },
      "id": "9qIMNdrON8x2",
      "execution_count": 1,
      "outputs": []
    },
    {
      "cell_type": "code",
      "execution_count": 3,
      "id": "fd2f819e",
      "metadata": {
        "id": "fd2f819e",
        "outputId": "a9701e47-843e-4690-fdb3-6f3d03aab3ca",
        "colab": {
          "base_uri": "https://localhost:8080/"
        }
      },
      "outputs": [
        {
          "output_type": "stream",
          "name": "stdout",
          "text": [
            "9\n"
          ]
        }
      ],
      "source": [
        "max = -100000000\n",
        "list_ex = [1,5,9,-19,-2,0]\n",
        "for i in list_ex:\n",
        "    if i > max:\n",
        "        max = i\n",
        "print(max)"
      ]
    },
    {
      "cell_type": "markdown",
      "id": "dbe82e45",
      "metadata": {
        "id": "dbe82e45"
      },
      "source": [
        "สร้างฟังก์ชันที่ปริ้นท์ตารางสูตรคูณจากค่าจำนวนนับที่กำหนด เช่น `multiplication_table(5)` จะปริ้นท์\n",
        "```\n",
        "5 * 1 = 5\n",
        "5 * 2 = 10\n",
        "5 * 3 = 15\n",
        "5 * 4 = 20\n",
        "5 * 5 = 25\n",
        "5 * 6 = 30\n",
        "5 * 7 = 35\n",
        "5 * 8 = 40\n",
        "5 * 9 = 45\n",
        "5 * 10 = 50\n",
        "5 * 11 = 55\n",
        "5 * 12 = 60\n",
        "```"
      ]
    },
    {
      "cell_type": "code",
      "execution_count": 5,
      "id": "2b26fa8b",
      "metadata": {
        "id": "2b26fa8b",
        "outputId": "abadd085-ea34-499d-c272-41989fa1fcb3",
        "colab": {
          "base_uri": "https://localhost:8080/"
        }
      },
      "outputs": [
        {
          "output_type": "stream",
          "name": "stdout",
          "text": [
            "5 * 1 = 5\n",
            "5 * 2 = 10\n",
            "5 * 3 = 15\n",
            "5 * 4 = 20\n",
            "5 * 5 = 25\n",
            "5 * 6 = 30\n",
            "5 * 7 = 35\n",
            "5 * 8 = 40\n",
            "5 * 9 = 45\n",
            "5 * 10 = 50\n",
            "5 * 11 = 55\n",
            "5 * 12 = 60\n"
          ]
        }
      ],
      "source": [
        "def multiplication_table(n):\n",
        "\n",
        "    for i in range(1, n+1):\n",
        "        result = 5 * i\n",
        "        print(f\"5 * {i} = {result}\")\n",
        "multiplication_table(12)"
      ]
    },
    {
      "cell_type": "markdown",
      "id": "792c9e6f",
      "metadata": {
        "id": "792c9e6f"
      },
      "source": [
        "เขียนฟังก์ชัน `sum_factorials(n)` ที่คำนวณค่าผลบวกต่อไปนี้จากจำนวนนับที่กำหนดให้ $1 + \\frac{1}{1!} + \\frac{1}{2!} + \\frac{1}{3!} + ... + \\frac{1}{n!}$ โดยไม่ใช้ฟังก์ชัน factorial จากไลบรารี่ใด ๆ"
      ]
    },
    {
      "cell_type": "code",
      "execution_count": 7,
      "id": "84947edd",
      "metadata": {
        "id": "84947edd"
      },
      "outputs": [],
      "source": [
        "def fac(x):\n",
        "     fac = 1\n",
        "     for i in range(1, x+1):\n",
        "          fac *= i\n",
        "     return fac\n",
        "\n",
        "def sum_factorials(n):\n",
        "     sum = 1.0\n",
        "     for i in range(1, n+1):\n",
        "          sum += 1.0 / fac(i)\n",
        "     return sum"
      ]
    },
    {
      "cell_type": "code",
      "execution_count": 8,
      "id": "17fc2667",
      "metadata": {
        "id": "17fc2667"
      },
      "outputs": [],
      "source": [
        "# Check! ฟังก์ชันที่เขียนถูกต้อง ถ้ารันโค้ดผ่านโดยไม่มี error ใด ๆ\n",
        "import numpy as np\n",
        "assert np.isclose(sum_factorials(5), sum([1/np.math.factorial(i) for i in range(0,6)])), \"The computation is wrong!\"\n",
        "assert np.isclose(sum_factorials(10), sum([1/np.math.factorial(i) for i in range(0,11)])), \"The computation is wrong!\""
      ]
    },
    {
      "cell_type": "markdown",
      "id": "9433bfbb",
      "metadata": {
        "id": "9433bfbb"
      },
      "source": [
        "# Data Preparation"
      ]
    },
    {
      "cell_type": "markdown",
      "id": "8235a996",
      "metadata": {
        "id": "8235a996"
      },
      "source": [
        "ศึกษาข้อมูล `Data_Facebook_Python.xlsx`"
      ]
    },
    {
      "cell_type": "markdown",
      "id": "97220f26",
      "metadata": {
        "id": "97220f26"
      },
      "source": [
        "อ่านข้อมูลด้วยฟังก์ชันในไลบรารี Pandas"
      ]
    },
    {
      "cell_type": "code",
      "execution_count": 1,
      "metadata": {
        "colab": {
          "base_uri": "https://localhost:8080/"
        },
        "outputId": "a7cb4f2e-0863-4135-d6e9-2277339c59ef",
        "id": "5Bdu8vtkPli1"
      },
      "outputs": [
        {
          "output_type": "stream",
          "name": "stdout",
          "text": [
            "Mounted at /content/drive/\n"
          ]
        }
      ],
      "source": [
        "from google.colab import drive\n",
        "drive.mount(\"/content/drive/\")"
      ],
      "id": "5Bdu8vtkPli1"
    },
    {
      "cell_type": "code",
      "source": [
        "import pandas as pd"
      ],
      "metadata": {
        "id": "mpXgCC1PMlT7"
      },
      "execution_count": 2,
      "outputs": [],
      "id": "mpXgCC1PMlT7"
    },
    {
      "cell_type": "code",
      "source": [
        "Facebook = pd.read_excel('/content/drive/MyDrive/Year4/Data Mining/Data_Facebook_Python.xlsx')\n",
        "Facebook"
      ],
      "metadata": {
        "id": "BPw0LJxFRTAr",
        "outputId": "037059c6-bc11-4cbb-e2ec-45d3ac8b8c30",
        "colab": {
          "base_uri": "https://localhost:8080/",
          "height": 1000
        }
      },
      "id": "BPw0LJxFRTAr",
      "execution_count": 4,
      "outputs": [
        {
          "output_type": "execute_result",
          "data": {
            "text/plain": [
              "      No GENDER  AGE               EDUCATION                 CAREER   SALARY  \\\n",
              "0      1   หญิง   23               ปริญญาตรี     พนักงานบริษัทเอกชน  20000.0   \n",
              "1      2   หญิง   22               ปริญญาตรี  ข้าราชการ/รัฐวิสาหกิจ  16000.0   \n",
              "2      3    ชาย   25               ปริญญาตรี     พนักงานบริษัทเอกชน  18000.0   \n",
              "3      4   หญิง   21  มัธยมปลายหรือเทียบเท่า  ข้าราชการ/รัฐวิสาหกิจ  14000.0   \n",
              "4      5    ชาย   18  มัธยมปลายหรือเทียบเท่า      นักเรียน/นักศึกษา  10000.0   \n",
              "..   ...    ...  ...                     ...                    ...      ...   \n",
              "195  196    ชาย   25               ปริญญาตรี     พนักงานบริษัทเอกชน  20000.0   \n",
              "196  197   หญิง   24               ปริญญาตรี     พนักงานบริษัทเอกชน  18000.0   \n",
              "197  198    ชาย   17  มัธยมปลายหรือเทียบเท่า      นักเรียน/นักศึกษา  10000.0   \n",
              "198  199    ชาย   25               ปริญญาตรี     พนักงานบริษัทเอกชน  20000.0   \n",
              "199  200   หญิง   25               ปริญญาตรี     พนักงานบริษัทเอกชน  20000.0   \n",
              "\n",
              "     INTERNET_PAY                         PLACE               TIME  \\\n",
              "0             590                    บ้าน/หอพัก  4 - 6 วัน/สัปดาห์   \n",
              "1             500                    บ้าน/หอพัก             ทุกวัน   \n",
              "2             590  สถานที่ให้บริการอินเตอร์เน็ต  2 - 3 วัน/สัปดาห์   \n",
              "3             500                    บ้าน/หอพัก             ทุกวัน   \n",
              "4             650                    บ้าน/หอพัก             ทุกวัน   \n",
              "..            ...                           ...                ...   \n",
              "195           590                    บ้าน/หอพัก  2 - 3 วัน/สัปดาห์   \n",
              "196           500                    บ้าน/หอพัก  4 - 6 วัน/สัปดาห์   \n",
              "197           590                    บ้าน/หอพัก             ทุกวัน   \n",
              "198           650                    บ้าน/หอพัก             ทุกวัน   \n",
              "199           590                    บ้าน/หอพัก             ทุกวัน   \n",
              "\n",
              "                  HOUR  ... APPLICATIONS                           TYPE  \\\n",
              "0       3 - 4 ชม. /วัน  ...          ใช้         การโพสต์ข้อความ/รูปภาพ   \n",
              "1    มากกว่า 4 ชม./วัน  ...          ใช้         การโพสต์ข้อความ/รูปภาพ   \n",
              "2       3 - 4 ชม. /วัน  ...          ใช้         การโพสต์ข้อความ/รูปภาพ   \n",
              "3    มากกว่า 4 ชม./วัน  ...          ใช้  เกมส์ที่เน้นการได้คะแนนสูงสุด   \n",
              "4    มากกว่า 4 ชม./วัน  ...          ใช้         การโพสต์ข้อความ/รูปภาพ   \n",
              "..                 ...  ...          ...                            ...   \n",
              "195     3 - 4 ชม. /วัน  ...          ใช้         การโพสต์ข้อความ/รูปภาพ   \n",
              "196     3 - 4 ชม. /วัน  ...          ใช้         การโพสต์ข้อความ/รูปภาพ   \n",
              "197  มากกว่า 4 ชม./วัน  ...          ใช้         การโพสต์ข้อความ/รูปภาพ   \n",
              "198  มากกว่า 4 ชม./วัน  ...          ใช้         การโพสต์ข้อความ/รูปภาพ   \n",
              "199     1 - 2 ชม. /วัน  ...          ใช้         การโพสต์ข้อความ/รูปภาพ   \n",
              "\n",
              "               (F1)      (F2)             (F3)             (F4)  \\\n",
              "0          สำคัญมาก   ปานกลาง          ปานกลาง          ปานกลาง   \n",
              "1    สำคัญมากที่สุด  สำคัญมาก          ปานกลาง          ปานกลาง   \n",
              "2          สำคัญมาก   ปานกลาง  สำคัญน้อยที่สุด        สำคัญน้อย   \n",
              "3    สำคัญมากที่สุด   ปานกลาง   สำคัญมากที่สุด         สำคัญมาก   \n",
              "4    สำคัญมากที่สุด   ปานกลาง         สำคัญมาก         สำคัญมาก   \n",
              "..              ...       ...              ...              ...   \n",
              "195  สำคัญมากที่สุด  สำคัญมาก         สำคัญมาก          ปานกลาง   \n",
              "196  สำคัญมากที่สุด  สำคัญมาก         สำคัญมาก  สำคัญน้อยที่สุด   \n",
              "197  สำคัญมากที่สุด   ปานกลาง         สำคัญมาก         สำคัญมาก   \n",
              "198  สำคัญมากที่สุด   ปานกลาง          ปานกลาง         สำคัญมาก   \n",
              "199  สำคัญมากที่สุด   ปานกลาง          ปานกลาง          ปานกลาง   \n",
              "\n",
              "               (F5)            (O1)            (O2)             (O3)  \n",
              "0    สำคัญมากที่สุด  สำคัญมากที่สุด        สำคัญมาก  สำคัญน้อยที่สุด  \n",
              "1    สำคัญมากที่สุด  สำคัญมากที่สุด  สำคัญมากที่สุด        สำคัญน้อย  \n",
              "2          สำคัญมาก  สำคัญมากที่สุด         ปานกลาง  สำคัญน้อยที่สุด  \n",
              "3    สำคัญมากที่สุด  สำคัญมากที่สุด  สำคัญมากที่สุด          ปานกลาง  \n",
              "4    สำคัญมากที่สุด  สำคัญมากที่สุด  สำคัญมากที่สุด          ปานกลาง  \n",
              "..              ...             ...             ...              ...  \n",
              "195  สำคัญมากที่สุด  สำคัญมากที่สุด        สำคัญมาก         สำคัญมาก  \n",
              "196  สำคัญมากที่สุด  สำคัญมากที่สุด  สำคัญมากที่สุด         สำคัญมาก  \n",
              "197  สำคัญมากที่สุด  สำคัญมากที่สุด  สำคัญมากที่สุด         สำคัญมาก  \n",
              "198  สำคัญมากที่สุด  สำคัญมากที่สุด  สำคัญมากที่สุด   สำคัญมากที่สุด  \n",
              "199  สำคัญมากที่สุด  สำคัญมากที่สุด         ปานกลาง  สำคัญน้อยที่สุด  \n",
              "\n",
              "[200 rows x 21 columns]"
            ],
            "text/html": [
              "\n",
              "\n",
              "  <div id=\"df-b771aa30-0552-461c-821c-58d9017b2ea1\">\n",
              "    <div class=\"colab-df-container\">\n",
              "      <div>\n",
              "<style scoped>\n",
              "    .dataframe tbody tr th:only-of-type {\n",
              "        vertical-align: middle;\n",
              "    }\n",
              "\n",
              "    .dataframe tbody tr th {\n",
              "        vertical-align: top;\n",
              "    }\n",
              "\n",
              "    .dataframe thead th {\n",
              "        text-align: right;\n",
              "    }\n",
              "</style>\n",
              "<table border=\"1\" class=\"dataframe\">\n",
              "  <thead>\n",
              "    <tr style=\"text-align: right;\">\n",
              "      <th></th>\n",
              "      <th>No</th>\n",
              "      <th>GENDER</th>\n",
              "      <th>AGE</th>\n",
              "      <th>EDUCATION</th>\n",
              "      <th>CAREER</th>\n",
              "      <th>SALARY</th>\n",
              "      <th>INTERNET_PAY</th>\n",
              "      <th>PLACE</th>\n",
              "      <th>TIME</th>\n",
              "      <th>HOUR</th>\n",
              "      <th>...</th>\n",
              "      <th>APPLICATIONS</th>\n",
              "      <th>TYPE</th>\n",
              "      <th>(F1)</th>\n",
              "      <th>(F2)</th>\n",
              "      <th>(F3)</th>\n",
              "      <th>(F4)</th>\n",
              "      <th>(F5)</th>\n",
              "      <th>(O1)</th>\n",
              "      <th>(O2)</th>\n",
              "      <th>(O3)</th>\n",
              "    </tr>\n",
              "  </thead>\n",
              "  <tbody>\n",
              "    <tr>\n",
              "      <th>0</th>\n",
              "      <td>1</td>\n",
              "      <td>หญิง</td>\n",
              "      <td>23</td>\n",
              "      <td>ปริญญาตรี</td>\n",
              "      <td>พนักงานบริษัทเอกชน</td>\n",
              "      <td>20000.0</td>\n",
              "      <td>590</td>\n",
              "      <td>บ้าน/หอพัก</td>\n",
              "      <td>4 - 6 วัน/สัปดาห์</td>\n",
              "      <td>3 - 4 ชม. /วัน</td>\n",
              "      <td>...</td>\n",
              "      <td>ใช้</td>\n",
              "      <td>การโพสต์ข้อความ/รูปภาพ</td>\n",
              "      <td>สำคัญมาก</td>\n",
              "      <td>ปานกลาง</td>\n",
              "      <td>ปานกลาง</td>\n",
              "      <td>ปานกลาง</td>\n",
              "      <td>สำคัญมากที่สุด</td>\n",
              "      <td>สำคัญมากที่สุด</td>\n",
              "      <td>สำคัญมาก</td>\n",
              "      <td>สำคัญน้อยที่สุด</td>\n",
              "    </tr>\n",
              "    <tr>\n",
              "      <th>1</th>\n",
              "      <td>2</td>\n",
              "      <td>หญิง</td>\n",
              "      <td>22</td>\n",
              "      <td>ปริญญาตรี</td>\n",
              "      <td>ข้าราชการ/รัฐวิสาหกิจ</td>\n",
              "      <td>16000.0</td>\n",
              "      <td>500</td>\n",
              "      <td>บ้าน/หอพัก</td>\n",
              "      <td>ทุกวัน</td>\n",
              "      <td>มากกว่า 4 ชม./วัน</td>\n",
              "      <td>...</td>\n",
              "      <td>ใช้</td>\n",
              "      <td>การโพสต์ข้อความ/รูปภาพ</td>\n",
              "      <td>สำคัญมากที่สุด</td>\n",
              "      <td>สำคัญมาก</td>\n",
              "      <td>ปานกลาง</td>\n",
              "      <td>ปานกลาง</td>\n",
              "      <td>สำคัญมากที่สุด</td>\n",
              "      <td>สำคัญมากที่สุด</td>\n",
              "      <td>สำคัญมากที่สุด</td>\n",
              "      <td>สำคัญน้อย</td>\n",
              "    </tr>\n",
              "    <tr>\n",
              "      <th>2</th>\n",
              "      <td>3</td>\n",
              "      <td>ชาย</td>\n",
              "      <td>25</td>\n",
              "      <td>ปริญญาตรี</td>\n",
              "      <td>พนักงานบริษัทเอกชน</td>\n",
              "      <td>18000.0</td>\n",
              "      <td>590</td>\n",
              "      <td>สถานที่ให้บริการอินเตอร์เน็ต</td>\n",
              "      <td>2 - 3 วัน/สัปดาห์</td>\n",
              "      <td>3 - 4 ชม. /วัน</td>\n",
              "      <td>...</td>\n",
              "      <td>ใช้</td>\n",
              "      <td>การโพสต์ข้อความ/รูปภาพ</td>\n",
              "      <td>สำคัญมาก</td>\n",
              "      <td>ปานกลาง</td>\n",
              "      <td>สำคัญน้อยที่สุด</td>\n",
              "      <td>สำคัญน้อย</td>\n",
              "      <td>สำคัญมาก</td>\n",
              "      <td>สำคัญมากที่สุด</td>\n",
              "      <td>ปานกลาง</td>\n",
              "      <td>สำคัญน้อยที่สุด</td>\n",
              "    </tr>\n",
              "    <tr>\n",
              "      <th>3</th>\n",
              "      <td>4</td>\n",
              "      <td>หญิง</td>\n",
              "      <td>21</td>\n",
              "      <td>มัธยมปลายหรือเทียบเท่า</td>\n",
              "      <td>ข้าราชการ/รัฐวิสาหกิจ</td>\n",
              "      <td>14000.0</td>\n",
              "      <td>500</td>\n",
              "      <td>บ้าน/หอพัก</td>\n",
              "      <td>ทุกวัน</td>\n",
              "      <td>มากกว่า 4 ชม./วัน</td>\n",
              "      <td>...</td>\n",
              "      <td>ใช้</td>\n",
              "      <td>เกมส์ที่เน้นการได้คะแนนสูงสุด</td>\n",
              "      <td>สำคัญมากที่สุด</td>\n",
              "      <td>ปานกลาง</td>\n",
              "      <td>สำคัญมากที่สุด</td>\n",
              "      <td>สำคัญมาก</td>\n",
              "      <td>สำคัญมากที่สุด</td>\n",
              "      <td>สำคัญมากที่สุด</td>\n",
              "      <td>สำคัญมากที่สุด</td>\n",
              "      <td>ปานกลาง</td>\n",
              "    </tr>\n",
              "    <tr>\n",
              "      <th>4</th>\n",
              "      <td>5</td>\n",
              "      <td>ชาย</td>\n",
              "      <td>18</td>\n",
              "      <td>มัธยมปลายหรือเทียบเท่า</td>\n",
              "      <td>นักเรียน/นักศึกษา</td>\n",
              "      <td>10000.0</td>\n",
              "      <td>650</td>\n",
              "      <td>บ้าน/หอพัก</td>\n",
              "      <td>ทุกวัน</td>\n",
              "      <td>มากกว่า 4 ชม./วัน</td>\n",
              "      <td>...</td>\n",
              "      <td>ใช้</td>\n",
              "      <td>การโพสต์ข้อความ/รูปภาพ</td>\n",
              "      <td>สำคัญมากที่สุด</td>\n",
              "      <td>ปานกลาง</td>\n",
              "      <td>สำคัญมาก</td>\n",
              "      <td>สำคัญมาก</td>\n",
              "      <td>สำคัญมากที่สุด</td>\n",
              "      <td>สำคัญมากที่สุด</td>\n",
              "      <td>สำคัญมากที่สุด</td>\n",
              "      <td>ปานกลาง</td>\n",
              "    </tr>\n",
              "    <tr>\n",
              "      <th>...</th>\n",
              "      <td>...</td>\n",
              "      <td>...</td>\n",
              "      <td>...</td>\n",
              "      <td>...</td>\n",
              "      <td>...</td>\n",
              "      <td>...</td>\n",
              "      <td>...</td>\n",
              "      <td>...</td>\n",
              "      <td>...</td>\n",
              "      <td>...</td>\n",
              "      <td>...</td>\n",
              "      <td>...</td>\n",
              "      <td>...</td>\n",
              "      <td>...</td>\n",
              "      <td>...</td>\n",
              "      <td>...</td>\n",
              "      <td>...</td>\n",
              "      <td>...</td>\n",
              "      <td>...</td>\n",
              "      <td>...</td>\n",
              "      <td>...</td>\n",
              "    </tr>\n",
              "    <tr>\n",
              "      <th>195</th>\n",
              "      <td>196</td>\n",
              "      <td>ชาย</td>\n",
              "      <td>25</td>\n",
              "      <td>ปริญญาตรี</td>\n",
              "      <td>พนักงานบริษัทเอกชน</td>\n",
              "      <td>20000.0</td>\n",
              "      <td>590</td>\n",
              "      <td>บ้าน/หอพัก</td>\n",
              "      <td>2 - 3 วัน/สัปดาห์</td>\n",
              "      <td>3 - 4 ชม. /วัน</td>\n",
              "      <td>...</td>\n",
              "      <td>ใช้</td>\n",
              "      <td>การโพสต์ข้อความ/รูปภาพ</td>\n",
              "      <td>สำคัญมากที่สุด</td>\n",
              "      <td>สำคัญมาก</td>\n",
              "      <td>สำคัญมาก</td>\n",
              "      <td>ปานกลาง</td>\n",
              "      <td>สำคัญมากที่สุด</td>\n",
              "      <td>สำคัญมากที่สุด</td>\n",
              "      <td>สำคัญมาก</td>\n",
              "      <td>สำคัญมาก</td>\n",
              "    </tr>\n",
              "    <tr>\n",
              "      <th>196</th>\n",
              "      <td>197</td>\n",
              "      <td>หญิง</td>\n",
              "      <td>24</td>\n",
              "      <td>ปริญญาตรี</td>\n",
              "      <td>พนักงานบริษัทเอกชน</td>\n",
              "      <td>18000.0</td>\n",
              "      <td>500</td>\n",
              "      <td>บ้าน/หอพัก</td>\n",
              "      <td>4 - 6 วัน/สัปดาห์</td>\n",
              "      <td>3 - 4 ชม. /วัน</td>\n",
              "      <td>...</td>\n",
              "      <td>ใช้</td>\n",
              "      <td>การโพสต์ข้อความ/รูปภาพ</td>\n",
              "      <td>สำคัญมากที่สุด</td>\n",
              "      <td>สำคัญมาก</td>\n",
              "      <td>สำคัญมาก</td>\n",
              "      <td>สำคัญน้อยที่สุด</td>\n",
              "      <td>สำคัญมากที่สุด</td>\n",
              "      <td>สำคัญมากที่สุด</td>\n",
              "      <td>สำคัญมากที่สุด</td>\n",
              "      <td>สำคัญมาก</td>\n",
              "    </tr>\n",
              "    <tr>\n",
              "      <th>197</th>\n",
              "      <td>198</td>\n",
              "      <td>ชาย</td>\n",
              "      <td>17</td>\n",
              "      <td>มัธยมปลายหรือเทียบเท่า</td>\n",
              "      <td>นักเรียน/นักศึกษา</td>\n",
              "      <td>10000.0</td>\n",
              "      <td>590</td>\n",
              "      <td>บ้าน/หอพัก</td>\n",
              "      <td>ทุกวัน</td>\n",
              "      <td>มากกว่า 4 ชม./วัน</td>\n",
              "      <td>...</td>\n",
              "      <td>ใช้</td>\n",
              "      <td>การโพสต์ข้อความ/รูปภาพ</td>\n",
              "      <td>สำคัญมากที่สุด</td>\n",
              "      <td>ปานกลาง</td>\n",
              "      <td>สำคัญมาก</td>\n",
              "      <td>สำคัญมาก</td>\n",
              "      <td>สำคัญมากที่สุด</td>\n",
              "      <td>สำคัญมากที่สุด</td>\n",
              "      <td>สำคัญมากที่สุด</td>\n",
              "      <td>สำคัญมาก</td>\n",
              "    </tr>\n",
              "    <tr>\n",
              "      <th>198</th>\n",
              "      <td>199</td>\n",
              "      <td>ชาย</td>\n",
              "      <td>25</td>\n",
              "      <td>ปริญญาตรี</td>\n",
              "      <td>พนักงานบริษัทเอกชน</td>\n",
              "      <td>20000.0</td>\n",
              "      <td>650</td>\n",
              "      <td>บ้าน/หอพัก</td>\n",
              "      <td>ทุกวัน</td>\n",
              "      <td>มากกว่า 4 ชม./วัน</td>\n",
              "      <td>...</td>\n",
              "      <td>ใช้</td>\n",
              "      <td>การโพสต์ข้อความ/รูปภาพ</td>\n",
              "      <td>สำคัญมากที่สุด</td>\n",
              "      <td>ปานกลาง</td>\n",
              "      <td>ปานกลาง</td>\n",
              "      <td>สำคัญมาก</td>\n",
              "      <td>สำคัญมากที่สุด</td>\n",
              "      <td>สำคัญมากที่สุด</td>\n",
              "      <td>สำคัญมากที่สุด</td>\n",
              "      <td>สำคัญมากที่สุด</td>\n",
              "    </tr>\n",
              "    <tr>\n",
              "      <th>199</th>\n",
              "      <td>200</td>\n",
              "      <td>หญิง</td>\n",
              "      <td>25</td>\n",
              "      <td>ปริญญาตรี</td>\n",
              "      <td>พนักงานบริษัทเอกชน</td>\n",
              "      <td>20000.0</td>\n",
              "      <td>590</td>\n",
              "      <td>บ้าน/หอพัก</td>\n",
              "      <td>ทุกวัน</td>\n",
              "      <td>1 - 2 ชม. /วัน</td>\n",
              "      <td>...</td>\n",
              "      <td>ใช้</td>\n",
              "      <td>การโพสต์ข้อความ/รูปภาพ</td>\n",
              "      <td>สำคัญมากที่สุด</td>\n",
              "      <td>ปานกลาง</td>\n",
              "      <td>ปานกลาง</td>\n",
              "      <td>ปานกลาง</td>\n",
              "      <td>สำคัญมากที่สุด</td>\n",
              "      <td>สำคัญมากที่สุด</td>\n",
              "      <td>ปานกลาง</td>\n",
              "      <td>สำคัญน้อยที่สุด</td>\n",
              "    </tr>\n",
              "  </tbody>\n",
              "</table>\n",
              "<p>200 rows × 21 columns</p>\n",
              "</div>\n",
              "      <button class=\"colab-df-convert\" onclick=\"convertToInteractive('df-b771aa30-0552-461c-821c-58d9017b2ea1')\"\n",
              "              title=\"Convert this dataframe to an interactive table.\"\n",
              "              style=\"display:none;\">\n",
              "\n",
              "  <svg xmlns=\"http://www.w3.org/2000/svg\" height=\"24px\"viewBox=\"0 0 24 24\"\n",
              "       width=\"24px\">\n",
              "    <path d=\"M0 0h24v24H0V0z\" fill=\"none\"/>\n",
              "    <path d=\"M18.56 5.44l.94 2.06.94-2.06 2.06-.94-2.06-.94-.94-2.06-.94 2.06-2.06.94zm-11 1L8.5 8.5l.94-2.06 2.06-.94-2.06-.94L8.5 2.5l-.94 2.06-2.06.94zm10 10l.94 2.06.94-2.06 2.06-.94-2.06-.94-.94-2.06-.94 2.06-2.06.94z\"/><path d=\"M17.41 7.96l-1.37-1.37c-.4-.4-.92-.59-1.43-.59-.52 0-1.04.2-1.43.59L10.3 9.45l-7.72 7.72c-.78.78-.78 2.05 0 2.83L4 21.41c.39.39.9.59 1.41.59.51 0 1.02-.2 1.41-.59l7.78-7.78 2.81-2.81c.8-.78.8-2.07 0-2.86zM5.41 20L4 18.59l7.72-7.72 1.47 1.35L5.41 20z\"/>\n",
              "  </svg>\n",
              "      </button>\n",
              "\n",
              "\n",
              "\n",
              "    <div id=\"df-b024f4b4-6c19-4682-9cec-bba574abea56\">\n",
              "      <button class=\"colab-df-quickchart\" onclick=\"quickchart('df-b024f4b4-6c19-4682-9cec-bba574abea56')\"\n",
              "              title=\"Suggest charts.\"\n",
              "              style=\"display:none;\">\n",
              "\n",
              "<svg xmlns=\"http://www.w3.org/2000/svg\" height=\"24px\"viewBox=\"0 0 24 24\"\n",
              "     width=\"24px\">\n",
              "    <g>\n",
              "        <path d=\"M19 3H5c-1.1 0-2 .9-2 2v14c0 1.1.9 2 2 2h14c1.1 0 2-.9 2-2V5c0-1.1-.9-2-2-2zM9 17H7v-7h2v7zm4 0h-2V7h2v10zm4 0h-2v-4h2v4z\"/>\n",
              "    </g>\n",
              "</svg>\n",
              "      </button>\n",
              "    </div>\n",
              "\n",
              "<style>\n",
              "  .colab-df-quickchart {\n",
              "    background-color: #E8F0FE;\n",
              "    border: none;\n",
              "    border-radius: 50%;\n",
              "    cursor: pointer;\n",
              "    display: none;\n",
              "    fill: #1967D2;\n",
              "    height: 32px;\n",
              "    padding: 0 0 0 0;\n",
              "    width: 32px;\n",
              "  }\n",
              "\n",
              "  .colab-df-quickchart:hover {\n",
              "    background-color: #E2EBFA;\n",
              "    box-shadow: 0px 1px 2px rgba(60, 64, 67, 0.3), 0px 1px 3px 1px rgba(60, 64, 67, 0.15);\n",
              "    fill: #174EA6;\n",
              "  }\n",
              "\n",
              "  [theme=dark] .colab-df-quickchart {\n",
              "    background-color: #3B4455;\n",
              "    fill: #D2E3FC;\n",
              "  }\n",
              "\n",
              "  [theme=dark] .colab-df-quickchart:hover {\n",
              "    background-color: #434B5C;\n",
              "    box-shadow: 0px 1px 3px 1px rgba(0, 0, 0, 0.15);\n",
              "    filter: drop-shadow(0px 1px 2px rgba(0, 0, 0, 0.3));\n",
              "    fill: #FFFFFF;\n",
              "  }\n",
              "</style>\n",
              "\n",
              "    <script>\n",
              "      async function quickchart(key) {\n",
              "        const containerElement = document.querySelector('#' + key);\n",
              "        const charts = await google.colab.kernel.invokeFunction(\n",
              "            'suggestCharts', [key], {});\n",
              "      }\n",
              "    </script>\n",
              "\n",
              "      <script>\n",
              "\n",
              "function displayQuickchartButton(domScope) {\n",
              "  let quickchartButtonEl =\n",
              "    domScope.querySelector('#df-b024f4b4-6c19-4682-9cec-bba574abea56 button.colab-df-quickchart');\n",
              "  quickchartButtonEl.style.display =\n",
              "    google.colab.kernel.accessAllowed ? 'block' : 'none';\n",
              "}\n",
              "\n",
              "        displayQuickchartButton(document);\n",
              "      </script>\n",
              "      <style>\n",
              "    .colab-df-container {\n",
              "      display:flex;\n",
              "      flex-wrap:wrap;\n",
              "      gap: 12px;\n",
              "    }\n",
              "\n",
              "    .colab-df-convert {\n",
              "      background-color: #E8F0FE;\n",
              "      border: none;\n",
              "      border-radius: 50%;\n",
              "      cursor: pointer;\n",
              "      display: none;\n",
              "      fill: #1967D2;\n",
              "      height: 32px;\n",
              "      padding: 0 0 0 0;\n",
              "      width: 32px;\n",
              "    }\n",
              "\n",
              "    .colab-df-convert:hover {\n",
              "      background-color: #E2EBFA;\n",
              "      box-shadow: 0px 1px 2px rgba(60, 64, 67, 0.3), 0px 1px 3px 1px rgba(60, 64, 67, 0.15);\n",
              "      fill: #174EA6;\n",
              "    }\n",
              "\n",
              "    [theme=dark] .colab-df-convert {\n",
              "      background-color: #3B4455;\n",
              "      fill: #D2E3FC;\n",
              "    }\n",
              "\n",
              "    [theme=dark] .colab-df-convert:hover {\n",
              "      background-color: #434B5C;\n",
              "      box-shadow: 0px 1px 3px 1px rgba(0, 0, 0, 0.15);\n",
              "      filter: drop-shadow(0px 1px 2px rgba(0, 0, 0, 0.3));\n",
              "      fill: #FFFFFF;\n",
              "    }\n",
              "  </style>\n",
              "\n",
              "      <script>\n",
              "        const buttonEl =\n",
              "          document.querySelector('#df-b771aa30-0552-461c-821c-58d9017b2ea1 button.colab-df-convert');\n",
              "        buttonEl.style.display =\n",
              "          google.colab.kernel.accessAllowed ? 'block' : 'none';\n",
              "\n",
              "        async function convertToInteractive(key) {\n",
              "          const element = document.querySelector('#df-b771aa30-0552-461c-821c-58d9017b2ea1');\n",
              "          const dataTable =\n",
              "            await google.colab.kernel.invokeFunction('convertToInteractive',\n",
              "                                                     [key], {});\n",
              "          if (!dataTable) return;\n",
              "\n",
              "          const docLinkHtml = 'Like what you see? Visit the ' +\n",
              "            '<a target=\"_blank\" href=https://colab.research.google.com/notebooks/data_table.ipynb>data table notebook</a>'\n",
              "            + ' to learn more about interactive tables.';\n",
              "          element.innerHTML = '';\n",
              "          dataTable['output_type'] = 'display_data';\n",
              "          await google.colab.output.renderOutput(dataTable, element);\n",
              "          const docLink = document.createElement('div');\n",
              "          docLink.innerHTML = docLinkHtml;\n",
              "          element.appendChild(docLink);\n",
              "        }\n",
              "      </script>\n",
              "    </div>\n",
              "  </div>\n"
            ]
          },
          "metadata": {},
          "execution_count": 4
        }
      ]
    },
    {
      "cell_type": "markdown",
      "id": "abc6bbaf",
      "metadata": {
        "id": "abc6bbaf"
      },
      "source": [
        "ข้อมูลมีค่าว่างไหม"
      ]
    },
    {
      "cell_type": "code",
      "execution_count": 5,
      "id": "edd3ac3c",
      "metadata": {
        "id": "edd3ac3c",
        "outputId": "638ef02b-7ef3-4d97-fc09-022216c28a82",
        "colab": {
          "base_uri": "https://localhost:8080/"
        }
      },
      "outputs": [
        {
          "output_type": "execute_result",
          "data": {
            "text/plain": [
              "No              0\n",
              "GENDER          0\n",
              "AGE             0\n",
              "EDUCATION       0\n",
              "CAREER          0\n",
              "SALARY          3\n",
              "INTERNET_PAY    0\n",
              "PLACE           1\n",
              "TIME            0\n",
              "HOUR            2\n",
              "KNOWN           0\n",
              "APPLICATIONS    0\n",
              "TYPE            2\n",
              "(F1)            0\n",
              "(F2)            0\n",
              "(F3)            0\n",
              "(F4)            0\n",
              "(F5)            0\n",
              "(O1)            0\n",
              "(O2)            0\n",
              "(O3)            0\n",
              "dtype: int64"
            ]
          },
          "metadata": {},
          "execution_count": 5
        }
      ],
      "source": [
        "Facebook.isnull().sum()"
      ]
    },
    {
      "cell_type": "code",
      "source": [
        "Facebook.shape"
      ],
      "metadata": {
        "id": "OqHoJYGaTcAs",
        "outputId": "78d06142-cedd-48b8-b78c-5f9b60a5822b",
        "colab": {
          "base_uri": "https://localhost:8080/"
        }
      },
      "id": "OqHoJYGaTcAs",
      "execution_count": 12,
      "outputs": [
        {
          "output_type": "execute_result",
          "data": {
            "text/plain": [
              "(200, 21)"
            ]
          },
          "metadata": {},
          "execution_count": 12
        }
      ]
    },
    {
      "cell_type": "markdown",
      "id": "e2c7f8b3",
      "metadata": {
        "id": "e2c7f8b3"
      },
      "source": [
        "สร้างข้อมูลใหม่ โดยนำคอลัมน์ที่มีค่าสูญหายออกให้หมด"
      ]
    },
    {
      "cell_type": "code",
      "execution_count": null,
      "id": "180b0434",
      "metadata": {
        "id": "180b0434"
      },
      "outputs": [],
      "source": [
        "Facebook1 = Facebook.dropna(axis=1)\n",
        "print(Facebook1)"
      ]
    },
    {
      "cell_type": "markdown",
      "id": "03927e3c",
      "metadata": {
        "id": "03927e3c"
      },
      "source": [
        "สร้างข้อมูลใหม่ โดยนำแถวที่มีค่าสูญหายออกให้หมด"
      ]
    },
    {
      "cell_type": "code",
      "execution_count": null,
      "id": "cb73d763",
      "metadata": {
        "id": "cb73d763"
      },
      "outputs": [],
      "source": [
        "Facebook2 = Facebook.dropna(axis=1)\n",
        "print(Facebook2)"
      ]
    },
    {
      "cell_type": "markdown",
      "id": "18d7895e",
      "metadata": {
        "id": "18d7895e"
      },
      "source": [
        "จากข้อมูลตั้งต้น ให้เติมค่าว่างด้วย Mean, Median, หรือ Mode ของแต่ละคอลัมน์ตามความเหมาะสม"
      ]
    },
    {
      "cell_type": "code",
      "source": [
        "Facebook[['SALARY']] = Facebook[['SALARY']].fillna(Facebook['SALARY'].mean)\n",
        "Facebook[['PLACE']] = Facebook[['PLACE']].fillna(Facebook[['PLACE']].mode().iloc[0,0])\n",
        "Facebook[['HOUR']] = Facebook[['HOUR']].fillna(Facebook[['HOUR']].mode().iloc[0,0])\n",
        "Facebook[['TYPE']] = Facebook[['TYPE']].fillna(Facebook[['TYPE']].mode().iloc[0,0])\n"
      ],
      "metadata": {
        "id": "J78diTQ9T_et"
      },
      "id": "J78diTQ9T_et",
      "execution_count": 18,
      "outputs": []
    },
    {
      "cell_type": "code",
      "source": [
        "Facebook.isnull().sum()"
      ],
      "metadata": {
        "id": "kQMoq90CVbSk",
        "outputId": "8d66f41a-28ee-4ede-9fa6-afa7e8463839",
        "colab": {
          "base_uri": "https://localhost:8080/"
        }
      },
      "id": "kQMoq90CVbSk",
      "execution_count": 19,
      "outputs": [
        {
          "output_type": "execute_result",
          "data": {
            "text/plain": [
              "No              0\n",
              "GENDER          0\n",
              "AGE             0\n",
              "EDUCATION       0\n",
              "CAREER          0\n",
              "SALARY          0\n",
              "INTERNET_PAY    0\n",
              "PLACE           0\n",
              "TIME            0\n",
              "HOUR            0\n",
              "KNOWN           0\n",
              "APPLICATIONS    0\n",
              "TYPE            0\n",
              "(F1)            0\n",
              "(F2)            0\n",
              "(F3)            0\n",
              "(F4)            0\n",
              "(F5)            0\n",
              "(O1)            0\n",
              "(O2)            0\n",
              "(O3)            0\n",
              "dtype: int64"
            ]
          },
          "metadata": {},
          "execution_count": 19
        }
      ]
    },
    {
      "cell_type": "markdown",
      "id": "d5907b58",
      "metadata": {
        "id": "d5907b58"
      },
      "source": [
        "จากข้อมูลที่เติมค่าสูญหายเรียบร้อยแล้ว ให้สร้างข้อมูลใหม่ที่ทำการลงรหัสของ Factor (F1 - F5) และ Objective (O1 - O3) ทั้งหมด ตาม Sheet คู่มือลงรหัส"
      ]
    },
    {
      "cell_type": "code",
      "execution_count": 20,
      "id": "5c95cf7e",
      "metadata": {
        "id": "5c95cf7e"
      },
      "outputs": [],
      "source": [
        "value = {\n",
        "    'สำคัญน้อยที่สุด': '1',\n",
        "    'สำคัญน้อย': '2',\n",
        "    'ปานกลาง': '3',\n",
        "    'สำคัญมาก': '4',\n",
        "    'สำคัญมากที่สุด': '5'\n",
        "}\n",
        "Facebook['F1'] = Facebook['(F1)'].map(value)\n",
        "Facebook['F2'] = Facebook['(F2)'].map(value)\n",
        "Facebook['F3'] = Facebook['(F3)'].map(value)\n",
        "Facebook['F4'] = Facebook['(F4)'].map(value)\n",
        "Facebook['F5'] = Facebook['(F5)'].map(value)\n",
        "Facebook['O1'] = Facebook['(O1)'].map(value)\n",
        "Facebook['O2'] = Facebook['(O2)'].map(value)\n",
        "Facebook['O3'] = Facebook['(O3)'].map(value)"
      ]
    },
    {
      "cell_type": "code",
      "source": [
        "Facebook"
      ],
      "metadata": {
        "id": "E3qW00WNWNin"
      },
      "id": "E3qW00WNWNin",
      "execution_count": null,
      "outputs": []
    },
    {
      "cell_type": "markdown",
      "id": "db52fd4d",
      "metadata": {
        "id": "db52fd4d"
      },
      "source": [
        "จากข้อมูลที่เติมค่าสูญหายเรียบร้อยแล้ว ให้สร้าง plot แสดงความถี่ของตัวแปรเพศของผู้ใช้เฟซบุ๊ค"
      ]
    },
    {
      "cell_type": "code",
      "source": [
        "import matplotlib.pyplot as plt\n",
        "import numpy as np"
      ],
      "metadata": {
        "id": "7JUpMQ2itjP8"
      },
      "execution_count": 27,
      "outputs": [],
      "id": "7JUpMQ2itjP8"
    },
    {
      "cell_type": "code",
      "source": [
        "count = Facebook['GENDER'].value_counts()\n",
        "count"
      ],
      "metadata": {
        "id": "OYjU1T7Wa5Qt",
        "outputId": "419fd34b-ea67-429c-aa80-c7fbbf9bff11",
        "colab": {
          "base_uri": "https://localhost:8080/"
        }
      },
      "id": "OYjU1T7Wa5Qt",
      "execution_count": 32,
      "outputs": [
        {
          "output_type": "execute_result",
          "data": {
            "text/plain": [
              "หญิง    100\n",
              "ชาย     100\n",
              "Name: GENDER, dtype: int64"
            ]
          },
          "metadata": {},
          "execution_count": 32
        }
      ]
    },
    {
      "cell_type": "code",
      "source": [
        "lables = [\"Women\",\"Man\"]\n",
        "plt.pie(count, labels = lables, autopct='%1.1f%%')\n",
        "plt.title('gender')\n",
        "plt.show()"
      ],
      "metadata": {
        "id": "pGqI-XRkbeOn",
        "outputId": "6fb4fb3d-1ffa-4e6a-fda2-3bbb97b63134",
        "colab": {
          "base_uri": "https://localhost:8080/",
          "height": 428
        }
      },
      "id": "pGqI-XRkbeOn",
      "execution_count": 41,
      "outputs": [
        {
          "output_type": "display_data",
          "data": {
            "text/plain": [
              "<Figure size 640x480 with 1 Axes>"
            ],
            "image/png": "[encoded data removed]"
          },
          "metadata": {}
        }
      ]
    },
    {
      "cell_type": "markdown",
      "id": "8f2e8514",
      "metadata": {
        "id": "8f2e8514"
      },
      "source": [
        "จากข้อมูลที่เติมค่าสูญหายเรียบร้อยแล้ว ให้สร้าง box plot แสดงการแจกแจงของตัวแปรอายุของผู้ใช้เฟซบุ๊ค"
      ]
    },
    {
      "cell_type": "code",
      "source": [
        "import pandas as pd\n",
        "import matplotlib.pyplot as plt"
      ],
      "metadata": {
        "id": "zZv93bs-1bQk"
      },
      "execution_count": 42,
      "outputs": [],
      "id": "zZv93bs-1bQk"
    },
    {
      "cell_type": "code",
      "source": [
        "Facebook.boxplot(column='AGE')\n",
        "plt.show()"
      ],
      "metadata": {
        "colab": {
          "base_uri": "https://localhost:8080/",
          "height": 430
        },
        "id": "XEaWiuJN1flt",
        "outputId": "07d5d0e1-9579-4286-af37-a3df06a6bc2d"
      },
      "execution_count": 43,
      "outputs": [
        {
          "output_type": "display_data",
          "data": {
            "text/plain": [
              "<Figure size 640x480 with 1 Axes>"
            ],
            "image/png": "[encoded data removed]"
          },
          "metadata": {}
        }
      ],
      "id": "XEaWiuJN1flt"
    },
    {
      "cell_type": "markdown",
      "id": "25863b47",
      "metadata": {
        "id": "25863b47"
      },
      "source": [
        "จากข้อมูลที่เติมค่าสูญหายเรียบร้อยแล้ว ให้สร้าง bar plot แสดงความถี่ของประเภทการใช้งานแบบต่าง ๆ (TYPE)"
      ]
    },
    {
      "cell_type": "code",
      "execution_count": 45,
      "metadata": {
        "colab": {
          "base_uri": "https://localhost:8080/",
          "height": 607
        },
        "outputId": "c169bb67-fabf-4dba-c48e-85db53b213a8",
        "id": "k2cZB8l5cYeb"
      },
      "outputs": [
        {
          "output_type": "display_data",
          "data": {
            "text/plain": [
              "<Figure size 640x480 with 1 Axes>"
            ],
            "image/png": "[encoded data removed]"
          },
          "metadata": {}
        }
      ],
      "source": [
        "Facebook.loc[Facebook['TYPE'] == \"การโพสต์ข้อความ/รูปภาพ\", 'TYPE'] = \"Posting text/images\"\n",
        "Facebook.loc[Facebook['TYPE'] == \"เกมส์ที่เน้นการได้คะแนนสูงสุด\", 'TYPE'] = \"Thehighest score Games\"\n",
        "Facebook.loc[Facebook['TYPE'] == \"การส่งของขวัญ\", 'TYPE'] = \"sending gifts\"\n",
        "Facebook.loc[Facebook['TYPE'] == \"เกมส์ที่เน้นการมีเพื่อนมากที่สุด\", 'TYPE'] = \"the most friends Games\"\n",
        "\n",
        "\n",
        "Facebook['TYPE'].value_counts().plot(kind='bar')\n",
        "plt.xlabel('Type')\n",
        "plt.ylabel('Frequency')\n",
        "plt.show()"
      ],
      "id": "k2cZB8l5cYeb"
    },
    {
      "cell_type": "code",
      "source": [
        "Facebook['TYPE'].value_counts()"
      ],
      "metadata": {
        "id": "3QtsEhV_c-0H",
        "outputId": "572455ae-bf8e-46fd-db19-36acf0e800d0",
        "colab": {
          "base_uri": "https://localhost:8080/"
        }
      },
      "id": "3QtsEhV_c-0H",
      "execution_count": 46,
      "outputs": [
        {
          "output_type": "execute_result",
          "data": {
            "text/plain": [
              "Posting text/images       161\n",
              "Thehighest score Games     32\n",
              "sending gifts               4\n",
              "the most friends Games      3\n",
              "Name: TYPE, dtype: int64"
            ]
          },
          "metadata": {},
          "execution_count": 46
        }
      ]
    },
    {
      "cell_type": "markdown",
      "id": "4da73332",
      "metadata": {
        "id": "4da73332"
      },
      "source": [
        "จากข้อมูลที่เติมค่าสูญหายเรียบร้อยแล้ว ให้สร้างตารางสรุปค่า Factor และ Objective ทั้งหมด"
      ]
    },
    {
      "cell_type": "code",
      "source": [
        "summary = Facebook[['F1','F2','F3','F4','F5','O1','O2','O3']]\n",
        "print(summary)"
      ],
      "metadata": {
        "colab": {
          "base_uri": "https://localhost:8080/"
        },
        "id": "dkd36hpGONQr",
        "outputId": "1bd28d98-89a1-42cc-b7be-331e41ba6b1a"
      },
      "execution_count": 47,
      "outputs": [
        {
          "output_type": "stream",
          "name": "stdout",
          "text": [
            "    F1 F2 F3 F4 F5 O1 O2 O3\n",
            "0    4  3  3  3  5  5  4  1\n",
            "1    5  4  3  3  5  5  5  2\n",
            "2    4  3  1  2  4  5  3  1\n",
            "3    5  3  5  4  5  5  5  3\n",
            "4    5  3  4  4  5  5  5  3\n",
            "..  .. .. .. .. .. .. .. ..\n",
            "195  5  4  4  3  5  5  4  4\n",
            "196  5  4  4  1  5  5  5  4\n",
            "197  5  3  4  4  5  5  5  4\n",
            "198  5  3  3  4  5  5  5  5\n",
            "199  5  3  3  3  5  5  3  1\n",
            "\n",
            "[200 rows x 8 columns]\n"
          ]
        }
      ],
      "id": "dkd36hpGONQr"
    },
    {
      "cell_type": "markdown",
      "id": "63724c94",
      "metadata": {
        "id": "63724c94"
      },
      "source": [
        "จากข้อมูลที่เติมค่าสูญหายเรียบร้อยแล้ว ให้สร้างตารางสรุปค่า Factor และ Objective ทั้งหมด โดยแบ่งการพิจารณาตามเพศ"
      ]
    },
    {
      "cell_type": "code",
      "execution_count": 48,
      "id": "a78fd31b",
      "metadata": {
        "id": "a78fd31b",
        "outputId": "db6199a2-8c40-4dab-fd48-2eaf6077c646",
        "colab": {
          "base_uri": "https://localhost:8080/"
        }
      },
      "outputs": [
        {
          "output_type": "stream",
          "name": "stdout",
          "text": [
            "  GENDER            F1                           F2                 \\\n",
            "                  mean median min max          mean median min max   \n",
            "0    ชาย  4.555556e+97    5.0   4   5  3.343445e+97    4.0   3   5   \n",
            "1   หญิง  4.555555e+97    5.0   4   5  3.433343e+97    4.0   3   5   \n",
            "\n",
            "             F3  ...  O1                O2                           O3  \\\n",
            "           mean  ... min max          mean median min max          mean   \n",
            "0  1.444444e+97  ...   4   5  3.555556e+97    5.0   3   5  1.345456e+97   \n",
            "1  3.353434e+97  ...   4   5  4.555555e+97    5.0   3   5  1.232331e+97   \n",
            "\n",
            "                  \n",
            "  median min max  \n",
            "0    4.0   1   5  \n",
            "1    3.0   1   5  \n",
            "\n",
            "[2 rows x 33 columns]\n"
          ]
        }
      ],
      "source": [
        "summary_gender = Facebook.groupby('GENDER')[['F1', 'F2', 'F3', 'F4', 'F5', 'O1', 'O2', 'O3']].agg(['mean', 'median', 'min', 'max']).reset_index()\n",
        "print(summary_gender)"
      ]
    },
    {
      "cell_type": "markdown",
      "id": "01e86710",
      "metadata": {
        "id": "01e86710"
      },
      "source": [
        "จากข้อมูลที่เติมค่าสูญหายเรียบร้อยแล้ว ให้สร้างตารางสรุปรายได้ของผู้ใช้เฟซบุ๊คตามผู้ที่มีประเภทการใช้งานแบบต่าง ๆ กัน พร้อมทั้งสร้างแผนภาพประกอบให้เข้าใจผลได้ง่ายขึ้น ให้เขียนอธิบายสั้น ๆ จากสิ่งที่พบเห็น"
      ]
    },
    {
      "cell_type": "code",
      "execution_count": 49,
      "id": "c65fcf21",
      "metadata": {
        "id": "c65fcf21",
        "outputId": "86a01036-ca86-46fb-9817-91387fd546a0",
        "colab": {
          "base_uri": "https://localhost:8080/"
        }
      },
      "outputs": [
        {
          "output_type": "execute_result",
          "data": {
            "text/plain": [
              "0         Posting text/images\n",
              "1         Posting text/images\n",
              "2         Posting text/images\n",
              "3      Thehighest score Games\n",
              "4         Posting text/images\n",
              "                ...          \n",
              "195       Posting text/images\n",
              "196       Posting text/images\n",
              "197       Posting text/images\n",
              "198       Posting text/images\n",
              "199       Posting text/images\n",
              "Name: TYPE, Length: 200, dtype: object"
            ]
          },
          "metadata": {},
          "execution_count": 49
        }
      ],
      "source": [
        "Facebook['TYPE']"
      ]
    },
    {
      "cell_type": "code",
      "source": [
        "Facebook['SALARY'] = pd.to_numeric(Facebook['SALARY'], errors='coerce')\n",
        "summary0 = Facebook.groupby('TYPE')['SALARY'].mean().reset_index()\n",
        "\n",
        "mcolr = [\"black\", \"black\",\"#EE1FC9\", \"black\"]\n",
        "plt.bar(summary0['TYPE'], summary0['SALARY'],color=mcolr)\n",
        "plt.xlabel('SALARY')\n",
        "plt.ylabel('TYPE')\n",
        "plt.title('The average income of Facebook users by usage type')\n",
        "plt.show()"
      ],
      "metadata": {
        "colab": {
          "base_uri": "https://localhost:8080/",
          "height": 472
        },
        "id": "Y05PzWDu_8AY",
        "outputId": "0bd32e5d-f098-44d0-8d9c-6623513d0c55"
      },
      "execution_count": 53,
      "outputs": [
        {
          "output_type": "display_data",
          "data": {
            "text/plain": [
              "<Figure size 640x480 with 1 Axes>"
            ],
            "image/png": "[encoded data removed]"
          },
          "metadata": {}
        }
      ],
      "id": "Y05PzWDu_8AY"
    },
    {
      "cell_type": "markdown",
      "id": "a1ae2f33",
      "metadata": {
        "id": "a1ae2f33"
      },
      "source": [
        "เลือกทำการสร้างตารางและรูปภาพที่สรุปผลจากข้อมูลมาอย่างละ 2 แบบ พร้อมเขียนบรรยายสั้น ๆ หากมีการทำงานร่วมกับเพื่อน ให้ทำออกมาให้ไม่ซ้ำกัน"
      ]
    },
    {
      "cell_type": "code",
      "source": [
        "set(Facebook['CAREER'])"
      ],
      "metadata": {
        "colab": {
          "base_uri": "https://localhost:8080/"
        },
        "id": "IU4uRo0PAi2H",
        "outputId": "45cd7fb7-fb44-447b-c5ae-0eb4190ff2b1"
      },
      "execution_count": 54,
      "outputs": [
        {
          "output_type": "execute_result",
          "data": {
            "text/plain": [
              "{'ข้าราชการ/รัฐวิสาหกิจ',\n",
              " 'ธุรกิจส่วนตัว/',\n",
              " 'นักเรียน/นักศึกษา',\n",
              " 'พนักงานบริษัทเอกชน'}"
            ]
          },
          "metadata": {},
          "execution_count": 54
        }
      ],
      "id": "IU4uRo0PAi2H"
    },
    {
      "cell_type": "code",
      "source": [
        "Facebook.loc[Facebook['CAREER'] == \"ข้าราชการ/รัฐวิสาหกิจ\", 'CAREER'] = \"Government Employee/Public Sector\"\n",
        "Facebook.loc[Facebook['CAREER'] == \"ธุรกิจส่วนตัว/\", 'CAREER'] = \"self-employed\"\n",
        "Facebook.loc[Facebook['CAREER'] == \"นักเรียน/นักศึกษา\", 'CAREER'] = \"Students\"\n",
        "Facebook.loc[Facebook['CAREER'] == \"พนักงานบริษัทเอกชน\", 'CAREER'] = \"Company Employees\"\n"
      ],
      "metadata": {
        "id": "mX6fSfigAx_j"
      },
      "execution_count": 55,
      "outputs": [],
      "id": "mX6fSfigAx_j"
    },
    {
      "cell_type": "code",
      "execution_count": 59,
      "metadata": {
        "colab": {
          "base_uri": "https://localhost:8080/",
          "height": 413
        },
        "outputId": "4029ccf3-f1df-42d8-f794-d8e770e9f2fe",
        "id": "zW0weStVe-8z"
      },
      "outputs": [
        {
          "output_type": "display_data",
          "data": {
            "text/plain": [
              "<Figure size 640x480 with 1 Axes>"
            ],
            "image/png": "[encoded data removed]"
          },
          "metadata": {}
        }
      ],
      "source": [
        "#ธุรกิจส่วนตัวมีเงินเดือนมากสุด\n",
        "Facebook.rename(columns={'CAREER ': 'CAREER'}, inplace=True)\n",
        "income = Facebook.groupby('CAREER')['SALARY'].mean().reset_index()\n",
        "\n",
        "mycolorr = [\"black\", \"black\",\"black\", \"yellow\"]\n",
        "plt.barh(income['CAREER'], income['SALARY'],color=mycolorr)\n",
        "plt.xlabel('SALARY')\n",
        "plt.ylabel('CAREER')\n",
        "plt.show()\n"
      ],
      "id": "zW0weStVe-8z"
    },
    {
      "cell_type": "code",
      "execution_count": 74,
      "metadata": {
        "colab": {
          "base_uri": "https://localhost:8080/",
          "height": 413
        },
        "outputId": "1389ad5e-585a-417c-9f7a-062d8551d0b6",
        "id": "KCouiKe9kiOm"
      },
      "outputs": [
        {
          "output_type": "display_data",
          "data": {
            "text/plain": [
              "<Figure size 640x480 with 1 Axes>"
            ],
            "image/png": "[encoded data removed]"
          },
          "metadata": {}
        }
      ],
      "source": [
        "#อายุของอาชีพส่วนมากอาชีพธุรกิจส่วนตัวมีอายุมากสุด\n",
        "Facebook.rename(columns={'CAREER ': 'CAREER'}, inplace=True)\n",
        "income = Facebook.groupby('CAREER')['AGE'].mean().reset_index()\n",
        "\n",
        "mycolorsr = [\"LightGray\", \"LightGray\", \"LightGray\",\"pink\"]\n",
        "plt.barh(income['CAREER'], income['AGE'],color=mycolorsr)\n",
        "plt.xlabel('AGE')\n",
        "plt.ylabel('CAREER')\n",
        "plt.show()\n"
      ],
      "id": "KCouiKe9kiOm"
    },
    {
      "cell_type": "code",
      "execution_count": null,
      "id": "35b83053",
      "metadata": {
        "id": "35b83053"
      },
      "outputs": [],
      "source": []
    }
  ],
  "metadata": {
    "kernelspec": {
      "display_name": "Python 3 (ipykernel)",
      "language": "python",
      "name": "python3"
    },
    "language_info": {
      "codemirror_mode": {
        "name": "ipython",
        "version": 3
      },
      "file_extension": ".py",
      "mimetype": "text/x-python",
      "name": "python",
      "nbconvert_exporter": "python",
      "pygments_lexer": "ipython3",
      "version": "3.8.8"
    },
    "colab": {
      "provenance": [],
      "include_colab_link": true
    }
  },
  "nbformat": 4,
  "nbformat_minor": 5
}