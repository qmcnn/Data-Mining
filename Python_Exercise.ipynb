{
  "cells": [
    {
      "cell_type": "markdown",
      "metadata": {
        "id": "view-in-github",
        "colab_type": "text"
      },
      "source": [
        "<a href=\"https://colab.research.google.com/github/qmcnn/Data-Mining/blob/main/Python_Exercise.ipynb\" target=\"_parent\"><img src=\"https://colab.research.google.com/assets/colab-badge.svg\" alt=\"Open In Colab\"/></a>"
      ]
    },
    {
      "cell_type": "markdown",
      "id": "309e41b0",
      "metadata": {
        "id": "309e41b0"
      },
      "source": [
        "# Python Exercise"
      ]
    },
    {
      "cell_type": "code",
      "source": [
        "x = \"Chanoknan\"\n",
        "print(\"my name is\\t \",x)"
      ],
      "metadata": {
        "id": "PBZhl4XeENwv",
        "outputId": "dcf0684a-bc53-4a2a-c16f-5915ae538490",
        "colab": {
          "base_uri": "https://localhost:8080/"
        }
      },
      "id": "PBZhl4XeENwv",
      "execution_count": 4,
      "outputs": [
        {
          "output_type": "stream",
          "name": "stdout",
          "text": [
            "my name is\t  Chanoknan\n"
          ]
        }
      ]
    },
    {
      "cell_type": "code",
      "execution_count": 5,
      "id": "4d8dc97d",
      "metadata": {
        "id": "4d8dc97d",
        "outputId": "2d554961-b9f0-4452-8bba-9961e7c23e54",
        "colab": {
          "base_uri": "https://localhost:8080/"
        }
      },
      "outputs": [
        {
          "output_type": "stream",
          "name": "stdout",
          "text": [
            "The answer is 69\n",
            "\n",
            "Hello \n",
            "\n",
            "Hello World\n",
            "\n",
            "Hello\tWorld\n",
            "('Hi', 'There')\n"
          ]
        }
      ],
      "source": [
        "print(\"The answer is\", 3*23)\n",
        "print() # new line\n",
        "\n",
        "print(\"Hello\", end=\" \")\n",
        "print(\"\\n\") # new line\n",
        "\n",
        "print(\"Hello\", \"World\\n\")\n",
        "\n",
        "print(\"Hello\", \"World\", sep=\"\\t\")\n",
        "\n",
        "print((\"Hi\", \"There\"))"
      ]
    },
    {
      "cell_type": "code",
      "execution_count": 6,
      "id": "68667dea",
      "metadata": {
        "scrolled": true,
        "id": "68667dea",
        "outputId": "06134ef9-26af-46a0-e30c-a036ceac71dd",
        "colab": {
          "base_uri": "https://localhost:8080/"
        }
      },
      "outputs": [
        {
          "output_type": "stream",
          "name": "stderr",
          "text": [
            "fatal error\n"
          ]
        }
      ],
      "source": [
        "import sys\n",
        "print(\"fatal error\", file=sys.stderr) #โค้ดรันต่อไม่ได้"
      ]
    },
    {
      "cell_type": "markdown",
      "id": "0da8b16d",
      "metadata": {
        "id": "0da8b16d"
      },
      "source": [
        "Print date and time:\n",
        "https://www.w3schools.com/python/python_datetime.asp"
      ]
    },
    {
      "cell_type": "code",
      "execution_count": 7,
      "id": "eb246687",
      "metadata": {
        "id": "eb246687",
        "outputId": "3738b218-ba44-4c3f-a75f-fa4732d5c856",
        "colab": {
          "base_uri": "https://localhost:8080/"
        }
      },
      "outputs": [
        {
          "output_type": "execute_result",
          "data": {
            "text/plain": [
              "datetime.datetime(2023, 6, 30, 2, 19, 13, 27694)"
            ]
          },
          "metadata": {},
          "execution_count": 7
        }
      ],
      "source": [
        "import datetime # date , time, ดูลิ้งด้านบน\n",
        "now = datetime.datetime.now()\n",
        "now"
      ]
    },
    {
      "cell_type": "code",
      "execution_count": 4,
      "id": "a621f989",
      "metadata": {
        "id": "a621f989",
        "outputId": "15f4b4a8-9f03-4235-aae4-3888ae21fd05",
        "colab": {
          "base_uri": "https://localhost:8080/"
        }
      },
      "outputs": [
        {
          "output_type": "stream",
          "name": "stdout",
          "text": [
            "Current date and time : \n",
            "2023-06-30 02:09:59 is Friday, June 30 at 02.09 AM\n"
          ]
        }
      ],
      "source": [
        "print (\"Current date and time : \")\n",
        "print (now.strftime(\"%Y-%m-%d %H:%M:%S is %A, %B %d at %I.%M %p\"))"
      ]
    },
    {
      "cell_type": "code",
      "source": [
        "print (now.strftime(\"%a,%b %d,%Y\"))"
      ],
      "metadata": {
        "id": "mQa9s3n2HVpz",
        "outputId": "f8ae2c96-4b14-4c16-d642-449aa3b35b59",
        "colab": {
          "base_uri": "https://localhost:8080/"
        }
      },
      "id": "mQa9s3n2HVpz",
      "execution_count": 10,
      "outputs": [
        {
          "output_type": "stream",
          "name": "stdout",
          "text": [
            "Fri,Jun 30,2023\n"
          ]
        }
      ]
    },
    {
      "cell_type": "markdown",
      "id": "3dcd32c6",
      "metadata": {
        "id": "3dcd32c6"
      },
      "source": [
        "### <span style=\"color:red\">**Print the following string in a specific format**</span>\n",
        "Sample Output:\n",
        "```\n",
        "Twinkle, twinkle, little star,\n",
        "\tHow I wonder what you are!\n",
        "\t\tUp above the world so high,\n",
        "\t\tLike a diamond in the sky.\n",
        "Twinkle, twinkle, little star,\n",
        "\tHow I wonder what you are\n",
        "```"
      ]
    },
    {
      "cell_type": "markdown",
      "source": [
        "https://www.tutorialspoint.com/python/python_strings.htm"
      ],
      "metadata": {
        "id": "V32jkIbLKj5m"
      },
      "id": "V32jkIbLKj5m"
    },
    {
      "cell_type": "code",
      "execution_count": 22,
      "id": "fb8ae54f",
      "metadata": {
        "id": "fb8ae54f",
        "outputId": "2e39844f-73e3-4810-952d-782cca6772d4",
        "colab": {
          "base_uri": "https://localhost:8080/"
        }
      },
      "outputs": [
        {
          "output_type": "stream",
          "name": "stdout",
          "text": [
            "Twinkle, twinkle, little star, \n",
            "\tHow I wonder what you are! \n",
            "\t\t Up above the world so high, \n",
            "\t\tLike a diamond in the sky. \n",
            "Twinkle, twinkle, little star, \n",
            "\tHow I wonder what you are\n"
          ]
        }
      ],
      "source": [
        "print(\"Twinkle, twinkle, little star, \\n\\tHow I wonder what you are! \\n\\t\\t Up above the world so high, \\n\\t\\tLike a diamond in the sky. \\\n",
        "\\nTwinkle, twinkle, little star, \\n\\tHow I wonder what you are\")"
      ]
    },
    {
      "cell_type": "code",
      "source": [
        "print(\"Twinkle, twinkle, little star, \\\n",
        "    How I wonder what you are! \\\n",
        "        Up above the world so high, \")"
      ],
      "metadata": {
        "id": "2iOHRUG7JCy2",
        "outputId": "1515382a-5126-4e5f-b627-413dc1570b0d",
        "colab": {
          "base_uri": "https://localhost:8080/"
        }
      },
      "id": "2iOHRUG7JCy2",
      "execution_count": 11,
      "outputs": [
        {
          "output_type": "stream",
          "name": "stdout",
          "text": [
            "Twinkle, twinkle, little star,     How I wonder what you are!         Up above the world so high, \n"
          ]
        }
      ]
    },
    {
      "cell_type": "code",
      "source": [
        "print(\"\\\\t\")"
      ],
      "metadata": {
        "id": "5NVujycCKqBt",
        "outputId": "c999b483-5238-4d4a-f410-ca80180d03da",
        "colab": {
          "base_uri": "https://localhost:8080/"
        }
      },
      "id": "5NVujycCKqBt",
      "execution_count": 23,
      "outputs": [
        {
          "output_type": "stream",
          "name": "stdout",
          "text": [
            "\\t\n"
          ]
        }
      ]
    },
    {
      "cell_type": "markdown",
      "id": "51036c02",
      "metadata": {
        "id": "51036c02"
      },
      "source": [
        "Write a Python program that calculates the area of a circle based on the radius entered by the user\n",
        "\n",
        "Sample Output :\n",
        "```\n",
        "r = 1.1\n",
        "Area = 3.8013271108436504\n",
        "```"
      ]
    },
    {
      "cell_type": "code",
      "source": [
        "a = input(\"write somthing plz: \")\n",
        "print(a)\n",
        "type(a)"
      ],
      "metadata": {
        "id": "1eRiiRWiLfg9",
        "outputId": "082e8ca5-cb2d-44a5-e9a2-139b51e2f565",
        "colab": {
          "base_uri": "https://localhost:8080/"
        }
      },
      "id": "1eRiiRWiLfg9",
      "execution_count": 26,
      "outputs": [
        {
          "output_type": "stream",
          "name": "stdout",
          "text": [
            "write somthing plz: 8\n",
            "8\n"
          ]
        },
        {
          "output_type": "execute_result",
          "data": {
            "text/plain": [
              "str"
            ]
          },
          "metadata": {},
          "execution_count": 26
        }
      ]
    },
    {
      "cell_type": "code",
      "execution_count": 24,
      "id": "a5aabee3",
      "metadata": {
        "id": "a5aabee3",
        "outputId": "12110f27-0b4b-4949-a6bd-5ab1285ed357",
        "colab": {
          "base_uri": "https://localhost:8080/"
        }
      },
      "outputs": [
        {
          "output_type": "stream",
          "name": "stdout",
          "text": [
            "Input the radius of the circle : 4\n",
            "r =4.0\n",
            "Area =50.26548245743669\n"
          ]
        }
      ],
      "source": [
        "from math import pi\n",
        "r = float(input(\"Input the radius of the circle : \"))\n",
        "print (\"r =\" + str(r) + \"\\nArea =\" + str(pi * r**2))"
      ]
    },
    {
      "cell_type": "markdown",
      "id": "bb6daa0e",
      "metadata": {
        "id": "bb6daa0e"
      },
      "source": [
        "### <span style=\"color:red\">**Print first and last name in reverse order with a space between them**</span>\n",
        "Sample Output:\n",
        "```\n",
        "Input your First Name : Pitchaya                                       \n",
        "Input your Last Name : Wiratch                                        \n",
        "Hello, Wiratch Pitchaya!  \n",
        "```"
      ]
    },
    {
      "cell_type": "code",
      "execution_count": 28,
      "id": "d6b51dfb",
      "metadata": {
        "id": "d6b51dfb",
        "outputId": "0806fc1f-3c4a-4955-bf81-7beea3e196fa",
        "colab": {
          "base_uri": "https://localhost:8080/"
        }
      },
      "outputs": [
        {
          "output_type": "stream",
          "name": "stdout",
          "text": [
            "Input your First Name :cha\n",
            "Input your Last Name :mee\n",
            "Hello, cha   mee !\n"
          ]
        }
      ],
      "source": [
        "x = input(\"Input your First Name :\")\n",
        "y = input(\"Input your Last Name :\")\n",
        "print(\"Hello,\",x,\" \",y,\"!\")"
      ]
    },
    {
      "cell_type": "markdown",
      "id": "00a7e398",
      "metadata": {
        "id": "00a7e398"
      },
      "source": [
        "Write a Python program that accepts a sequence of comma-separated numbers from the user and generates a list and a tuple of those numbers\n",
        "```\n",
        "Sample data : 3, 5, 7, 23\n",
        "Output :\n",
        "List : ['3', ' 5', ' 7', ' 23']\n",
        "Tuple : ('3', ' 5', ' 7', ' 23')\n",
        "```\n",
        "Hint: using `split()`"
      ]
    },
    {
      "cell_type": "code",
      "execution_count": 32,
      "id": "72b239b3",
      "metadata": {
        "id": "72b239b3",
        "outputId": "6dd9cfeb-804e-4c56-912f-0f4c54c0c7d1",
        "colab": {
          "base_uri": "https://localhost:8080/"
        }
      },
      "outputs": [
        {
          "output_type": "stream",
          "name": "stdout",
          "text": [
            "Input some comma seprated numbers : 3, 5, 7, 23\n",
            "['3', ' 5', ' 7', ' 23']\n",
            "List :  ['3', ' 5', ' 7', ' 23']\n"
          ]
        }
      ],
      "source": [
        "values = input(\"Input some comma seprated numbers : \")\n",
        "mylist = values.split(\",\")\n",
        "print(mylist)\n",
        "#mytuple = tuple(mylist)\n",
        "print('List : ',mylist)\n",
        "#print('Tuple : ',mytuple)"
      ]
    },
    {
      "cell_type": "markdown",
      "id": "d9767ffa",
      "metadata": {
        "id": "d9767ffa"
      },
      "source": [
        "### <span style=\"color:red\">**Write a Python program that accepts a filename from the user and prints the extension of the file**</span>\n",
        "```\n",
        "Sample filename : abc.java\n",
        "Output : java\n",
        "```"
      ]
    },
    {
      "cell_type": "code",
      "execution_count": 34,
      "id": "d34132b0",
      "metadata": {
        "id": "d34132b0",
        "outputId": "124c79e4-a1ea-4e50-d6f6-463aa7648b49",
        "colab": {
          "base_uri": "https://localhost:8080/"
        }
      },
      "outputs": [
        {
          "output_type": "stream",
          "name": "stdout",
          "text": [
            "Write filename : Chanoknan.py\n",
            "Output :  py\n"
          ]
        }
      ],
      "source": [
        "filename = input(\"Write filename : \")\n",
        "print(\"Output : \", filename.split(\".\")[-1])"
      ]
    },
    {
      "cell_type": "markdown",
      "id": "e8e4e804",
      "metadata": {
        "id": "e8e4e804"
      },
      "source": [
        "### <span style=\"color:red\">**Write a Python program to display the first and last colors from the following list**</span>"
      ]
    },
    {
      "cell_type": "code",
      "execution_count": 36,
      "id": "a1e83b3c",
      "metadata": {
        "id": "a1e83b3c"
      },
      "outputs": [],
      "source": [
        "color_list = [\"Red\",\"Green\",\"White\" ,\"Black\"]"
      ]
    },
    {
      "cell_type": "code",
      "execution_count": 39,
      "id": "10aabdcc",
      "metadata": {
        "id": "10aabdcc",
        "outputId": "46303fea-1e2f-49c5-ceba-1e2f1eebf124",
        "colab": {
          "base_uri": "https://localhost:8080/"
        }
      },
      "outputs": [
        {
          "output_type": "stream",
          "name": "stdout",
          "text": [
            "First color is  Red last color is Black\n"
          ]
        }
      ],
      "source": [
        "print(\"First color is \",color_list[0],\"last color is\",color_list[3])"
      ]
    },
    {
      "cell_type": "markdown",
      "id": "1b03e5c9",
      "metadata": {
        "id": "1b03e5c9"
      },
      "source": [
        "Write a Python program that prints the calendar for a given month and year\n",
        "<p>Note : Use 'calendar' module."
      ]
    },
    {
      "cell_type": "code",
      "execution_count": 43,
      "id": "392a634e",
      "metadata": {
        "id": "392a634e",
        "outputId": "6b8c4a34-5129-4ea7-9116-9ed7bc1d28c9",
        "colab": {
          "base_uri": "https://localhost:8080/"
        }
      },
      "outputs": [
        {
          "output_type": "stream",
          "name": "stdout",
          "text": [
            "Input the year : 2020\n",
            "Input the month : 3\n",
            "     March 2020\n",
            "Mo Tu We Th Fr Sa Su\n",
            "                   1\n",
            " 2  3  4  5  6  7  8\n",
            " 9 10 11 12 13 14 15\n",
            "16 17 18 19 20 21 22\n",
            "23 24 25 26 27 28 29\n",
            "30 31\n",
            "\n"
          ]
        }
      ],
      "source": [
        "import calendar\n",
        "y = int(input(\"Input the year : \"))\n",
        "m = int(input(\"Input the month : \"))\n",
        "print(calendar.month(y, m))"
      ]
    },
    {
      "cell_type": "markdown",
      "id": "a30c6fa4",
      "metadata": {
        "id": "a30c6fa4"
      },
      "source": [
        "Write a Python program to calculate the number of days between two dates\n",
        "`datetime.date(year, month, day)`"
      ]
    },
    {
      "cell_type": "code",
      "execution_count": 41,
      "id": "a9c67f76",
      "metadata": {
        "id": "a9c67f76",
        "outputId": "a0a3a834-e295-4104-fc22-7d012800aa47",
        "colab": {
          "base_uri": "https://localhost:8080/"
        }
      },
      "outputs": [
        {
          "output_type": "stream",
          "name": "stdout",
          "text": [
            "9\n"
          ]
        }
      ],
      "source": [
        "from datetime import date\n",
        "f_date = date(2014, 7, 2)\n",
        "l_date = date(2014, 7, 11)\n",
        "delta = l_date - f_date\n",
        "print(delta.days)"
      ]
    },
    {
      "cell_type": "code",
      "execution_count": 42,
      "id": "b77b1e70",
      "metadata": {
        "id": "b77b1e70",
        "outputId": "46405551-cdf3-46ed-dafc-f4c370141170",
        "colab": {
          "base_uri": "https://localhost:8080/"
        }
      },
      "outputs": [
        {
          "output_type": "execute_result",
          "data": {
            "text/plain": [
              "datetime.date(2014, 7, 2)"
            ]
          },
          "metadata": {},
          "execution_count": 42
        }
      ],
      "source": [
        "f_date"
      ]
    },
    {
      "cell_type": "markdown",
      "id": "b36e5dbb",
      "metadata": {
        "id": "b36e5dbb"
      },
      "source": [
        "### <span style=\"color:red\">**Write a Python program to calculate the difference between a given number and 17. If the number is greater than 17, return twice the absolute difference**</span>\n",
        "```\n",
        "def function_name(argument):\n",
        "    ...\n",
        "\n",
        "def function_name(argument1, argument2):\n",
        "    summation = argument1 + argument2\n",
        "    return(summation)\n",
        "```"
      ]
    },
    {
      "cell_type": "code",
      "source": [
        "#1.ยกตยเคส"
      ],
      "metadata": {
        "id": "RSigstrMUDs4"
      },
      "id": "RSigstrMUDs4",
      "execution_count": null,
      "outputs": []
    },
    {
      "cell_type": "code",
      "execution_count": 44,
      "id": "57d94acd",
      "metadata": {
        "id": "57d94acd"
      },
      "outputs": [],
      "source": [
        "def computel(given_number):\n",
        "    if given_number > 17:\n",
        "      result = abs(17-given_number)*2\n",
        "    else :\n",
        "      result = 17 - given_number\n",
        "    return(result)"
      ]
    },
    {
      "cell_type": "code",
      "source": [
        "computel(21)"
      ],
      "metadata": {
        "id": "z_ozc_oiVRlj",
        "outputId": "5eac3aba-5909-40f2-948c-8f27ed3aed64",
        "colab": {
          "base_uri": "https://localhost:8080/"
        }
      },
      "id": "z_ozc_oiVRlj",
      "execution_count": 45,
      "outputs": [
        {
          "output_type": "execute_result",
          "data": {
            "text/plain": [
              "8"
            ]
          },
          "metadata": {},
          "execution_count": 45
        }
      ]
    },
    {
      "cell_type": "markdown",
      "id": "bcd0bc39",
      "metadata": {
        "id": "bcd0bc39"
      },
      "source": [
        "### <span style=\"color:red\">**Get a string which is n (non-negative integer) copies of a given string**</span>"
      ]
    },
    {
      "cell_type": "code",
      "execution_count": 47,
      "id": "c56187e5",
      "metadata": {
        "id": "c56187e5"
      },
      "outputs": [],
      "source": [
        "def genString(mystr,numcopies):\n",
        "\n",
        "  return(mystr*numcopies)"
      ]
    },
    {
      "cell_type": "code",
      "source": [
        "\"abc\"*3"
      ],
      "metadata": {
        "id": "fNmZGzUwVyRx",
        "outputId": "00703928-e98d-4eaf-f7f0-62e6ac5186a0",
        "colab": {
          "base_uri": "https://localhost:8080/",
          "height": 37
        }
      },
      "id": "fNmZGzUwVyRx",
      "execution_count": 48,
      "outputs": [
        {
          "output_type": "execute_result",
          "data": {
            "text/plain": [
              "'abcabcabc'"
            ],
            "application/vnd.google.colaboratory.intrinsic+json": {
              "type": "string"
            }
          },
          "metadata": {},
          "execution_count": 48
        }
      ]
    },
    {
      "cell_type": "code",
      "source": [
        "mystr = \"abc\"\n",
        "result = \" \"\n",
        "for i in range(3):\n",
        "    result = result + mystr\n",
        "    print(result,i)\n",
        "result"
      ],
      "metadata": {
        "id": "_i9R53YkV7L5",
        "outputId": "c59d4952-3c34-400a-9b53-c50261d0011c",
        "colab": {
          "base_uri": "https://localhost:8080/",
          "height": 88
        }
      },
      "id": "_i9R53YkV7L5",
      "execution_count": 52,
      "outputs": [
        {
          "output_type": "stream",
          "name": "stdout",
          "text": [
            " abc 0\n",
            " abcabc 1\n",
            " abcabcabc 2\n"
          ]
        },
        {
          "output_type": "execute_result",
          "data": {
            "text/plain": [
              "' abcabcabc'"
            ],
            "application/vnd.google.colaboratory.intrinsic+json": {
              "type": "string"
            }
          },
          "metadata": {},
          "execution_count": 52
        }
      ]
    },
    {
      "cell_type": "code",
      "source": [
        "def genString1(mystr,numcopies):\n",
        "    return(mystr*numcopies)\n",
        "\n",
        "def genString2(mystr,numcopies):\n",
        "    result = \"\"\n",
        "    for i in range(numcopies):\n",
        "      result = result + mystr\n",
        "    return(result)"
      ],
      "metadata": {
        "id": "9zYZtHF0WpnQ"
      },
      "id": "9zYZtHF0WpnQ",
      "execution_count": 55,
      "outputs": []
    },
    {
      "cell_type": "code",
      "source": [
        "print(genString1(\"abc\",3), genString2(\"abc\",3))"
      ],
      "metadata": {
        "id": "IsJucy23XOGo",
        "outputId": "1b4a8b8c-0ca7-40bb-c471-b8e977a63494",
        "colab": {
          "base_uri": "https://localhost:8080/"
        }
      },
      "id": "IsJucy23XOGo",
      "execution_count": 56,
      "outputs": [
        {
          "output_type": "stream",
          "name": "stdout",
          "text": [
            "abcabcabc abcabcabc\n"
          ]
        }
      ]
    },
    {
      "cell_type": "markdown",
      "id": "679a8ac4",
      "metadata": {
        "id": "679a8ac4"
      },
      "source": [
        "### <span style=\"color:red\">**Get a new string from a given string where 'Is' has been added to the front. If the given string already begins with 'Is' then return the string unchanged**</span>"
      ]
    },
    {
      "cell_type": "code",
      "source": [
        "mystr = \"abc\"\n",
        "mystr[0:2]"
      ],
      "metadata": {
        "id": "R8rUj_AUYlm_",
        "outputId": "05e9f7f7-bab0-432a-d401-6507e7ded63c",
        "colab": {
          "base_uri": "https://localhost:8080/",
          "height": 37
        }
      },
      "id": "R8rUj_AUYlm_",
      "execution_count": 57,
      "outputs": [
        {
          "output_type": "execute_result",
          "data": {
            "text/plain": [
              "'ab'"
            ],
            "application/vnd.google.colaboratory.intrinsic+json": {
              "type": "string"
            }
          },
          "metadata": {},
          "execution_count": 57
        }
      ]
    },
    {
      "cell_type": "code",
      "execution_count": 58,
      "id": "b2e43ce5",
      "metadata": {
        "id": "b2e43ce5"
      },
      "outputs": [],
      "source": [
        "def fillingIs(mystr):\n",
        "    if mystr[0:2] == \"Is\":\n",
        "        result = mystr\n",
        "    else:\n",
        "        result = \"Is\" + mystr\n",
        "    return(result)"
      ]
    },
    {
      "cell_type": "code",
      "source": [
        "fillingIs(\"abc\")"
      ],
      "metadata": {
        "id": "Gm0_K-7DY3O1",
        "outputId": "aa513479-3973-4625-aa72-5a44afba6335",
        "colab": {
          "base_uri": "https://localhost:8080/",
          "height": 37
        }
      },
      "id": "Gm0_K-7DY3O1",
      "execution_count": 59,
      "outputs": [
        {
          "output_type": "execute_result",
          "data": {
            "text/plain": [
              "'Isabc'"
            ],
            "application/vnd.google.colaboratory.intrinsic+json": {
              "type": "string"
            }
          },
          "metadata": {},
          "execution_count": 59
        }
      ]
    },
    {
      "cell_type": "markdown",
      "id": "3249280b",
      "metadata": {
        "id": "3249280b"
      },
      "source": [
        "### <span style=\"color:red\">**Check whether a specified value is contained in a group of values**</span>\n",
        "i.e. `def is_group_member(group_data, n):` or any other way?\n",
        "```\n",
        "Test Data :\n",
        "3 -> [1, 5, 8, 3] : True\n",
        "-1 -> [1, 5, 8, 3] : False\n",
        "```"
      ]
    },
    {
      "cell_type": "code",
      "source": [
        "def is_group_member(group_data, n):\n",
        "    return (n in group_data)"
      ],
      "metadata": {
        "id": "JNt50topZzI_"
      },
      "id": "JNt50topZzI_",
      "execution_count": 66,
      "outputs": []
    },
    {
      "cell_type": "code",
      "source": [
        "def is_group_member(group_data, n):\n",
        "    for element in group_data:\n",
        "        print(element)\n",
        "        if element == n:\n",
        "            return (Ture)\n",
        "    return (False)"
      ],
      "metadata": {
        "id": "nSQRXYijaQlC"
      },
      "id": "nSQRXYijaQlC",
      "execution_count": 67,
      "outputs": []
    },
    {
      "cell_type": "code",
      "source": [
        "is_group_member([1, 5, 8, 3],9)"
      ],
      "metadata": {
        "id": "kUAoNFHza8n9",
        "outputId": "9d12bda0-aeee-458b-b039-2cc457839e4c",
        "colab": {
          "base_uri": "https://localhost:8080/"
        }
      },
      "id": "kUAoNFHza8n9",
      "execution_count": 68,
      "outputs": [
        {
          "output_type": "stream",
          "name": "stdout",
          "text": [
            "1\n",
            "5\n",
            "8\n",
            "3\n"
          ]
        },
        {
          "output_type": "execute_result",
          "data": {
            "text/plain": [
              "False"
            ]
          },
          "metadata": {},
          "execution_count": 68
        }
      ]
    },
    {
      "cell_type": "code",
      "execution_count": 61,
      "id": "da172342",
      "metadata": {
        "id": "da172342",
        "outputId": "625ecfd4-7e64-4aad-bb46-daf2dc2afec9",
        "colab": {
          "base_uri": "https://localhost:8080/"
        }
      },
      "outputs": [
        {
          "output_type": "execute_result",
          "data": {
            "text/plain": [
              "False"
            ]
          },
          "metadata": {},
          "execution_count": 61
        }
      ],
      "source": [
        "n = -1\n",
        "group_data = [1, 5, 8, 3]\n",
        "n in group_data\n"
      ]
    },
    {
      "cell_type": "code",
      "source": [
        "is_group_member([1, 5, 8, 3],9)"
      ],
      "metadata": {
        "id": "279V5UnraDjZ",
        "outputId": "77f13885-39dd-404b-bfad-81188c2aa5fc",
        "colab": {
          "base_uri": "https://localhost:8080/",
          "height": 164
        }
      },
      "id": "279V5UnraDjZ",
      "execution_count": 62,
      "outputs": [
        {
          "output_type": "error",
          "ename": "NameError",
          "evalue": "ignored",
          "traceback": [
            "\u001b[0;31m---------------------------------------------------------------------------\u001b[0m",
            "\u001b[0;31mNameError\u001b[0m                                 Traceback (most recent call last)",
            "\u001b[0;32m<ipython-input-62-8194248eb971>\u001b[0m in \u001b[0;36m<cell line: 1>\u001b[0;34m()\u001b[0m\n\u001b[0;32m----> 1\u001b[0;31m \u001b[0mis_group_member\u001b[0m\u001b[0;34m(\u001b[0m\u001b[0;34m[\u001b[0m\u001b[0;36m1\u001b[0m\u001b[0;34m,\u001b[0m \u001b[0;36m5\u001b[0m\u001b[0;34m,\u001b[0m \u001b[0;36m8\u001b[0m\u001b[0;34m,\u001b[0m \u001b[0;36m3\u001b[0m\u001b[0;34m]\u001b[0m\u001b[0;34m,\u001b[0m\u001b[0;36m9\u001b[0m\u001b[0;34m)\u001b[0m\u001b[0;34m\u001b[0m\u001b[0;34m\u001b[0m\u001b[0m\n\u001b[0m",
            "\u001b[0;31mNameError\u001b[0m: name 'is_group_member' is not defined"
          ]
        }
      ]
    },
    {
      "cell_type": "markdown",
      "id": "babb262a",
      "metadata": {
        "id": "babb262a"
      },
      "source": [
        "### <span style=\"color:red\">**Write a Python program to print all even numbers from a given list of numbers in the same order and stop printing any after 237 in the sequence**</span>\n",
        "```\n",
        "Sample numbers list :\n",
        "numbers = [386, 462, 47, 418, 907, 344, 236, 375, 823, 566, 597, 978, 328, 615, 953, 345,\n",
        "           399, 162, 758, 219, 918, 237, 412, 566, 826, 248, 866, 950, 626, 949, 687, 217,\n",
        "           815, 67, 104, 58, 512, 24, 892, 894, 767, 553, 81, 379, 843, 831, 445, 742, 717,\n",
        "           958,743, 527\n",
        "          ]\n",
        "```\n",
        "ปริ้นเฉพาะเลขคู่ หยุดที่237"
      ]
    },
    {
      "cell_type": "code",
      "execution_count": 70,
      "id": "9e569489",
      "metadata": {
        "id": "9e569489"
      },
      "outputs": [],
      "source": [
        "def print_even(numberList):\n",
        "    \"\"\" \"\"\"\n",
        "    for num in numberList:\n",
        "        if num%2 == 0 : # check if even number\n",
        "            print(num)\n",
        "        if num == 237:\n",
        "            break"
      ]
    },
    {
      "cell_type": "code",
      "source": [
        "#or\n"
      ],
      "metadata": {
        "id": "xKCVlc7MdFEn"
      },
      "id": "xKCVlc7MdFEn",
      "execution_count": null,
      "outputs": []
    },
    {
      "cell_type": "code",
      "source": [
        "print_even([1,2,3,4,237,6])"
      ],
      "metadata": {
        "id": "taimZAx_c3oV",
        "outputId": "a58a9edc-a164-4216-8c58-02517e549f7c",
        "colab": {
          "base_uri": "https://localhost:8080/"
        }
      },
      "id": "taimZAx_c3oV",
      "execution_count": 71,
      "outputs": [
        {
          "output_type": "stream",
          "name": "stdout",
          "text": [
            "2\n"
          ]
        }
      ]
    },
    {
      "cell_type": "markdown",
      "id": "6aeb803b",
      "metadata": {
        "id": "6aeb803b"
      },
      "source": [
        "### <span style=\"color:red\">**Add two objects if both objects are an integer type**</span>\n",
        "```\n",
        "def add_numbers(obj1, obj2):\n",
        "    ...\n",
        "```\n",
        "Hint: try `isinstance(object, type)`"
      ]
    },
    {
      "cell_type": "code",
      "execution_count": null,
      "id": "b2ed423b",
      "metadata": {
        "id": "b2ed423b"
      },
      "outputs": [],
      "source": [
        "\n",
        "def def add_numbers(obj1, obj2):\n",
        "    if isinstance(obj1, int) and isinstance(obj2, int):\n",
        "        return(obj1 + obj2)\n",
        "    else:\n",
        "        return print\""
      ]
    },
    {
      "cell_type": "markdown",
      "id": "d55e82ff",
      "metadata": {
        "id": "d55e82ff"
      },
      "source": [
        "### <span style=\"color:red\">**Concatenate `N` strings in a list**</span>\n",
        "i.e. `list_of_colors = ['Red', 'White', 'Black']`"
      ]
    },
    {
      "cell_type": "code",
      "execution_count": 73,
      "id": "9769cf6d",
      "metadata": {
        "id": "9769cf6d"
      },
      "outputs": [],
      "source": [
        "list_of_colors = ['Red', 'White', 'Black']\n"
      ]
    },
    {
      "cell_type": "code",
      "source": [
        "list_of_colors[0]+list_of_colors[1]+list_of_colors[2]"
      ],
      "metadata": {
        "id": "7qj5qquOfVsK",
        "outputId": "f7e103a6-1fba-4c47-e120-3b4d65d3d1d2",
        "colab": {
          "base_uri": "https://localhost:8080/",
          "height": 37
        }
      },
      "id": "7qj5qquOfVsK",
      "execution_count": 74,
      "outputs": [
        {
          "output_type": "execute_result",
          "data": {
            "text/plain": [
              "'RedWhiteBlack'"
            ],
            "application/vnd.google.colaboratory.intrinsic+json": {
              "type": "string"
            }
          },
          "metadata": {},
          "execution_count": 74
        }
      ]
    },
    {
      "cell_type": "code",
      "source": [
        "list_of_colors\n",
        "for color in list_of_colors:\n",
        "    print(color)"
      ],
      "metadata": {
        "id": "P20GYdZLf8DX",
        "outputId": "62e6c4e9-4942-48d4-e68a-4cc7db5b8a82",
        "colab": {
          "base_uri": "https://localhost:8080/"
        }
      },
      "id": "P20GYdZLf8DX",
      "execution_count": 75,
      "outputs": [
        {
          "output_type": "stream",
          "name": "stdout",
          "text": [
            "Red\n",
            "White\n",
            "Black\n"
          ]
        }
      ]
    },
    {
      "cell_type": "code",
      "source": [
        "combined_colors = \"\"\n",
        "for color in list_of_colors:\n",
        "    combined_colors = combined_colors + color + ','\n",
        "    print(combined_colors)"
      ],
      "metadata": {
        "id": "XjxB3Qf8fiJB",
        "outputId": "7759a2eb-91db-40e9-b1b4-3432fbaa0104",
        "colab": {
          "base_uri": "https://localhost:8080/"
        }
      },
      "id": "XjxB3Qf8fiJB",
      "execution_count": 79,
      "outputs": [
        {
          "output_type": "stream",
          "name": "stdout",
          "text": [
            "Red,\n",
            "Red,White,\n",
            "Red,White,Black,\n"
          ]
        }
      ]
    },
    {
      "cell_type": "code",
      "source": [
        "\"/\".join(list_of_colors)\n"
      ],
      "metadata": {
        "id": "RlIavbDMgnZd",
        "outputId": "ff16721e-f075-4196-9b57-4cdbee0f6227",
        "colab": {
          "base_uri": "https://localhost:8080/",
          "height": 37
        }
      },
      "id": "RlIavbDMgnZd",
      "execution_count": 81,
      "outputs": [
        {
          "output_type": "execute_result",
          "data": {
            "text/plain": [
              "'Red/White/Black'"
            ],
            "application/vnd.google.colaboratory.intrinsic+json": {
              "type": "string"
            }
          },
          "metadata": {},
          "execution_count": 81
        }
      ]
    },
    {
      "cell_type": "markdown",
      "id": "acd77943",
      "metadata": {
        "id": "acd77943"
      },
      "source": [
        "Filter the positive numbers from a list\n",
        "```\n",
        "nums = [34, 1, 0, -23, 12, -88]\n",
        "list(filter(lambda x: x >0, nums))\n",
        "```"
      ]
    },
    {
      "cell_type": "code",
      "source": [
        "nums = [34, 1, 0, -23, 12, -88]\n",
        "[i for i in filter(lambda x: x > 0, nums)]"
      ],
      "metadata": {
        "id": "FWIHrT3yhhxu",
        "outputId": "d2277896-3c7a-4eb1-a3bf-9d8f531af329",
        "colab": {
          "base_uri": "https://localhost:8080/"
        }
      },
      "id": "FWIHrT3yhhxu",
      "execution_count": 82,
      "outputs": [
        {
          "output_type": "execute_result",
          "data": {
            "text/plain": [
              "[34, 1, 12]"
            ]
          },
          "metadata": {},
          "execution_count": 82
        }
      ]
    },
    {
      "cell_type": "code",
      "execution_count": 88,
      "id": "612b7a9a",
      "metadata": {
        "id": "612b7a9a",
        "outputId": "3785487f-d141-4653-bed6-b508ae9ef20d",
        "colab": {
          "base_uri": "https://localhost:8080/"
        }
      },
      "outputs": [
        {
          "output_type": "execute_result",
          "data": {
            "text/plain": [
              "[34, 1, -99, -99, 12, -99]"
            ]
          },
          "metadata": {},
          "execution_count": 88
        }
      ],
      "source": [
        "nums = [34, 1, 0, -23, 12, -88]\n",
        "new_nums = [i if i>0 else -99 for i in nums ]\n",
        "new_nums"
      ]
    },
    {
      "cell_type": "code",
      "source": [
        "[i for i in nums if i>0]"
      ],
      "metadata": {
        "id": "lDAtv0m8kD5L",
        "outputId": "4485a31a-eb62-4689-d42e-f7a7e78f5c2b",
        "colab": {
          "base_uri": "https://localhost:8080/"
        }
      },
      "id": "lDAtv0m8kD5L",
      "execution_count": 91,
      "outputs": [
        {
          "output_type": "execute_result",
          "data": {
            "text/plain": [
              "[34, 1, 12]"
            ]
          },
          "metadata": {},
          "execution_count": 91
        }
      ]
    },
    {
      "cell_type": "code",
      "source": [
        "newList = []\n",
        "for i in nums:\n",
        "    if i > 0 :\n",
        "      newList.append(i)\n",
        "    else:\n",
        "      newList.append(-99)\n",
        "newList"
      ],
      "metadata": {
        "id": "gjPlKc3fic1N",
        "outputId": "ff6e317f-d16e-4f0d-f517-3de91d25035a",
        "colab": {
          "base_uri": "https://localhost:8080/"
        }
      },
      "id": "gjPlKc3fic1N",
      "execution_count": 90,
      "outputs": [
        {
          "output_type": "execute_result",
          "data": {
            "text/plain": [
              "[34, 1, -99, -99, 12, -99]"
            ]
          },
          "metadata": {},
          "execution_count": 90
        }
      ]
    },
    {
      "cell_type": "code",
      "source": [],
      "metadata": {
        "id": "fvW2sbbQi4Ay"
      },
      "id": "fvW2sbbQi4Ay",
      "execution_count": null,
      "outputs": []
    },
    {
      "cell_type": "markdown",
      "id": "d272b3e3",
      "metadata": {
        "id": "d272b3e3"
      },
      "source": [
        "### <span style=\"color:red\">**Filter people whose the length of their name is greater than 5**</span>\n",
        "```\n",
        "people = ['Mark', 'Martin', 'Maepranom', 'Moon']\n",
        "```"
      ]
    },
    {
      "cell_type": "code",
      "source": [
        "people = ['Mark', 'Martin', 'Maepranom', 'Moon']"
      ],
      "metadata": {
        "id": "DMdnHfTMkydI"
      },
      "id": "DMdnHfTMkydI",
      "execution_count": 95,
      "outputs": []
    },
    {
      "cell_type": "code",
      "execution_count": 98,
      "id": "f7ad2847",
      "metadata": {
        "id": "f7ad2847",
        "outputId": "e1aee99c-b1f3-4286-d5f9-e8212d83758d",
        "colab": {
          "base_uri": "https://localhost:8080/"
        }
      },
      "outputs": [
        {
          "output_type": "execute_result",
          "data": {
            "text/plain": [
              "['Martin', 'Maepranom']"
            ]
          },
          "metadata": {},
          "execution_count": 98
        }
      ],
      "source": [
        "filteredPeople = [person for person in people if len(person)>5]\n",
        "filteredPeople"
      ]
    },
    {
      "cell_type": "code",
      "source": [
        "[df[\"nameColumn\"][i] for i in range(len(df[\"nameColumn\"]))\n",
        " if df[\"ageColumn\"][i]>25]"
      ],
      "metadata": {
        "id": "g1KSC1Pak-Q3"
      },
      "id": "g1KSC1Pak-Q3",
      "execution_count": null,
      "outputs": []
    },
    {
      "cell_type": "code",
      "source": [
        "len('Martin')"
      ],
      "metadata": {
        "id": "LnKk-4qMjCau",
        "outputId": "01625217-fd32-418e-c84a-c1d1372ac312",
        "colab": {
          "base_uri": "https://localhost:8080/"
        }
      },
      "id": "LnKk-4qMjCau",
      "execution_count": 89,
      "outputs": [
        {
          "output_type": "execute_result",
          "data": {
            "text/plain": [
              "6"
            ]
          },
          "metadata": {},
          "execution_count": 89
        }
      ]
    },
    {
      "cell_type": "markdown",
      "id": "8f126032",
      "metadata": {
        "id": "8f126032"
      },
      "source": [
        "Input a number, if it is not an integer generates an error message"
      ]
    },
    {
      "cell_type": "code",
      "execution_count": 104,
      "id": "6ba22e4f",
      "metadata": {
        "id": "6ba22e4f",
        "outputId": "6f26b164-6666-4a37-b0ba-cfd5034104fd",
        "colab": {
          "base_uri": "https://localhost:8080/"
        }
      },
      "outputs": [
        {
          "name": "stdout",
          "output_type": "stream",
          "text": [
            "Input a number: 1\n"
          ]
        }
      ],
      "source": [
        "while True:\n",
        "    try:\n",
        "        a = int(input(\"Input a number: \"))\n",
        "        break\n",
        "    except ValueError:\n",
        "        print(\"\\nThis is not an integer. Try again...\")\n",
        "        print()"
      ]
    },
    {
      "cell_type": "code",
      "execution_count": 105,
      "id": "57aff751",
      "metadata": {
        "id": "57aff751",
        "outputId": "23e66971-dacf-48ea-e5cd-c1dfbf650a52",
        "colab": {
          "base_uri": "https://localhost:8080/"
        }
      },
      "outputs": [
        {
          "output_type": "stream",
          "name": "stdout",
          "text": [
            "1 1\n",
            "2 aa\n",
            "1 2\n",
            "2 aaaa\n",
            "1 4\n",
            "2 aaaaaaaa\n"
          ]
        }
      ],
      "source": [
        "mystr = \"a\"\n",
        "while len(mystr) < 5 :\n",
        "      print(\"1\",len(mystr))\n",
        "      mystr = mystr*2\n",
        "      print(\"2\",mystr)"
      ]
    }
  ],
  "metadata": {
    "kernelspec": {
      "display_name": "Python 3 (ipykernel)",
      "language": "python",
      "name": "python3"
    },
    "language_info": {
      "codemirror_mode": {
        "name": "ipython",
        "version": 3
      },
      "file_extension": ".py",
      "mimetype": "text/x-python",
      "name": "python",
      "nbconvert_exporter": "python",
      "pygments_lexer": "ipython3",
      "version": "3.8.8"
    },
    "colab": {
      "provenance": [],
      "include_colab_link": true
    }
  },
  "nbformat": 4,
  "nbformat_minor": 5
}