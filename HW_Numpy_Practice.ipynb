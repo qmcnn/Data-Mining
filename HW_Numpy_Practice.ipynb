{
  "cells": [
    {
      "cell_type": "markdown",
      "metadata": {
        "id": "view-in-github",
        "colab_type": "text"
      },
      "source": [
        "<a href=\"https://colab.research.google.com/github/qmcnn/Data-Mining/blob/main/HW_Numpy_Practice.ipynb\" target=\"_parent\"><img src=\"https://colab.research.google.com/assets/colab-badge.svg\" alt=\"Open In Colab\"/></a>"
      ]
    },
    {
      "cell_type": "markdown",
      "source": [
        "# 633020979-2 ชนกนันท์ มีสิงห์"
      ],
      "metadata": {
        "id": "S6bgxHdcAAJZ"
      },
      "id": "S6bgxHdcAAJZ"
    },
    {
      "cell_type": "markdown",
      "id": "f1826f12",
      "metadata": {
        "id": "f1826f12"
      },
      "source": [
        "ให้ทุกคนฝึกฝนด้วยตนเองก่อนคลาสในวันศุกร์\n",
        "* อ่านไฟล์ใน Google Drive ของตนเองบน Google Colab\n",
        "* อ่านไฟล์ในเครื่องตนเองด้วย Jupyter Notebook ในเครื่องของตน\n",
        "* อ่านไฟล์ใน Google Drive ของตนเองผ่าน Jupyter Notebook ในเครื่องของตน ซึ่งสามารถสร้าง sharable link แล้วนำมาเป็น path ของไฟล์ที่ต้องการอ่านได้ (หรือปกติก็สามารถดาวน์โหลดไฟล์ลงเครื่องตนเองแล้วอ่านตามปกติ)"
      ]
    },
    {
      "cell_type": "code",
      "execution_count": 1,
      "metadata": {
        "id": "yvUwSN3QFq4N"
      },
      "outputs": [],
      "source": [
        "import pandas as pd"
      ],
      "id": "yvUwSN3QFq4N"
    },
    {
      "cell_type": "code",
      "execution_count": 2,
      "metadata": {
        "colab": {
          "base_uri": "https://localhost:8080/"
        },
        "id": "v9QAGWnVPEDj",
        "outputId": "b066911f-821c-424b-ea30-127abb4a4c75"
      },
      "outputs": [
        {
          "output_type": "stream",
          "name": "stdout",
          "text": [
            "Mounted at /content/drive\n"
          ]
        }
      ],
      "source": [
        "from google.colab import drive # เชื่อม google drive\n",
        "drive.mount('/content/drive')"
      ],
      "id": "v9QAGWnVPEDj"
    },
    {
      "cell_type": "code",
      "execution_count": 3,
      "metadata": {
        "id": "2LPfAz5_PHlF"
      },
      "outputs": [],
      "source": [
        "import os"
      ],
      "id": "2LPfAz5_PHlF"
    },
    {
      "cell_type": "code",
      "execution_count": null,
      "metadata": {
        "id": "4MZXFRNAPKVr"
      },
      "outputs": [],
      "source": [
        "data = pd.read_csv(os.path.join('/content/drive/MyDrive/Year4/Data Mining/confirmed-cases.csv'))\n",
        "data"
      ],
      "id": "4MZXFRNAPKVr"
    },
    {
      "cell_type": "code",
      "source": [
        "data = pd.read_excel('https://docs.google.com/spreadsheets/d/e/2PACX-1vTQnurtnes1Rhh42-WrffcSyRLx7g9tMv3pl73Vjemxgh0A2qwb9VT693kOZkRGgAtCLxcNYsq1oMfb/pub?output=xlsx')"
      ],
      "metadata": {
        "id": "IGlgha-b6SYu"
      },
      "id": "IGlgha-b6SYu",
      "execution_count": 11,
      "outputs": []
    },
    {
      "cell_type": "code",
      "execution_count": 12,
      "id": "dd2b0e12",
      "metadata": {
        "id": "dd2b0e12"
      },
      "outputs": [],
      "source": [
        "import numpy as np"
      ]
    },
    {
      "cell_type": "code",
      "source": [
        "x = np.arange(5)\n",
        "x"
      ],
      "metadata": {
        "colab": {
          "base_uri": "https://localhost:8080/"
        },
        "id": "WO6Pj5AVQZVj",
        "outputId": "93886e6b-e90b-463e-f7be-4eb88a713ec2"
      },
      "id": "WO6Pj5AVQZVj",
      "execution_count": 13,
      "outputs": [
        {
          "output_type": "execute_result",
          "data": {
            "text/plain": [
              "array([0, 1, 2, 3, 4])"
            ]
          },
          "metadata": {},
          "execution_count": 13
        }
      ]
    },
    {
      "cell_type": "code",
      "source": [
        "# numpy.linspace(start, stop, num=50, endpoint=True, retstep=False, dtype=None, axis=0)[source]\n",
        "y = np.linspace(start = 2, stop = 10, num = 5)\n",
        "y"
      ],
      "metadata": {
        "colab": {
          "base_uri": "https://localhost:8080/"
        },
        "id": "IMp72y9MQrPD",
        "outputId": "9d648a96-34a5-4ea1-edbf-d5bb30a409da"
      },
      "id": "IMp72y9MQrPD",
      "execution_count": 14,
      "outputs": [
        {
          "output_type": "execute_result",
          "data": {
            "text/plain": [
              "array([ 2.,  4.,  6.,  8., 10.])"
            ]
          },
          "metadata": {},
          "execution_count": 14
        }
      ]
    },
    {
      "cell_type": "markdown",
      "id": "4fa59e1f",
      "metadata": {
        "id": "4fa59e1f"
      },
      "source": [
        "Chebyshev distance เป็นการวัดความต่างระหว่างข้อมูลแบบ $L_\\infty$ norm ซึ่งเป็นกรณีพิเศษของ Minkowski distance: $\\left(\\sum_{i=1}^{k} \\lvert x_i - y_i \\rvert^r\\right)^{1/r}$ ที่ $r=\\infty$ โดยสามารถคำนวณค่าได้ดังนี้\n",
        "$$d(x,y) = \\max_{i} \\left( \\lvert x_{i} - y_{i} \\rvert \\right)$$"
      ]
    },
    {
      "cell_type": "markdown",
      "id": "704ef53a",
      "metadata": {
        "id": "704ef53a"
      },
      "source": [
        "สร้างฟังก์ชันสำหรับคำนวณ Chebyshev distance ระหว่างเวคเตอร์ 2 เวคเตอร์ ที่แต่ละเวคเตอร์มีขนาด k มิติ (numpy array of length k)"
      ]
    },
    {
      "cell_type": "code",
      "execution_count": 21,
      "id": "0b20f410",
      "metadata": {
        "id": "0b20f410",
        "colab": {
          "base_uri": "https://localhost:8080/"
        },
        "outputId": "bdfe80d8-5b84-45f4-f312-5d4ef248cfb6"
      },
      "outputs": [
        {
          "output_type": "stream",
          "name": "stdout",
          "text": [
            "6.0\n"
          ]
        }
      ],
      "source": [
        "def vec(v1,v2):\n",
        "    max = 0\n",
        "    for i in range(len(v1)):\n",
        "        max = np.max(np.abs(v1[i]-v2[i]))\n",
        "    return (max)\n",
        "print(vec(x,y))"
      ]
    },
    {
      "cell_type": "markdown",
      "id": "4b22711a",
      "metadata": {
        "id": "4b22711a"
      },
      "source": [
        "Canberra distance เป็นการวัดความต่างระหว่างข้อมูลแบบ Manhattan distance ที่ถ่วงน้ำหนัก (weighted Manhattan distance) โดยคำนวณดังนี้\n",
        "$$d(x,y) = \\sum_{i=1}^{k} \\frac{\\lvert x_{i} - y_{i} \\rvert}{\\lvert x_{i} \\rvert + \\lvert y_{i} \\rvert}$$"
      ]
    },
    {
      "cell_type": "markdown",
      "id": "a9fc6c1b",
      "metadata": {
        "id": "a9fc6c1b"
      },
      "source": [
        "สร้างฟังก์ชันสำหรับคำนวณ Canberra distance ระหว่างเวคเตอร์ 2 เวคเตอร์ ที่แต่ละเวคเตอร์มีขนาด k มิติ"
      ]
    },
    {
      "cell_type": "code",
      "execution_count": 24,
      "id": "5c92f63f",
      "metadata": {
        "id": "5c92f63f",
        "colab": {
          "base_uri": "https://localhost:8080/"
        },
        "outputId": "2b33f08b-adf7-4a36-e91e-99e72b72bb46"
      },
      "outputs": [
        {
          "output_type": "stream",
          "name": "stdout",
          "text": [
            "2.983116883116883\n"
          ]
        }
      ],
      "source": [
        "def vec(v1,v2):\n",
        "    for i in range(len(v1)):\n",
        "        sum = np.sum(np.abs(v1 - v2) / (np.abs(v1)+np.abs(v2)))\n",
        "    return (sum)\n",
        "print(vec(x,y))"
      ]
    },
    {
      "cell_type": "markdown",
      "id": "4536822f",
      "metadata": {
        "id": "4536822f"
      },
      "source": [
        "สร้างฟังก์ชันสำหรับคำนวณค่าเฉลี่ยของค่าในเวคเตอร์หนึ่ง โดยไม่ใช้ฟังก์ชันสำเร็จรูป `mean()` ใช้เพียง numpy array และการบวกลบคูณหาร"
      ]
    },
    {
      "cell_type": "code",
      "execution_count": 26,
      "id": "961ec0b4",
      "metadata": {
        "id": "961ec0b4",
        "colab": {
          "base_uri": "https://localhost:8080/"
        },
        "outputId": "fe1b3c1d-1f68-4149-823d-319400fa3830"
      },
      "outputs": [
        {
          "output_type": "stream",
          "name": "stdout",
          "text": [
            "2.0\n"
          ]
        }
      ],
      "source": [
        "def mean_n(m):\n",
        "    for i in range(len(m)):\n",
        "        mean = np.sum(m) / len(m)\n",
        "    return (mean)\n",
        "print(mean_n(x))"
      ]
    },
    {
      "cell_type": "markdown",
      "id": "b623b625",
      "metadata": {
        "id": "b623b625"
      },
      "source": [
        "สร้างฟังก์ชันสำหรับคำนวณค่าเบี่ยงเบนมาตรฐานของค่าในเวคเตอร์หนึ่ง โดยไม่ใช้ฟังก์ชัน `std()` หรือ `stddev()` ใช้เพียง numpy array และการบวกลบคูณหาร"
      ]
    },
    {
      "cell_type": "code",
      "execution_count": 29,
      "id": "8e163a57",
      "metadata": {
        "id": "8e163a57",
        "colab": {
          "base_uri": "https://localhost:8080/"
        },
        "outputId": "1297377c-df84-46d2-9803-125c5d4f0b65"
      },
      "outputs": [
        {
          "output_type": "stream",
          "name": "stdout",
          "text": [
            "1.4142135623730951\n"
          ]
        }
      ],
      "source": [
        "def std_d(s):\n",
        "    for i in range(len(s)):\n",
        "        std = np.sqrt(np.sum((s - (np.sum(s) / len(s)) )**2/ len(s)))\n",
        "    return (std)\n",
        "print(std_d(x))"
      ]
    }
  ],
  "metadata": {
    "kernelspec": {
      "display_name": "Python 3 (ipykernel)",
      "language": "python",
      "name": "python3"
    },
    "language_info": {
      "codemirror_mode": {
        "name": "ipython",
        "version": 3
      },
      "file_extension": ".py",
      "mimetype": "text/x-python",
      "name": "python",
      "nbconvert_exporter": "python",
      "pygments_lexer": "ipython3",
      "version": "3.8.8"
    },
    "colab": {
      "provenance": [],
      "include_colab_link": true
    }
  },
  "nbformat": 4,
  "nbformat_minor": 5
}