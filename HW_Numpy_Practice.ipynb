{
  "cells": [
    {
      "cell_type": "markdown",
      "metadata": {
        "id": "view-in-github",
        "colab_type": "text"
      },
      "source": [
        "<a href=\"https://colab.research.google.com/github/qmcnn/Data-Mining/blob/main/HW_Numpy_Practice.ipynb\" target=\"_parent\"><img src=\"https://colab.research.google.com/assets/colab-badge.svg\" alt=\"Open In Colab\"/></a>"
      ]
    },
    {
      "cell_type": "markdown",
      "source": [
        "# 633020979-2 ชนกนันท์ มีสิงห์"
      ],
      "metadata": {
        "id": "S6bgxHdcAAJZ"
      },
      "id": "S6bgxHdcAAJZ"
    },
    {
      "cell_type": "markdown",
      "id": "f1826f12",
      "metadata": {
        "id": "f1826f12"
      },
      "source": [
        "ให้ทุกคนฝึกฝนด้วยตนเองก่อนคลาสในวันศุกร์\n",
        "* อ่านไฟล์ใน Google Drive ของตนเองบน Google Colab\n",
        "* อ่านไฟล์ในเครื่องตนเองด้วย Jupyter Notebook ในเครื่องของตน\n",
        "* อ่านไฟล์ใน Google Drive ของตนเองผ่าน Jupyter Notebook ในเครื่องของตน ซึ่งสามารถสร้าง sharable link แล้วนำมาเป็น path ของไฟล์ที่ต้องการอ่านได้ (หรือปกติก็สามารถดาวน์โหลดไฟล์ลงเครื่องตนเองแล้วอ่านตามปกติ)"
      ]
    },
    {
      "cell_type": "code",
      "execution_count": 3,
      "metadata": {
        "id": "yvUwSN3QFq4N"
      },
      "outputs": [],
      "source": [
        "import pandas as pd"
      ],
      "id": "yvUwSN3QFq4N"
    },
    {
      "cell_type": "code",
      "execution_count": 4,
      "metadata": {
        "colab": {
          "base_uri": "https://localhost:8080/"
        },
        "id": "v9QAGWnVPEDj",
        "outputId": "face0811-0626-40cf-95e0-c805bf84ecd9"
      },
      "outputs": [
        {
          "output_type": "stream",
          "name": "stdout",
          "text": [
            "Mounted at /content/drive\n"
          ]
        }
      ],
      "source": [
        "from google.colab import drive # เชื่อม google drive\n",
        "drive.mount('/content/drive')"
      ],
      "id": "v9QAGWnVPEDj"
    },
    {
      "cell_type": "code",
      "execution_count": 5,
      "metadata": {
        "id": "2LPfAz5_PHlF"
      },
      "outputs": [],
      "source": [
        "import os"
      ],
      "id": "2LPfAz5_PHlF"
    },
    {
      "cell_type": "code",
      "execution_count": 6,
      "metadata": {
        "id": "4MZXFRNAPKVr",
        "outputId": "cfa1b321-0bc7-4f2a-a763-6db5d8ed32d6",
        "colab": {
          "base_uri": "https://localhost:8080/",
          "height": 599
        }
      },
      "outputs": [
        {
          "output_type": "stream",
          "name": "stderr",
          "text": [
            "<ipython-input-6-66b956e54d60>:1: DtypeWarning: Columns (4) have mixed types. Specify dtype option on import or set low_memory=False.\n",
            "  data = pd.read_csv(os.path.join('/content/drive/MyDrive/Year4/Data Mining/confirmed-cases.csv'))\n"
          ]
        },
        {
          "output_type": "execute_result",
          "data": {
            "text/plain": [
              "           No. announce_date Notified date   sex   age Unit nationality  \\\n",
              "0            1     12/1/2020           NaN  หญิง  61.0   ปี       China   \n",
              "1            2     17/1/2020           NaN  หญิง  74.0   ปี       China   \n",
              "2            3     22/1/2020           NaN  หญิง  73.0   ปี    Thailand   \n",
              "3            4     22/1/2020           NaN   ชาย  68.0   ปี       China   \n",
              "4            5     24/1/2020           NaN  หญิง  66.0   ปี       China   \n",
              "...        ...           ...           ...   ...   ...  ...         ...   \n",
              "839766  839767     12/8/2021     11/8/2021   ชาย  52.0   ปี         NaN   \n",
              "839767  839768     12/8/2021     11/8/2021   ชาย  34.0   ปี    Thailand   \n",
              "839768  839769     12/8/2021     11/8/2021   ชาย  31.0   ปี    Thailand   \n",
              "839769  839770     12/8/2021     11/8/2021   ชาย  83.0   ปี    Thailand   \n",
              "839770  839771     12/8/2021     11/8/2021   ชาย  47.0   ปี    Thailand   \n",
              "\n",
              "       province_of_isolation                              risk  \\\n",
              "0              กรุงเทพมหานคร  คนต่างชาติเดินทางมาจากต่างประเทศ   \n",
              "1              กรุงเทพมหานคร  คนต่างชาติเดินทางมาจากต่างประเทศ   \n",
              "2                     นครปฐม  คนต่างชาติเดินทางมาจากต่างประเทศ   \n",
              "3              กรุงเทพมหานคร  คนต่างชาติเดินทางมาจากต่างประเทศ   \n",
              "4                    นนทบุรี  คนต่างชาติเดินทางมาจากต่างประเทศ   \n",
              "...                      ...                               ...   \n",
              "839766             กาญจนบุรี                  ทัณฑสถาน/เรือนจำ   \n",
              "839767             กาญจนบุรี                  ทัณฑสถาน/เรือนจำ   \n",
              "839768             กาญจนบุรี                  ทัณฑสถาน/เรือนจำ   \n",
              "839769             กาญจนบุรี                  ทัณฑสถาน/เรือนจำ   \n",
              "839770             กาญจนบุรี                  ทัณฑสถาน/เรือนจำ   \n",
              "\n",
              "       province_of_onset district_of_onset  \n",
              "0          กรุงเทพมหานคร               NaN  \n",
              "1          กรุงเทพมหานคร               NaN  \n",
              "2                 นครปฐม             เมือง  \n",
              "3          กรุงเทพมหานคร               NaN  \n",
              "4          กรุงเทพมหานคร               NaN  \n",
              "...                  ...               ...  \n",
              "839766         กาญจนบุรี               NaN  \n",
              "839767         กาญจนบุรี               NaN  \n",
              "839768         กาญจนบุรี               NaN  \n",
              "839769         กาญจนบุรี               NaN  \n",
              "839770         กาญจนบุรี               NaN  \n",
              "\n",
              "[839771 rows x 11 columns]"
            ],
            "text/html": [
              "\n",
              "\n",
              "  <div id=\"df-13f4a0d8-def0-4cf8-95fd-e2d987af189a\">\n",
              "    <div class=\"colab-df-container\">\n",
              "      <div>\n",
              "<style scoped>\n",
              "    .dataframe tbody tr th:only-of-type {\n",
              "        vertical-align: middle;\n",
              "    }\n",
              "\n",
              "    .dataframe tbody tr th {\n",
              "        vertical-align: top;\n",
              "    }\n",
              "\n",
              "    .dataframe thead th {\n",
              "        text-align: right;\n",
              "    }\n",
              "</style>\n",
              "<table border=\"1\" class=\"dataframe\">\n",
              "  <thead>\n",
              "    <tr style=\"text-align: right;\">\n",
              "      <th></th>\n",
              "      <th>No.</th>\n",
              "      <th>announce_date</th>\n",
              "      <th>Notified date</th>\n",
              "      <th>sex</th>\n",
              "      <th>age</th>\n",
              "      <th>Unit</th>\n",
              "      <th>nationality</th>\n",
              "      <th>province_of_isolation</th>\n",
              "      <th>risk</th>\n",
              "      <th>province_of_onset</th>\n",
              "      <th>district_of_onset</th>\n",
              "    </tr>\n",
              "  </thead>\n",
              "  <tbody>\n",
              "    <tr>\n",
              "      <th>0</th>\n",
              "      <td>1</td>\n",
              "      <td>12/1/2020</td>\n",
              "      <td>NaN</td>\n",
              "      <td>หญิง</td>\n",
              "      <td>61.0</td>\n",
              "      <td>ปี</td>\n",
              "      <td>China</td>\n",
              "      <td>กรุงเทพมหานคร</td>\n",
              "      <td>คนต่างชาติเดินทางมาจากต่างประเทศ</td>\n",
              "      <td>กรุงเทพมหานคร</td>\n",
              "      <td>NaN</td>\n",
              "    </tr>\n",
              "    <tr>\n",
              "      <th>1</th>\n",
              "      <td>2</td>\n",
              "      <td>17/1/2020</td>\n",
              "      <td>NaN</td>\n",
              "      <td>หญิง</td>\n",
              "      <td>74.0</td>\n",
              "      <td>ปี</td>\n",
              "      <td>China</td>\n",
              "      <td>กรุงเทพมหานคร</td>\n",
              "      <td>คนต่างชาติเดินทางมาจากต่างประเทศ</td>\n",
              "      <td>กรุงเทพมหานคร</td>\n",
              "      <td>NaN</td>\n",
              "    </tr>\n",
              "    <tr>\n",
              "      <th>2</th>\n",
              "      <td>3</td>\n",
              "      <td>22/1/2020</td>\n",
              "      <td>NaN</td>\n",
              "      <td>หญิง</td>\n",
              "      <td>73.0</td>\n",
              "      <td>ปี</td>\n",
              "      <td>Thailand</td>\n",
              "      <td>นครปฐม</td>\n",
              "      <td>คนต่างชาติเดินทางมาจากต่างประเทศ</td>\n",
              "      <td>นครปฐม</td>\n",
              "      <td>เมือง</td>\n",
              "    </tr>\n",
              "    <tr>\n",
              "      <th>3</th>\n",
              "      <td>4</td>\n",
              "      <td>22/1/2020</td>\n",
              "      <td>NaN</td>\n",
              "      <td>ชาย</td>\n",
              "      <td>68.0</td>\n",
              "      <td>ปี</td>\n",
              "      <td>China</td>\n",
              "      <td>กรุงเทพมหานคร</td>\n",
              "      <td>คนต่างชาติเดินทางมาจากต่างประเทศ</td>\n",
              "      <td>กรุงเทพมหานคร</td>\n",
              "      <td>NaN</td>\n",
              "    </tr>\n",
              "    <tr>\n",
              "      <th>4</th>\n",
              "      <td>5</td>\n",
              "      <td>24/1/2020</td>\n",
              "      <td>NaN</td>\n",
              "      <td>หญิง</td>\n",
              "      <td>66.0</td>\n",
              "      <td>ปี</td>\n",
              "      <td>China</td>\n",
              "      <td>นนทบุรี</td>\n",
              "      <td>คนต่างชาติเดินทางมาจากต่างประเทศ</td>\n",
              "      <td>กรุงเทพมหานคร</td>\n",
              "      <td>NaN</td>\n",
              "    </tr>\n",
              "    <tr>\n",
              "      <th>...</th>\n",
              "      <td>...</td>\n",
              "      <td>...</td>\n",
              "      <td>...</td>\n",
              "      <td>...</td>\n",
              "      <td>...</td>\n",
              "      <td>...</td>\n",
              "      <td>...</td>\n",
              "      <td>...</td>\n",
              "      <td>...</td>\n",
              "      <td>...</td>\n",
              "      <td>...</td>\n",
              "    </tr>\n",
              "    <tr>\n",
              "      <th>839766</th>\n",
              "      <td>839767</td>\n",
              "      <td>12/8/2021</td>\n",
              "      <td>11/8/2021</td>\n",
              "      <td>ชาย</td>\n",
              "      <td>52.0</td>\n",
              "      <td>ปี</td>\n",
              "      <td>NaN</td>\n",
              "      <td>กาญจนบุรี</td>\n",
              "      <td>ทัณฑสถาน/เรือนจำ</td>\n",
              "      <td>กาญจนบุรี</td>\n",
              "      <td>NaN</td>\n",
              "    </tr>\n",
              "    <tr>\n",
              "      <th>839767</th>\n",
              "      <td>839768</td>\n",
              "      <td>12/8/2021</td>\n",
              "      <td>11/8/2021</td>\n",
              "      <td>ชาย</td>\n",
              "      <td>34.0</td>\n",
              "      <td>ปี</td>\n",
              "      <td>Thailand</td>\n",
              "      <td>กาญจนบุรี</td>\n",
              "      <td>ทัณฑสถาน/เรือนจำ</td>\n",
              "      <td>กาญจนบุรี</td>\n",
              "      <td>NaN</td>\n",
              "    </tr>\n",
              "    <tr>\n",
              "      <th>839768</th>\n",
              "      <td>839769</td>\n",
              "      <td>12/8/2021</td>\n",
              "      <td>11/8/2021</td>\n",
              "      <td>ชาย</td>\n",
              "      <td>31.0</td>\n",
              "      <td>ปี</td>\n",
              "      <td>Thailand</td>\n",
              "      <td>กาญจนบุรี</td>\n",
              "      <td>ทัณฑสถาน/เรือนจำ</td>\n",
              "      <td>กาญจนบุรี</td>\n",
              "      <td>NaN</td>\n",
              "    </tr>\n",
              "    <tr>\n",
              "      <th>839769</th>\n",
              "      <td>839770</td>\n",
              "      <td>12/8/2021</td>\n",
              "      <td>11/8/2021</td>\n",
              "      <td>ชาย</td>\n",
              "      <td>83.0</td>\n",
              "      <td>ปี</td>\n",
              "      <td>Thailand</td>\n",
              "      <td>กาญจนบุรี</td>\n",
              "      <td>ทัณฑสถาน/เรือนจำ</td>\n",
              "      <td>กาญจนบุรี</td>\n",
              "      <td>NaN</td>\n",
              "    </tr>\n",
              "    <tr>\n",
              "      <th>839770</th>\n",
              "      <td>839771</td>\n",
              "      <td>12/8/2021</td>\n",
              "      <td>11/8/2021</td>\n",
              "      <td>ชาย</td>\n",
              "      <td>47.0</td>\n",
              "      <td>ปี</td>\n",
              "      <td>Thailand</td>\n",
              "      <td>กาญจนบุรี</td>\n",
              "      <td>ทัณฑสถาน/เรือนจำ</td>\n",
              "      <td>กาญจนบุรี</td>\n",
              "      <td>NaN</td>\n",
              "    </tr>\n",
              "  </tbody>\n",
              "</table>\n",
              "<p>839771 rows × 11 columns</p>\n",
              "</div>\n",
              "      <button class=\"colab-df-convert\" onclick=\"convertToInteractive('df-13f4a0d8-def0-4cf8-95fd-e2d987af189a')\"\n",
              "              title=\"Convert this dataframe to an interactive table.\"\n",
              "              style=\"display:none;\">\n",
              "\n",
              "  <svg xmlns=\"http://www.w3.org/2000/svg\" height=\"24px\"viewBox=\"0 0 24 24\"\n",
              "       width=\"24px\">\n",
              "    <path d=\"M0 0h24v24H0V0z\" fill=\"none\"/>\n",
              "    <path d=\"M18.56 5.44l.94 2.06.94-2.06 2.06-.94-2.06-.94-.94-2.06-.94 2.06-2.06.94zm-11 1L8.5 8.5l.94-2.06 2.06-.94-2.06-.94L8.5 2.5l-.94 2.06-2.06.94zm10 10l.94 2.06.94-2.06 2.06-.94-2.06-.94-.94-2.06-.94 2.06-2.06.94z\"/><path d=\"M17.41 7.96l-1.37-1.37c-.4-.4-.92-.59-1.43-.59-.52 0-1.04.2-1.43.59L10.3 9.45l-7.72 7.72c-.78.78-.78 2.05 0 2.83L4 21.41c.39.39.9.59 1.41.59.51 0 1.02-.2 1.41-.59l7.78-7.78 2.81-2.81c.8-.78.8-2.07 0-2.86zM5.41 20L4 18.59l7.72-7.72 1.47 1.35L5.41 20z\"/>\n",
              "  </svg>\n",
              "      </button>\n",
              "\n",
              "\n",
              "\n",
              "    <div id=\"df-140f0e90-402f-446d-ad81-2663dfa2f7b2\">\n",
              "      <button class=\"colab-df-quickchart\" onclick=\"quickchart('df-140f0e90-402f-446d-ad81-2663dfa2f7b2')\"\n",
              "              title=\"Suggest charts.\"\n",
              "              style=\"display:none;\">\n",
              "\n",
              "<svg xmlns=\"http://www.w3.org/2000/svg\" height=\"24px\"viewBox=\"0 0 24 24\"\n",
              "     width=\"24px\">\n",
              "    <g>\n",
              "        <path d=\"M19 3H5c-1.1 0-2 .9-2 2v14c0 1.1.9 2 2 2h14c1.1 0 2-.9 2-2V5c0-1.1-.9-2-2-2zM9 17H7v-7h2v7zm4 0h-2V7h2v10zm4 0h-2v-4h2v4z\"/>\n",
              "    </g>\n",
              "</svg>\n",
              "      </button>\n",
              "    </div>\n",
              "\n",
              "<style>\n",
              "  .colab-df-quickchart {\n",
              "    background-color: #E8F0FE;\n",
              "    border: none;\n",
              "    border-radius: 50%;\n",
              "    cursor: pointer;\n",
              "    display: none;\n",
              "    fill: #1967D2;\n",
              "    height: 32px;\n",
              "    padding: 0 0 0 0;\n",
              "    width: 32px;\n",
              "  }\n",
              "\n",
              "  .colab-df-quickchart:hover {\n",
              "    background-color: #E2EBFA;\n",
              "    box-shadow: 0px 1px 2px rgba(60, 64, 67, 0.3), 0px 1px 3px 1px rgba(60, 64, 67, 0.15);\n",
              "    fill: #174EA6;\n",
              "  }\n",
              "\n",
              "  [theme=dark] .colab-df-quickchart {\n",
              "    background-color: #3B4455;\n",
              "    fill: #D2E3FC;\n",
              "  }\n",
              "\n",
              "  [theme=dark] .colab-df-quickchart:hover {\n",
              "    background-color: #434B5C;\n",
              "    box-shadow: 0px 1px 3px 1px rgba(0, 0, 0, 0.15);\n",
              "    filter: drop-shadow(0px 1px 2px rgba(0, 0, 0, 0.3));\n",
              "    fill: #FFFFFF;\n",
              "  }\n",
              "</style>\n",
              "\n",
              "    <script>\n",
              "      async function quickchart(key) {\n",
              "        const containerElement = document.querySelector('#' + key);\n",
              "        const charts = await google.colab.kernel.invokeFunction(\n",
              "            'suggestCharts', [key], {});\n",
              "      }\n",
              "    </script>\n",
              "\n",
              "      <script>\n",
              "\n",
              "function displayQuickchartButton(domScope) {\n",
              "  let quickchartButtonEl =\n",
              "    domScope.querySelector('#df-140f0e90-402f-446d-ad81-2663dfa2f7b2 button.colab-df-quickchart');\n",
              "  quickchartButtonEl.style.display =\n",
              "    google.colab.kernel.accessAllowed ? 'block' : 'none';\n",
              "}\n",
              "\n",
              "        displayQuickchartButton(document);\n",
              "      </script>\n",
              "      <style>\n",
              "    .colab-df-container {\n",
              "      display:flex;\n",
              "      flex-wrap:wrap;\n",
              "      gap: 12px;\n",
              "    }\n",
              "\n",
              "    .colab-df-convert {\n",
              "      background-color: #E8F0FE;\n",
              "      border: none;\n",
              "      border-radius: 50%;\n",
              "      cursor: pointer;\n",
              "      display: none;\n",
              "      fill: #1967D2;\n",
              "      height: 32px;\n",
              "      padding: 0 0 0 0;\n",
              "      width: 32px;\n",
              "    }\n",
              "\n",
              "    .colab-df-convert:hover {\n",
              "      background-color: #E2EBFA;\n",
              "      box-shadow: 0px 1px 2px rgba(60, 64, 67, 0.3), 0px 1px 3px 1px rgba(60, 64, 67, 0.15);\n",
              "      fill: #174EA6;\n",
              "    }\n",
              "\n",
              "    [theme=dark] .colab-df-convert {\n",
              "      background-color: #3B4455;\n",
              "      fill: #D2E3FC;\n",
              "    }\n",
              "\n",
              "    [theme=dark] .colab-df-convert:hover {\n",
              "      background-color: #434B5C;\n",
              "      box-shadow: 0px 1px 3px 1px rgba(0, 0, 0, 0.15);\n",
              "      filter: drop-shadow(0px 1px 2px rgba(0, 0, 0, 0.3));\n",
              "      fill: #FFFFFF;\n",
              "    }\n",
              "  </style>\n",
              "\n",
              "      <script>\n",
              "        const buttonEl =\n",
              "          document.querySelector('#df-13f4a0d8-def0-4cf8-95fd-e2d987af189a button.colab-df-convert');\n",
              "        buttonEl.style.display =\n",
              "          google.colab.kernel.accessAllowed ? 'block' : 'none';\n",
              "\n",
              "        async function convertToInteractive(key) {\n",
              "          const element = document.querySelector('#df-13f4a0d8-def0-4cf8-95fd-e2d987af189a');\n",
              "          const dataTable =\n",
              "            await google.colab.kernel.invokeFunction('convertToInteractive',\n",
              "                                                     [key], {});\n",
              "          if (!dataTable) return;\n",
              "\n",
              "          const docLinkHtml = 'Like what you see? Visit the ' +\n",
              "            '<a target=\"_blank\" href=https://colab.research.google.com/notebooks/data_table.ipynb>data table notebook</a>'\n",
              "            + ' to learn more about interactive tables.';\n",
              "          element.innerHTML = '';\n",
              "          dataTable['output_type'] = 'display_data';\n",
              "          await google.colab.output.renderOutput(dataTable, element);\n",
              "          const docLink = document.createElement('div');\n",
              "          docLink.innerHTML = docLinkHtml;\n",
              "          element.appendChild(docLink);\n",
              "        }\n",
              "      </script>\n",
              "    </div>\n",
              "  </div>\n"
            ]
          },
          "metadata": {},
          "execution_count": 6
        }
      ],
      "source": [
        "data = pd.read_csv(os.path.join('/content/drive/MyDrive/Year4/Data Mining/confirmed-cases.csv'))\n",
        "data"
      ],
      "id": "4MZXFRNAPKVr"
    },
    {
      "cell_type": "code",
      "source": [
        "data = pd.read_excel('https://docs.google.com/spreadsheets/d/e/2PACX-1vTQnurtnes1Rhh42-WrffcSyRLx7g9tMv3pl73Vjemxgh0A2qwb9VT693kOZkRGgAtCLxcNYsq1oMfb/pub?output=xlsx')"
      ],
      "metadata": {
        "id": "IGlgha-b6SYu"
      },
      "id": "IGlgha-b6SYu",
      "execution_count": 7,
      "outputs": []
    },
    {
      "cell_type": "code",
      "execution_count": 8,
      "id": "dd2b0e12",
      "metadata": {
        "id": "dd2b0e12"
      },
      "outputs": [],
      "source": [
        "import numpy as np"
      ]
    },
    {
      "cell_type": "code",
      "source": [
        "x = np.arange(5)\n",
        "x"
      ],
      "metadata": {
        "colab": {
          "base_uri": "https://localhost:8080/"
        },
        "id": "WO6Pj5AVQZVj",
        "outputId": "1961efaf-6732-445b-de37-0a808d574b4f"
      },
      "id": "WO6Pj5AVQZVj",
      "execution_count": 9,
      "outputs": [
        {
          "output_type": "execute_result",
          "data": {
            "text/plain": [
              "array([0, 1, 2, 3, 4])"
            ]
          },
          "metadata": {},
          "execution_count": 9
        }
      ]
    },
    {
      "cell_type": "code",
      "source": [
        "# numpy.linspace(start, stop, num=50, endpoint=True, retstep=False, dtype=None, axis=0)[source]\n",
        "y = np.linspace(start = 2, stop = 10, num = 5)\n",
        "y"
      ],
      "metadata": {
        "colab": {
          "base_uri": "https://localhost:8080/"
        },
        "id": "IMp72y9MQrPD",
        "outputId": "c1b1c6f4-a7ca-4b93-ca22-71c63e4d5bfb"
      },
      "id": "IMp72y9MQrPD",
      "execution_count": 10,
      "outputs": [
        {
          "output_type": "execute_result",
          "data": {
            "text/plain": [
              "array([ 2.,  4.,  6.,  8., 10.])"
            ]
          },
          "metadata": {},
          "execution_count": 10
        }
      ]
    },
    {
      "cell_type": "markdown",
      "id": "4fa59e1f",
      "metadata": {
        "id": "4fa59e1f"
      },
      "source": [
        "Chebyshev distance เป็นการวัดความต่างระหว่างข้อมูลแบบ $L_\\infty$ norm ซึ่งเป็นกรณีพิเศษของ Minkowski distance: $\\left(\\sum_{i=1}^{k} \\lvert x_i - y_i \\rvert^r\\right)^{1/r}$ ที่ $r=\\infty$ โดยสามารถคำนวณค่าได้ดังนี้\n",
        "$$d(x,y) = \\max_{i} \\left( \\lvert x_{i} - y_{i} \\rvert \\right)$$"
      ]
    },
    {
      "cell_type": "markdown",
      "id": "704ef53a",
      "metadata": {
        "id": "704ef53a"
      },
      "source": [
        "สร้างฟังก์ชันสำหรับคำนวณ Chebyshev distance ระหว่างเวคเตอร์ 2 เวคเตอร์ ที่แต่ละเวคเตอร์มีขนาด k มิติ (numpy array of length k)"
      ]
    },
    {
      "cell_type": "code",
      "execution_count": 11,
      "id": "0b20f410",
      "metadata": {
        "id": "0b20f410",
        "colab": {
          "base_uri": "https://localhost:8080/"
        },
        "outputId": "515aa6b9-87c3-41fa-da88-76e13cad1590"
      },
      "outputs": [
        {
          "output_type": "stream",
          "name": "stdout",
          "text": [
            "6.0\n"
          ]
        }
      ],
      "source": [
        "def vec(v1,v2):\n",
        "    max = 0\n",
        "    for i in range(len(v1)):\n",
        "        max = np.max(np.abs(v1[i]-v2[i]))\n",
        "    return (max)\n",
        "print(vec(x,y))"
      ]
    },
    {
      "cell_type": "markdown",
      "id": "4b22711a",
      "metadata": {
        "id": "4b22711a"
      },
      "source": [
        "Canberra distance เป็นการวัดความต่างระหว่างข้อมูลแบบ Manhattan distance ที่ถ่วงน้ำหนัก (weighted Manhattan distance) โดยคำนวณดังนี้\n",
        "$$d(x,y) = \\sum_{i=1}^{k} \\frac{\\lvert x_{i} - y_{i} \\rvert}{\\lvert x_{i} \\rvert + \\lvert y_{i} \\rvert}$$"
      ]
    },
    {
      "cell_type": "markdown",
      "id": "a9fc6c1b",
      "metadata": {
        "id": "a9fc6c1b"
      },
      "source": [
        "สร้างฟังก์ชันสำหรับคำนวณ Canberra distance ระหว่างเวคเตอร์ 2 เวคเตอร์ ที่แต่ละเวคเตอร์มีขนาด k มิติ"
      ]
    },
    {
      "cell_type": "code",
      "execution_count": 12,
      "id": "5c92f63f",
      "metadata": {
        "id": "5c92f63f",
        "colab": {
          "base_uri": "https://localhost:8080/"
        },
        "outputId": "0d587fd7-3169-41b8-d183-a3886827fed7"
      },
      "outputs": [
        {
          "output_type": "stream",
          "name": "stdout",
          "text": [
            "2.983116883116883\n"
          ]
        }
      ],
      "source": [
        "def vec(v1,v2):\n",
        "    for i in range(len(v1)):\n",
        "        sum = np.sum(np.abs(v1 - v2) / (np.abs(v1)+np.abs(v2)))\n",
        "    return (sum)\n",
        "print(vec(x,y))"
      ]
    },
    {
      "cell_type": "markdown",
      "id": "4536822f",
      "metadata": {
        "id": "4536822f"
      },
      "source": [
        "สร้างฟังก์ชันสำหรับคำนวณค่าเฉลี่ยของค่าในเวคเตอร์หนึ่ง โดยไม่ใช้ฟังก์ชันสำเร็จรูป `mean()` ใช้เพียง numpy array และการบวกลบคูณหาร"
      ]
    },
    {
      "cell_type": "code",
      "execution_count": 13,
      "id": "961ec0b4",
      "metadata": {
        "id": "961ec0b4",
        "colab": {
          "base_uri": "https://localhost:8080/"
        },
        "outputId": "d0a674cd-d817-48fd-9a4f-cc0bb85eb80f"
      },
      "outputs": [
        {
          "output_type": "stream",
          "name": "stdout",
          "text": [
            "2.0\n"
          ]
        }
      ],
      "source": [
        "def mean_n(m):\n",
        "    for i in range(len(m)):\n",
        "        mean = np.sum(m) / len(m)\n",
        "    return (mean)\n",
        "print(mean_n(x))"
      ]
    },
    {
      "cell_type": "markdown",
      "id": "b623b625",
      "metadata": {
        "id": "b623b625"
      },
      "source": [
        "สร้างฟังก์ชันสำหรับคำนวณค่าเบี่ยงเบนมาตรฐานของค่าในเวคเตอร์หนึ่ง โดยไม่ใช้ฟังก์ชัน `std()` หรือ `stddev()` ใช้เพียง numpy array และการบวกลบคูณหาร"
      ]
    },
    {
      "cell_type": "code",
      "execution_count": 18,
      "id": "8e163a57",
      "metadata": {
        "id": "8e163a57",
        "colab": {
          "base_uri": "https://localhost:8080/"
        },
        "outputId": "0d805366-2d6c-4a24-8f74-210f390fdb30"
      },
      "outputs": [
        {
          "output_type": "stream",
          "name": "stdout",
          "text": [
            "1.4142135623730951\n"
          ]
        }
      ],
      "source": [
        "def std_d(s):\n",
        "    for i in range(len(s)):\n",
        "        std = np.sqrt(np.sum((s - (np.sum(s) / len(s)) )**2/ len(s)))\n",
        "    return (std)\n",
        "print(std_d(x))"
      ]
    }
  ],
  "metadata": {
    "kernelspec": {
      "display_name": "Python 3 (ipykernel)",
      "language": "python",
      "name": "python3"
    },
    "language_info": {
      "codemirror_mode": {
        "name": "ipython",
        "version": 3
      },
      "file_extension": ".py",
      "mimetype": "text/x-python",
      "name": "python",
      "nbconvert_exporter": "python",
      "pygments_lexer": "ipython3",
      "version": "3.8.8"
    },
    "colab": {
      "provenance": [],
      "include_colab_link": true
    }
  },
  "nbformat": 4,
  "nbformat_minor": 5
}