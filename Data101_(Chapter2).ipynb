{
  "nbformat": 4,
  "nbformat_minor": 0,
  "metadata": {
    "colab": {
      "name": "Data101 (Chapter2).ipynb",
      "provenance": [],
      "include_colab_link": true
    },
    "kernelspec": {
      "name": "python3",
      "display_name": "Python 3"
    },
    "language_info": {
      "name": "python"
    }
  },
  "cells": [
    {
      "cell_type": "markdown",
      "metadata": {
        "id": "view-in-github",
        "colab_type": "text"
      },
      "source": [
        "<a href=\"https://colab.research.google.com/github/qmcnn/Data-Mining/blob/main/Data101_(Chapter2).ipynb\" target=\"_parent\"><img src=\"https://colab.research.google.com/assets/colab-badge.svg\" alt=\"Open In Colab\"/></a>"
      ]
    },
    {
      "cell_type": "markdown",
      "source": [
        "Source : https://github.com/tohnperfect/DPDM2021\n"
      ],
      "metadata": {
        "id": "TrwlO4cOK_VF"
      }
    },
    {
      "cell_type": "markdown",
      "metadata": {
        "id": "urxAY39e_89t"
      },
      "source": [
        "pandas คือ package ที่มีคนพัฒนาขึ้นมาเพื่อใช้จัดการข้อมูลที่มีลักษณะเป็นตารางซึ่งใน pandas เรียกว่า dataframe"
      ]
    },
    {
      "cell_type": "code",
      "metadata": {
        "id": "2JNjGcAR-sKO"
      },
      "source": [
        "import pandas # import pandas คือ โหลด package ที่ชื่อว่า pandas มาใช้"
      ],
      "execution_count": 1,
      "outputs": []
    },
    {
      "cell_type": "code",
      "metadata": {
        "id": "5lsQCexZ_vQo"
      },
      "source": [
        "import pandas as pd # โหลด package ที่ชื่อว่า pandas มาใช้ แล้วตั้งชื่อว่า pd"
      ],
      "execution_count": 2,
      "outputs": []
    },
    {
      "cell_type": "code",
      "source": [
        "ls"
      ],
      "metadata": {
        "id": "u6A8Yu8bMKhd",
        "outputId": "97128e09-4e65-462f-e12a-6be0ddd16a8e",
        "colab": {
          "base_uri": "https://localhost:8080/"
        }
      },
      "execution_count": 12,
      "outputs": [
        {
          "output_type": "stream",
          "name": "stdout",
          "text": [
            "\u001b[0m\u001b[01;34msample_data\u001b[0m/\n"
          ]
        }
      ]
    },
    {
      "cell_type": "markdown",
      "metadata": {
        "id": "nEcy6fbdBJZy"
      },
      "source": [
        "ไฟล์ .CSV (csv = comma separated values)"
      ]
    },
    {
      "cell_type": "code",
      "source": [
        "from google.colab import drive\n",
        "drive.mount(\"/content/drive/\")"
      ],
      "metadata": {
        "id": "aD9ND89BOiov",
        "outputId": "b8700d0a-8acb-46e9-b321-753aa098b91e",
        "colab": {
          "base_uri": "https://localhost:8080/"
        }
      },
      "execution_count": 18,
      "outputs": [
        {
          "output_type": "stream",
          "name": "stdout",
          "text": [
            "Mounted at /content/drive/\n"
          ]
        }
      ]
    },
    {
      "cell_type": "code",
      "source": [
        "data_df = pd.read_csv('/content/drive/MyDrive/Year4/Data Mining/diabetes.csv')"
      ],
      "metadata": {
        "id": "mZU3sTwCOwXL"
      },
      "execution_count": 23,
      "outputs": []
    },
    {
      "cell_type": "code",
      "metadata": {
        "colab": {
          "base_uri": "https://localhost:8080/",
          "height": 419
        },
        "id": "P98sSAPQECYy",
        "outputId": "da4db41f-03de-4152-fe85-d80b4e69d93e"
      },
      "source": [
        "data_df"
      ],
      "execution_count": 25,
      "outputs": [
        {
          "output_type": "execute_result",
          "data": {
            "text/plain": [
              "     Pregnancies  Glucose  BloodPressure  SkinThickness  Insulin   BMI  \\\n",
              "0              6      148             72             35        0  33.6   \n",
              "1              1       85             66             29        0  26.6   \n",
              "2              8      183             64              0        0  23.3   \n",
              "3              1       89             66             23       94  28.1   \n",
              "4              0      137             40             35      168  43.1   \n",
              "..           ...      ...            ...            ...      ...   ...   \n",
              "763           10      101             76             48      180  32.9   \n",
              "764            2      122             70             27        0  36.8   \n",
              "765            5      121             72             23      112  26.2   \n",
              "766            1      126             60              0        0  30.1   \n",
              "767            1       93             70             31        0  30.4   \n",
              "\n",
              "     DiabetesPedigreeFunction  Age  Outcome  \n",
              "0                       0.627   50        1  \n",
              "1                       0.351   31        0  \n",
              "2                       0.672   32        1  \n",
              "3                       0.167   21        0  \n",
              "4                       2.288   33        1  \n",
              "..                        ...  ...      ...  \n",
              "763                     0.171   63        0  \n",
              "764                     0.340   27        0  \n",
              "765                     0.245   30        0  \n",
              "766                     0.349   47        1  \n",
              "767                     0.315   23        0  \n",
              "\n",
              "[768 rows x 9 columns]"
            ],
            "text/html": [
              "\n",
              "  <div id=\"df-6b6b1eb5-4703-4107-8e1c-2e56cfeb5ea0\">\n",
              "    <div class=\"colab-df-container\">\n",
              "      <div>\n",
              "<style scoped>\n",
              "    .dataframe tbody tr th:only-of-type {\n",
              "        vertical-align: middle;\n",
              "    }\n",
              "\n",
              "    .dataframe tbody tr th {\n",
              "        vertical-align: top;\n",
              "    }\n",
              "\n",
              "    .dataframe thead th {\n",
              "        text-align: right;\n",
              "    }\n",
              "</style>\n",
              "<table border=\"1\" class=\"dataframe\">\n",
              "  <thead>\n",
              "    <tr style=\"text-align: right;\">\n",
              "      <th></th>\n",
              "      <th>Pregnancies</th>\n",
              "      <th>Glucose</th>\n",
              "      <th>BloodPressure</th>\n",
              "      <th>SkinThickness</th>\n",
              "      <th>Insulin</th>\n",
              "      <th>BMI</th>\n",
              "      <th>DiabetesPedigreeFunction</th>\n",
              "      <th>Age</th>\n",
              "      <th>Outcome</th>\n",
              "    </tr>\n",
              "  </thead>\n",
              "  <tbody>\n",
              "    <tr>\n",
              "      <th>0</th>\n",
              "      <td>6</td>\n",
              "      <td>148</td>\n",
              "      <td>72</td>\n",
              "      <td>35</td>\n",
              "      <td>0</td>\n",
              "      <td>33.6</td>\n",
              "      <td>0.627</td>\n",
              "      <td>50</td>\n",
              "      <td>1</td>\n",
              "    </tr>\n",
              "    <tr>\n",
              "      <th>1</th>\n",
              "      <td>1</td>\n",
              "      <td>85</td>\n",
              "      <td>66</td>\n",
              "      <td>29</td>\n",
              "      <td>0</td>\n",
              "      <td>26.6</td>\n",
              "      <td>0.351</td>\n",
              "      <td>31</td>\n",
              "      <td>0</td>\n",
              "    </tr>\n",
              "    <tr>\n",
              "      <th>2</th>\n",
              "      <td>8</td>\n",
              "      <td>183</td>\n",
              "      <td>64</td>\n",
              "      <td>0</td>\n",
              "      <td>0</td>\n",
              "      <td>23.3</td>\n",
              "      <td>0.672</td>\n",
              "      <td>32</td>\n",
              "      <td>1</td>\n",
              "    </tr>\n",
              "    <tr>\n",
              "      <th>3</th>\n",
              "      <td>1</td>\n",
              "      <td>89</td>\n",
              "      <td>66</td>\n",
              "      <td>23</td>\n",
              "      <td>94</td>\n",
              "      <td>28.1</td>\n",
              "      <td>0.167</td>\n",
              "      <td>21</td>\n",
              "      <td>0</td>\n",
              "    </tr>\n",
              "    <tr>\n",
              "      <th>4</th>\n",
              "      <td>0</td>\n",
              "      <td>137</td>\n",
              "      <td>40</td>\n",
              "      <td>35</td>\n",
              "      <td>168</td>\n",
              "      <td>43.1</td>\n",
              "      <td>2.288</td>\n",
              "      <td>33</td>\n",
              "      <td>1</td>\n",
              "    </tr>\n",
              "    <tr>\n",
              "      <th>...</th>\n",
              "      <td>...</td>\n",
              "      <td>...</td>\n",
              "      <td>...</td>\n",
              "      <td>...</td>\n",
              "      <td>...</td>\n",
              "      <td>...</td>\n",
              "      <td>...</td>\n",
              "      <td>...</td>\n",
              "      <td>...</td>\n",
              "    </tr>\n",
              "    <tr>\n",
              "      <th>763</th>\n",
              "      <td>10</td>\n",
              "      <td>101</td>\n",
              "      <td>76</td>\n",
              "      <td>48</td>\n",
              "      <td>180</td>\n",
              "      <td>32.9</td>\n",
              "      <td>0.171</td>\n",
              "      <td>63</td>\n",
              "      <td>0</td>\n",
              "    </tr>\n",
              "    <tr>\n",
              "      <th>764</th>\n",
              "      <td>2</td>\n",
              "      <td>122</td>\n",
              "      <td>70</td>\n",
              "      <td>27</td>\n",
              "      <td>0</td>\n",
              "      <td>36.8</td>\n",
              "      <td>0.340</td>\n",
              "      <td>27</td>\n",
              "      <td>0</td>\n",
              "    </tr>\n",
              "    <tr>\n",
              "      <th>765</th>\n",
              "      <td>5</td>\n",
              "      <td>121</td>\n",
              "      <td>72</td>\n",
              "      <td>23</td>\n",
              "      <td>112</td>\n",
              "      <td>26.2</td>\n",
              "      <td>0.245</td>\n",
              "      <td>30</td>\n",
              "      <td>0</td>\n",
              "    </tr>\n",
              "    <tr>\n",
              "      <th>766</th>\n",
              "      <td>1</td>\n",
              "      <td>126</td>\n",
              "      <td>60</td>\n",
              "      <td>0</td>\n",
              "      <td>0</td>\n",
              "      <td>30.1</td>\n",
              "      <td>0.349</td>\n",
              "      <td>47</td>\n",
              "      <td>1</td>\n",
              "    </tr>\n",
              "    <tr>\n",
              "      <th>767</th>\n",
              "      <td>1</td>\n",
              "      <td>93</td>\n",
              "      <td>70</td>\n",
              "      <td>31</td>\n",
              "      <td>0</td>\n",
              "      <td>30.4</td>\n",
              "      <td>0.315</td>\n",
              "      <td>23</td>\n",
              "      <td>0</td>\n",
              "    </tr>\n",
              "  </tbody>\n",
              "</table>\n",
              "<p>768 rows × 9 columns</p>\n",
              "</div>\n",
              "      <button class=\"colab-df-convert\" onclick=\"convertToInteractive('df-6b6b1eb5-4703-4107-8e1c-2e56cfeb5ea0')\"\n",
              "              title=\"Convert this dataframe to an interactive table.\"\n",
              "              style=\"display:none;\">\n",
              "        \n",
              "  <svg xmlns=\"http://www.w3.org/2000/svg\" height=\"24px\"viewBox=\"0 0 24 24\"\n",
              "       width=\"24px\">\n",
              "    <path d=\"M0 0h24v24H0V0z\" fill=\"none\"/>\n",
              "    <path d=\"M18.56 5.44l.94 2.06.94-2.06 2.06-.94-2.06-.94-.94-2.06-.94 2.06-2.06.94zm-11 1L8.5 8.5l.94-2.06 2.06-.94-2.06-.94L8.5 2.5l-.94 2.06-2.06.94zm10 10l.94 2.06.94-2.06 2.06-.94-2.06-.94-.94-2.06-.94 2.06-2.06.94z\"/><path d=\"M17.41 7.96l-1.37-1.37c-.4-.4-.92-.59-1.43-.59-.52 0-1.04.2-1.43.59L10.3 9.45l-7.72 7.72c-.78.78-.78 2.05 0 2.83L4 21.41c.39.39.9.59 1.41.59.51 0 1.02-.2 1.41-.59l7.78-7.78 2.81-2.81c.8-.78.8-2.07 0-2.86zM5.41 20L4 18.59l7.72-7.72 1.47 1.35L5.41 20z\"/>\n",
              "  </svg>\n",
              "      </button>\n",
              "      \n",
              "  <style>\n",
              "    .colab-df-container {\n",
              "      display:flex;\n",
              "      flex-wrap:wrap;\n",
              "      gap: 12px;\n",
              "    }\n",
              "\n",
              "    .colab-df-convert {\n",
              "      background-color: #E8F0FE;\n",
              "      border: none;\n",
              "      border-radius: 50%;\n",
              "      cursor: pointer;\n",
              "      display: none;\n",
              "      fill: #1967D2;\n",
              "      height: 32px;\n",
              "      padding: 0 0 0 0;\n",
              "      width: 32px;\n",
              "    }\n",
              "\n",
              "    .colab-df-convert:hover {\n",
              "      background-color: #E2EBFA;\n",
              "      box-shadow: 0px 1px 2px rgba(60, 64, 67, 0.3), 0px 1px 3px 1px rgba(60, 64, 67, 0.15);\n",
              "      fill: #174EA6;\n",
              "    }\n",
              "\n",
              "    [theme=dark] .colab-df-convert {\n",
              "      background-color: #3B4455;\n",
              "      fill: #D2E3FC;\n",
              "    }\n",
              "\n",
              "    [theme=dark] .colab-df-convert:hover {\n",
              "      background-color: #434B5C;\n",
              "      box-shadow: 0px 1px 3px 1px rgba(0, 0, 0, 0.15);\n",
              "      filter: drop-shadow(0px 1px 2px rgba(0, 0, 0, 0.3));\n",
              "      fill: #FFFFFF;\n",
              "    }\n",
              "  </style>\n",
              "\n",
              "      <script>\n",
              "        const buttonEl =\n",
              "          document.querySelector('#df-6b6b1eb5-4703-4107-8e1c-2e56cfeb5ea0 button.colab-df-convert');\n",
              "        buttonEl.style.display =\n",
              "          google.colab.kernel.accessAllowed ? 'block' : 'none';\n",
              "\n",
              "        async function convertToInteractive(key) {\n",
              "          const element = document.querySelector('#df-6b6b1eb5-4703-4107-8e1c-2e56cfeb5ea0');\n",
              "          const dataTable =\n",
              "            await google.colab.kernel.invokeFunction('convertToInteractive',\n",
              "                                                     [key], {});\n",
              "          if (!dataTable) return;\n",
              "\n",
              "          const docLinkHtml = 'Like what you see? Visit the ' +\n",
              "            '<a target=\"_blank\" href=https://colab.research.google.com/notebooks/data_table.ipynb>data table notebook</a>'\n",
              "            + ' to learn more about interactive tables.';\n",
              "          element.innerHTML = '';\n",
              "          dataTable['output_type'] = 'display_data';\n",
              "          await google.colab.output.renderOutput(dataTable, element);\n",
              "          const docLink = document.createElement('div');\n",
              "          docLink.innerHTML = docLinkHtml;\n",
              "          element.appendChild(docLink);\n",
              "        }\n",
              "      </script>\n",
              "    </div>\n",
              "  </div>\n",
              "  "
            ]
          },
          "metadata": {},
          "execution_count": 25
        }
      ]
    },
    {
      "cell_type": "code",
      "metadata": {
        "colab": {
          "base_uri": "https://localhost:8080/",
          "height": 419
        },
        "id": "RSGsy9XAEFj4",
        "outputId": "601ee7db-fee8-4373-8859-6cd05cce650e"
      },
      "source": [
        "data_df2 = pandas.read_csv('/content/drive/MyDrive/Year4/Data Mining/diabetes.csv')\n",
        "data_df2"
      ],
      "execution_count": 27,
      "outputs": [
        {
          "output_type": "execute_result",
          "data": {
            "text/plain": [
              "     Pregnancies  Glucose  BloodPressure  SkinThickness  Insulin   BMI  \\\n",
              "0              6      148             72             35        0  33.6   \n",
              "1              1       85             66             29        0  26.6   \n",
              "2              8      183             64              0        0  23.3   \n",
              "3              1       89             66             23       94  28.1   \n",
              "4              0      137             40             35      168  43.1   \n",
              "..           ...      ...            ...            ...      ...   ...   \n",
              "763           10      101             76             48      180  32.9   \n",
              "764            2      122             70             27        0  36.8   \n",
              "765            5      121             72             23      112  26.2   \n",
              "766            1      126             60              0        0  30.1   \n",
              "767            1       93             70             31        0  30.4   \n",
              "\n",
              "     DiabetesPedigreeFunction  Age  Outcome  \n",
              "0                       0.627   50        1  \n",
              "1                       0.351   31        0  \n",
              "2                       0.672   32        1  \n",
              "3                       0.167   21        0  \n",
              "4                       2.288   33        1  \n",
              "..                        ...  ...      ...  \n",
              "763                     0.171   63        0  \n",
              "764                     0.340   27        0  \n",
              "765                     0.245   30        0  \n",
              "766                     0.349   47        1  \n",
              "767                     0.315   23        0  \n",
              "\n",
              "[768 rows x 9 columns]"
            ],
            "text/html": [
              "\n",
              "  <div id=\"df-f4028cd9-89e9-4fcf-9424-4955e6778d3b\">\n",
              "    <div class=\"colab-df-container\">\n",
              "      <div>\n",
              "<style scoped>\n",
              "    .dataframe tbody tr th:only-of-type {\n",
              "        vertical-align: middle;\n",
              "    }\n",
              "\n",
              "    .dataframe tbody tr th {\n",
              "        vertical-align: top;\n",
              "    }\n",
              "\n",
              "    .dataframe thead th {\n",
              "        text-align: right;\n",
              "    }\n",
              "</style>\n",
              "<table border=\"1\" class=\"dataframe\">\n",
              "  <thead>\n",
              "    <tr style=\"text-align: right;\">\n",
              "      <th></th>\n",
              "      <th>Pregnancies</th>\n",
              "      <th>Glucose</th>\n",
              "      <th>BloodPressure</th>\n",
              "      <th>SkinThickness</th>\n",
              "      <th>Insulin</th>\n",
              "      <th>BMI</th>\n",
              "      <th>DiabetesPedigreeFunction</th>\n",
              "      <th>Age</th>\n",
              "      <th>Outcome</th>\n",
              "    </tr>\n",
              "  </thead>\n",
              "  <tbody>\n",
              "    <tr>\n",
              "      <th>0</th>\n",
              "      <td>6</td>\n",
              "      <td>148</td>\n",
              "      <td>72</td>\n",
              "      <td>35</td>\n",
              "      <td>0</td>\n",
              "      <td>33.6</td>\n",
              "      <td>0.627</td>\n",
              "      <td>50</td>\n",
              "      <td>1</td>\n",
              "    </tr>\n",
              "    <tr>\n",
              "      <th>1</th>\n",
              "      <td>1</td>\n",
              "      <td>85</td>\n",
              "      <td>66</td>\n",
              "      <td>29</td>\n",
              "      <td>0</td>\n",
              "      <td>26.6</td>\n",
              "      <td>0.351</td>\n",
              "      <td>31</td>\n",
              "      <td>0</td>\n",
              "    </tr>\n",
              "    <tr>\n",
              "      <th>2</th>\n",
              "      <td>8</td>\n",
              "      <td>183</td>\n",
              "      <td>64</td>\n",
              "      <td>0</td>\n",
              "      <td>0</td>\n",
              "      <td>23.3</td>\n",
              "      <td>0.672</td>\n",
              "      <td>32</td>\n",
              "      <td>1</td>\n",
              "    </tr>\n",
              "    <tr>\n",
              "      <th>3</th>\n",
              "      <td>1</td>\n",
              "      <td>89</td>\n",
              "      <td>66</td>\n",
              "      <td>23</td>\n",
              "      <td>94</td>\n",
              "      <td>28.1</td>\n",
              "      <td>0.167</td>\n",
              "      <td>21</td>\n",
              "      <td>0</td>\n",
              "    </tr>\n",
              "    <tr>\n",
              "      <th>4</th>\n",
              "      <td>0</td>\n",
              "      <td>137</td>\n",
              "      <td>40</td>\n",
              "      <td>35</td>\n",
              "      <td>168</td>\n",
              "      <td>43.1</td>\n",
              "      <td>2.288</td>\n",
              "      <td>33</td>\n",
              "      <td>1</td>\n",
              "    </tr>\n",
              "    <tr>\n",
              "      <th>...</th>\n",
              "      <td>...</td>\n",
              "      <td>...</td>\n",
              "      <td>...</td>\n",
              "      <td>...</td>\n",
              "      <td>...</td>\n",
              "      <td>...</td>\n",
              "      <td>...</td>\n",
              "      <td>...</td>\n",
              "      <td>...</td>\n",
              "    </tr>\n",
              "    <tr>\n",
              "      <th>763</th>\n",
              "      <td>10</td>\n",
              "      <td>101</td>\n",
              "      <td>76</td>\n",
              "      <td>48</td>\n",
              "      <td>180</td>\n",
              "      <td>32.9</td>\n",
              "      <td>0.171</td>\n",
              "      <td>63</td>\n",
              "      <td>0</td>\n",
              "    </tr>\n",
              "    <tr>\n",
              "      <th>764</th>\n",
              "      <td>2</td>\n",
              "      <td>122</td>\n",
              "      <td>70</td>\n",
              "      <td>27</td>\n",
              "      <td>0</td>\n",
              "      <td>36.8</td>\n",
              "      <td>0.340</td>\n",
              "      <td>27</td>\n",
              "      <td>0</td>\n",
              "    </tr>\n",
              "    <tr>\n",
              "      <th>765</th>\n",
              "      <td>5</td>\n",
              "      <td>121</td>\n",
              "      <td>72</td>\n",
              "      <td>23</td>\n",
              "      <td>112</td>\n",
              "      <td>26.2</td>\n",
              "      <td>0.245</td>\n",
              "      <td>30</td>\n",
              "      <td>0</td>\n",
              "    </tr>\n",
              "    <tr>\n",
              "      <th>766</th>\n",
              "      <td>1</td>\n",
              "      <td>126</td>\n",
              "      <td>60</td>\n",
              "      <td>0</td>\n",
              "      <td>0</td>\n",
              "      <td>30.1</td>\n",
              "      <td>0.349</td>\n",
              "      <td>47</td>\n",
              "      <td>1</td>\n",
              "    </tr>\n",
              "    <tr>\n",
              "      <th>767</th>\n",
              "      <td>1</td>\n",
              "      <td>93</td>\n",
              "      <td>70</td>\n",
              "      <td>31</td>\n",
              "      <td>0</td>\n",
              "      <td>30.4</td>\n",
              "      <td>0.315</td>\n",
              "      <td>23</td>\n",
              "      <td>0</td>\n",
              "    </tr>\n",
              "  </tbody>\n",
              "</table>\n",
              "<p>768 rows × 9 columns</p>\n",
              "</div>\n",
              "      <button class=\"colab-df-convert\" onclick=\"convertToInteractive('df-f4028cd9-89e9-4fcf-9424-4955e6778d3b')\"\n",
              "              title=\"Convert this dataframe to an interactive table.\"\n",
              "              style=\"display:none;\">\n",
              "        \n",
              "  <svg xmlns=\"http://www.w3.org/2000/svg\" height=\"24px\"viewBox=\"0 0 24 24\"\n",
              "       width=\"24px\">\n",
              "    <path d=\"M0 0h24v24H0V0z\" fill=\"none\"/>\n",
              "    <path d=\"M18.56 5.44l.94 2.06.94-2.06 2.06-.94-2.06-.94-.94-2.06-.94 2.06-2.06.94zm-11 1L8.5 8.5l.94-2.06 2.06-.94-2.06-.94L8.5 2.5l-.94 2.06-2.06.94zm10 10l.94 2.06.94-2.06 2.06-.94-2.06-.94-.94-2.06-.94 2.06-2.06.94z\"/><path d=\"M17.41 7.96l-1.37-1.37c-.4-.4-.92-.59-1.43-.59-.52 0-1.04.2-1.43.59L10.3 9.45l-7.72 7.72c-.78.78-.78 2.05 0 2.83L4 21.41c.39.39.9.59 1.41.59.51 0 1.02-.2 1.41-.59l7.78-7.78 2.81-2.81c.8-.78.8-2.07 0-2.86zM5.41 20L4 18.59l7.72-7.72 1.47 1.35L5.41 20z\"/>\n",
              "  </svg>\n",
              "      </button>\n",
              "      \n",
              "  <style>\n",
              "    .colab-df-container {\n",
              "      display:flex;\n",
              "      flex-wrap:wrap;\n",
              "      gap: 12px;\n",
              "    }\n",
              "\n",
              "    .colab-df-convert {\n",
              "      background-color: #E8F0FE;\n",
              "      border: none;\n",
              "      border-radius: 50%;\n",
              "      cursor: pointer;\n",
              "      display: none;\n",
              "      fill: #1967D2;\n",
              "      height: 32px;\n",
              "      padding: 0 0 0 0;\n",
              "      width: 32px;\n",
              "    }\n",
              "\n",
              "    .colab-df-convert:hover {\n",
              "      background-color: #E2EBFA;\n",
              "      box-shadow: 0px 1px 2px rgba(60, 64, 67, 0.3), 0px 1px 3px 1px rgba(60, 64, 67, 0.15);\n",
              "      fill: #174EA6;\n",
              "    }\n",
              "\n",
              "    [theme=dark] .colab-df-convert {\n",
              "      background-color: #3B4455;\n",
              "      fill: #D2E3FC;\n",
              "    }\n",
              "\n",
              "    [theme=dark] .colab-df-convert:hover {\n",
              "      background-color: #434B5C;\n",
              "      box-shadow: 0px 1px 3px 1px rgba(0, 0, 0, 0.15);\n",
              "      filter: drop-shadow(0px 1px 2px rgba(0, 0, 0, 0.3));\n",
              "      fill: #FFFFFF;\n",
              "    }\n",
              "  </style>\n",
              "\n",
              "      <script>\n",
              "        const buttonEl =\n",
              "          document.querySelector('#df-f4028cd9-89e9-4fcf-9424-4955e6778d3b button.colab-df-convert');\n",
              "        buttonEl.style.display =\n",
              "          google.colab.kernel.accessAllowed ? 'block' : 'none';\n",
              "\n",
              "        async function convertToInteractive(key) {\n",
              "          const element = document.querySelector('#df-f4028cd9-89e9-4fcf-9424-4955e6778d3b');\n",
              "          const dataTable =\n",
              "            await google.colab.kernel.invokeFunction('convertToInteractive',\n",
              "                                                     [key], {});\n",
              "          if (!dataTable) return;\n",
              "\n",
              "          const docLinkHtml = 'Like what you see? Visit the ' +\n",
              "            '<a target=\"_blank\" href=https://colab.research.google.com/notebooks/data_table.ipynb>data table notebook</a>'\n",
              "            + ' to learn more about interactive tables.';\n",
              "          element.innerHTML = '';\n",
              "          dataTable['output_type'] = 'display_data';\n",
              "          await google.colab.output.renderOutput(dataTable, element);\n",
              "          const docLink = document.createElement('div');\n",
              "          docLink.innerHTML = docLinkHtml;\n",
              "          element.appendChild(docLink);\n",
              "        }\n",
              "      </script>\n",
              "    </div>\n",
              "  </div>\n",
              "  "
            ]
          },
          "metadata": {},
          "execution_count": 27
        }
      ]
    },
    {
      "cell_type": "markdown",
      "metadata": {
        "id": "f7AEIDV66Hn-"
      },
      "source": [
        "# Basic Python"
      ]
    },
    {
      "cell_type": "markdown",
      "metadata": {
        "id": "LJbMM-yH6WWb"
      },
      "source": [
        "## Variable"
      ]
    },
    {
      "cell_type": "markdown",
      "metadata": {
        "id": "hcMgw1Wj65dR"
      },
      "source": [
        "\n",
        "ข้อกำหนดในการตั้งชื่อตัวแปร\n",
        "1. ชื่อห้ามมีเว้นวรรค\n",
        "2. (พยายาม)ใช้ภาษาอังกฤษ\n",
        "3. ตัวเล็กกับตัวใหญ่ แตกต่างกัน (case sensitive)\n",
        "4. ห้ามใช้ตัวเลขเป็นตัวหน้า"
      ]
    },
    {
      "cell_type": "code",
      "metadata": {
        "id": "6FJQt35OEdq-"
      },
      "source": [
        "variable_a = 12\n",
        "variable_b = 3.14\n",
        "variable_c = 'A' # ' (quote) หรือ \" (double quote)\n",
        "variable_d = 'MSc Stat KKU'"
      ],
      "execution_count": 29,
      "outputs": []
    },
    {
      "cell_type": "code",
      "metadata": {
        "id": "wPHGCReS_OfS"
      },
      "source": [
        "variable_e = '11'"
      ],
      "execution_count": 30,
      "outputs": []
    },
    {
      "cell_type": "code",
      "metadata": {
        "colab": {
          "base_uri": "https://localhost:8080/",
          "height": 130
        },
        "id": "iu07H_LY7K3-",
        "outputId": "e8fe2f56-96c5-495f-806e-21ac2c5feaa5"
      },
      "source": [
        "variable a = 12"
      ],
      "execution_count": 31,
      "outputs": [
        {
          "output_type": "error",
          "ename": "SyntaxError",
          "evalue": "ignored",
          "traceback": [
            "\u001b[0;36m  File \u001b[0;32m\"<ipython-input-31-69f5b60977cf>\"\u001b[0;36m, line \u001b[0;32m1\u001b[0m\n\u001b[0;31m    variable a = 12\u001b[0m\n\u001b[0m             ^\u001b[0m\n\u001b[0;31mSyntaxError\u001b[0m\u001b[0;31m:\u001b[0m invalid syntax\n"
          ]
        }
      ]
    },
    {
      "cell_type": "code",
      "metadata": {
        "id": "-8JBGCNa7MsW"
      },
      "source": [
        "ตัวแปรเอ = 123"
      ],
      "execution_count": 79,
      "outputs": []
    },
    {
      "cell_type": "code",
      "metadata": {
        "colab": {
          "base_uri": "https://localhost:8080/"
        },
        "id": "NbeDlLYj7ZIe",
        "outputId": "c8a96035-9564-45f0-e612-da13a0f2b4a5"
      },
      "source": [
        "ตัวแปรเอ"
      ],
      "execution_count": 80,
      "outputs": [
        {
          "output_type": "execute_result",
          "data": {
            "text/plain": [
              "123"
            ]
          },
          "metadata": {},
          "execution_count": 80
        }
      ]
    },
    {
      "cell_type": "code",
      "metadata": {
        "id": "GEmNQXrc7bGZ"
      },
      "source": [
        "Cat = 1\n",
        "cat = 2"
      ],
      "execution_count": 81,
      "outputs": []
    },
    {
      "cell_type": "code",
      "metadata": {
        "colab": {
          "base_uri": "https://localhost:8080/"
        },
        "id": "_KQH-NOW7m9-",
        "outputId": "0aa7bf52-9ef7-4898-8139-b569eddbf417"
      },
      "source": [
        "cat"
      ],
      "execution_count": 82,
      "outputs": [
        {
          "output_type": "execute_result",
          "data": {
            "text/plain": [
              "2"
            ]
          },
          "metadata": {},
          "execution_count": 82
        }
      ]
    },
    {
      "cell_type": "code",
      "metadata": {
        "colab": {
          "base_uri": "https://localhost:8080/"
        },
        "id": "6mPtaCEM7oOS",
        "outputId": "3f1cac59-7cff-4e2b-9fff-21410a70c602"
      },
      "source": [
        "Cat"
      ],
      "execution_count": 83,
      "outputs": [
        {
          "output_type": "execute_result",
          "data": {
            "text/plain": [
              "1"
            ]
          },
          "metadata": {},
          "execution_count": 83
        }
      ]
    },
    {
      "cell_type": "code",
      "metadata": {
        "id": "ElJ4ZQSi7plP"
      },
      "source": [
        "cat1 = 2"
      ],
      "execution_count": 85,
      "outputs": []
    },
    {
      "cell_type": "code",
      "metadata": {
        "colab": {
          "base_uri": "https://localhost:8080/"
        },
        "id": "MQsukicC73pM",
        "outputId": "a9c772ba-fe8b-4fb1-f235-200047a26eb0"
      },
      "source": [
        "cat1"
      ],
      "execution_count": 86,
      "outputs": [
        {
          "output_type": "execute_result",
          "data": {
            "text/plain": [
              "2"
            ]
          },
          "metadata": {},
          "execution_count": 86
        }
      ]
    },
    {
      "cell_type": "code",
      "metadata": {
        "colab": {
          "base_uri": "https://localhost:8080/",
          "height": 130
        },
        "id": "7bcfwzjC74bn",
        "outputId": "3293335d-0f19-458e-f421-e7ba5ea1569f"
      },
      "source": [
        "1cat = 3"
      ],
      "execution_count": 87,
      "outputs": [
        {
          "output_type": "error",
          "ename": "SyntaxError",
          "evalue": "ignored",
          "traceback": [
            "\u001b[0;36m  File \u001b[0;32m\"<ipython-input-87-58db84e370b4>\"\u001b[0;36m, line \u001b[0;32m1\u001b[0m\n\u001b[0;31m    1cat = 3\u001b[0m\n\u001b[0m    ^\u001b[0m\n\u001b[0;31mSyntaxError\u001b[0m\u001b[0;31m:\u001b[0m invalid decimal literal\n"
          ]
        }
      ]
    },
    {
      "cell_type": "code",
      "metadata": {
        "colab": {
          "base_uri": "https://localhost:8080/"
        },
        "id": "cHLEWJ8876Xe",
        "outputId": "78d218d0-8e1d-4b20-a903-c74e24675355"
      },
      "source": [
        "print(cat1)"
      ],
      "execution_count": 89,
      "outputs": [
        {
          "output_type": "stream",
          "name": "stdout",
          "text": [
            "2\n"
          ]
        }
      ]
    },
    {
      "cell_type": "code",
      "metadata": {
        "id": "EeEA1y1C9DMp"
      },
      "source": [
        "variable_x = variable_a + variable_b"
      ],
      "execution_count": 90,
      "outputs": []
    },
    {
      "cell_type": "code",
      "metadata": {
        "colab": {
          "base_uri": "https://localhost:8080/"
        },
        "id": "XFWaYMJ49YgM",
        "outputId": "baceab71-75ec-41f9-9892-ae7462064452"
      },
      "source": [
        "variable_x"
      ],
      "execution_count": 92,
      "outputs": [
        {
          "output_type": "execute_result",
          "data": {
            "text/plain": [
              "15.14"
            ]
          },
          "metadata": {},
          "execution_count": 92
        }
      ]
    },
    {
      "cell_type": "code",
      "metadata": {
        "colab": {
          "base_uri": "https://localhost:8080/"
        },
        "id": "O5orVviR9ika",
        "outputId": "97747680-d400-4a38-a626-b518a8874b64"
      },
      "source": [
        "variable_a + variable_b"
      ],
      "execution_count": 93,
      "outputs": [
        {
          "output_type": "execute_result",
          "data": {
            "text/plain": [
              "15.14"
            ]
          },
          "metadata": {},
          "execution_count": 93
        }
      ]
    },
    {
      "cell_type": "code",
      "metadata": {
        "colab": {
          "base_uri": "https://localhost:8080/"
        },
        "id": "RM0uJYbO9qEI",
        "outputId": "8e37d7c7-f21e-4349-fd36-f1ebf610eea4"
      },
      "source": [
        "variable_x = variable_a + variable_b + 5\n",
        "print(variable_x)"
      ],
      "execution_count": 94,
      "outputs": [
        {
          "output_type": "stream",
          "name": "stdout",
          "text": [
            "20.14\n"
          ]
        }
      ]
    },
    {
      "cell_type": "code",
      "metadata": {
        "colab": {
          "base_uri": "https://localhost:8080/"
        },
        "id": "oGfKBPj494dp",
        "outputId": "1078102e-76df-47ae-a372-45b62629d438"
      },
      "source": [
        "print(variable_a + variable_b)"
      ],
      "execution_count": 95,
      "outputs": [
        {
          "output_type": "stream",
          "name": "stdout",
          "text": [
            "15.14\n"
          ]
        }
      ]
    },
    {
      "cell_type": "code",
      "metadata": {
        "colab": {
          "base_uri": "https://localhost:8080/"
        },
        "id": "C_wAwc4A-HCj",
        "outputId": "d4ac5fae-1898-4ac1-9174-bbc1dbe4ade7"
      },
      "source": [
        "variable_z = variable_a\n",
        "print(variable_z)"
      ],
      "execution_count": 96,
      "outputs": [
        {
          "output_type": "stream",
          "name": "stdout",
          "text": [
            "12\n"
          ]
        }
      ]
    },
    {
      "cell_type": "code",
      "metadata": {
        "colab": {
          "base_uri": "https://localhost:8080/"
        },
        "id": "uMsVAt1S-YsF",
        "outputId": "e9d6e1c2-cb4b-4728-da52-38552ad3788e"
      },
      "source": [
        "variable_a = variable_a + 3\n",
        "print(variable_a)\n",
        "print(variable_z)"
      ],
      "execution_count": 97,
      "outputs": [
        {
          "output_type": "stream",
          "name": "stdout",
          "text": [
            "15\n",
            "12\n"
          ]
        }
      ]
    },
    {
      "cell_type": "code",
      "metadata": {
        "colab": {
          "base_uri": "https://localhost:8080/",
          "height": 164
        },
        "id": "9OEW0Lsd-g4f",
        "outputId": "e708d7e6-d695-4f0e-d07a-c94dacd4c972"
      },
      "source": [
        "variable_a + variable_e"
      ],
      "execution_count": 98,
      "outputs": [
        {
          "output_type": "error",
          "ename": "TypeError",
          "evalue": "ignored",
          "traceback": [
            "\u001b[0;31m---------------------------------------------------------------------------\u001b[0m",
            "\u001b[0;31mTypeError\u001b[0m                                 Traceback (most recent call last)",
            "\u001b[0;32m<ipython-input-98-ba0a07afe52f>\u001b[0m in \u001b[0;36m<cell line: 1>\u001b[0;34m()\u001b[0m\n\u001b[0;32m----> 1\u001b[0;31m \u001b[0mvariable_a\u001b[0m \u001b[0;34m+\u001b[0m \u001b[0mvariable_e\u001b[0m\u001b[0;34m\u001b[0m\u001b[0;34m\u001b[0m\u001b[0m\n\u001b[0m",
            "\u001b[0;31mTypeError\u001b[0m: unsupported operand type(s) for +: 'int' and 'str'"
          ]
        }
      ]
    },
    {
      "cell_type": "code",
      "metadata": {
        "colab": {
          "base_uri": "https://localhost:8080/",
          "height": 164
        },
        "id": "jsG-GIan_caY",
        "outputId": "e015e989-f106-431b-9588-fe658f09d936"
      },
      "source": [
        "variable_e + variable_a"
      ],
      "execution_count": 99,
      "outputs": [
        {
          "output_type": "error",
          "ename": "TypeError",
          "evalue": "ignored",
          "traceback": [
            "\u001b[0;31m---------------------------------------------------------------------------\u001b[0m",
            "\u001b[0;31mTypeError\u001b[0m                                 Traceback (most recent call last)",
            "\u001b[0;32m<ipython-input-99-6803e42962dd>\u001b[0m in \u001b[0;36m<cell line: 1>\u001b[0;34m()\u001b[0m\n\u001b[0;32m----> 1\u001b[0;31m \u001b[0mvariable_e\u001b[0m \u001b[0;34m+\u001b[0m \u001b[0mvariable_a\u001b[0m\u001b[0;34m\u001b[0m\u001b[0;34m\u001b[0m\u001b[0m\n\u001b[0m",
            "\u001b[0;31mTypeError\u001b[0m: can only concatenate str (not \"int\") to str"
          ]
        }
      ]
    },
    {
      "cell_type": "code",
      "metadata": {
        "colab": {
          "base_uri": "https://localhost:8080/",
          "height": 37
        },
        "id": "6U_H8jIQ_oXc",
        "outputId": "c36d86e2-da7c-494c-d3bf-da9b37128f2e"
      },
      "source": [
        "variable_c + variable_d"
      ],
      "execution_count": 100,
      "outputs": [
        {
          "output_type": "execute_result",
          "data": {
            "text/plain": [
              "'AMSc Stat KKU'"
            ],
            "application/vnd.google.colaboratory.intrinsic+json": {
              "type": "string"
            }
          },
          "metadata": {},
          "execution_count": 100
        }
      ]
    },
    {
      "cell_type": "markdown",
      "metadata": {
        "id": "r1Y8AREhAW_q"
      },
      "source": [
        "Casting int() float() str()"
      ]
    },
    {
      "cell_type": "code",
      "metadata": {
        "colab": {
          "base_uri": "https://localhost:8080/"
        },
        "id": "kB8Eh5CtADCr",
        "outputId": "d8301286-ba55-4d54-a5e4-2fda3b113709"
      },
      "source": [
        "variable_a + int(variable_e)"
      ],
      "execution_count": 101,
      "outputs": [
        {
          "output_type": "execute_result",
          "data": {
            "text/plain": [
              "26"
            ]
          },
          "metadata": {},
          "execution_count": 101
        }
      ]
    },
    {
      "cell_type": "code",
      "metadata": {
        "colab": {
          "base_uri": "https://localhost:8080/",
          "height": 37
        },
        "id": "LisqOieZAkKQ",
        "outputId": "5ff66799-c11f-42c5-de2d-8988d95f2103"
      },
      "source": [
        "variable_e + str(variable_a)"
      ],
      "execution_count": 102,
      "outputs": [
        {
          "output_type": "execute_result",
          "data": {
            "text/plain": [
              "'1115'"
            ],
            "application/vnd.google.colaboratory.intrinsic+json": {
              "type": "string"
            }
          },
          "metadata": {},
          "execution_count": 102
        }
      ]
    },
    {
      "cell_type": "code",
      "metadata": {
        "colab": {
          "base_uri": "https://localhost:8080/",
          "height": 37
        },
        "id": "2RPXM4_ZA38n",
        "outputId": "c0e007e0-c6ab-4434-e3c8-2cb85256a3a3"
      },
      "source": [
        "variable_e"
      ],
      "execution_count": 103,
      "outputs": [
        {
          "output_type": "execute_result",
          "data": {
            "text/plain": [
              "'11'"
            ],
            "application/vnd.google.colaboratory.intrinsic+json": {
              "type": "string"
            }
          },
          "metadata": {},
          "execution_count": 103
        }
      ]
    },
    {
      "cell_type": "code",
      "metadata": {
        "colab": {
          "base_uri": "https://localhost:8080/"
        },
        "id": "bkzolQI-BG7C",
        "outputId": "921c2e3f-1439-4b81-8046-77435cc73f1c"
      },
      "source": [
        "print(variable_e)"
      ],
      "execution_count": 104,
      "outputs": [
        {
          "output_type": "stream",
          "name": "stdout",
          "text": [
            "11\n"
          ]
        }
      ]
    },
    {
      "cell_type": "markdown",
      "metadata": {
        "id": "fvyIoBP4Bkot"
      },
      "source": [
        "ตรวจสอบชนิดของตัวแปรด้วย type()"
      ]
    },
    {
      "cell_type": "code",
      "metadata": {
        "colab": {
          "base_uri": "https://localhost:8080/"
        },
        "id": "oP_ZIfBvBOOy",
        "outputId": "92e617fc-bb63-43b6-f23d-366170eec0c3"
      },
      "source": [
        "type(variable_a)"
      ],
      "execution_count": 105,
      "outputs": [
        {
          "output_type": "execute_result",
          "data": {
            "text/plain": [
              "int"
            ]
          },
          "metadata": {},
          "execution_count": 105
        }
      ]
    },
    {
      "cell_type": "code",
      "metadata": {
        "colab": {
          "base_uri": "https://localhost:8080/"
        },
        "id": "Di3ek6niBeJd",
        "outputId": "3e870b7a-8a6a-4ca3-db86-036f001117ca"
      },
      "source": [
        "type(variable_e)"
      ],
      "execution_count": 106,
      "outputs": [
        {
          "output_type": "execute_result",
          "data": {
            "text/plain": [
              "str"
            ]
          },
          "metadata": {},
          "execution_count": 106
        }
      ]
    },
    {
      "cell_type": "markdown",
      "metadata": {
        "id": "h0tSUA-eB2nh"
      },
      "source": [
        "### Data structure"
      ]
    },
    {
      "cell_type": "markdown",
      "metadata": {
        "id": "AuIKp6tgCEB3"
      },
      "source": [
        "### list"
      ]
    },
    {
      "cell_type": "code",
      "metadata": {
        "id": "ipDjZWUEBgWS"
      },
      "source": [
        "list_a = [1,2,3,0.9,'aaz',variable_b] ## [ ] (square brackets)"
      ],
      "execution_count": 107,
      "outputs": []
    },
    {
      "cell_type": "code",
      "metadata": {
        "colab": {
          "base_uri": "https://localhost:8080/"
        },
        "id": "ZLLEqVOQCXEs",
        "outputId": "1fc8663f-adb3-4dfc-cf97-2ff4fe85899a"
      },
      "source": [
        "list_a"
      ],
      "execution_count": 108,
      "outputs": [
        {
          "output_type": "execute_result",
          "data": {
            "text/plain": [
              "[1, 2, 3, 0.9, 'aaz', 3.14]"
            ]
          },
          "metadata": {},
          "execution_count": 108
        }
      ]
    },
    {
      "cell_type": "markdown",
      "metadata": {
        "id": "P35Mr5omCncf"
      },
      "source": [
        "indexing\n",
        "\n",
        "1. ใช้ลำดับในการชี้\n",
        "2. ลำดับเริ่มจาก 0\n",
        "3. สามารถชี้จากข้างหลังได้โดยใช้ negative index"
      ]
    },
    {
      "cell_type": "code",
      "metadata": {
        "colab": {
          "base_uri": "https://localhost:8080/"
        },
        "id": "IFh2N9rzCg60",
        "outputId": "b721e72a-7043-4f1d-c57f-6bb42511b34a"
      },
      "source": [
        "list_a[5]"
      ],
      "execution_count": 109,
      "outputs": [
        {
          "output_type": "execute_result",
          "data": {
            "text/plain": [
              "3.14"
            ]
          },
          "metadata": {},
          "execution_count": 109
        }
      ]
    },
    {
      "cell_type": "code",
      "metadata": {
        "colab": {
          "base_uri": "https://localhost:8080/"
        },
        "id": "_d-MII-DCvZ5",
        "outputId": "3da29953-5640-42ce-bd2c-3ce761f39e62"
      },
      "source": [
        "list_a[0]"
      ],
      "execution_count": 110,
      "outputs": [
        {
          "output_type": "execute_result",
          "data": {
            "text/plain": [
              "1"
            ]
          },
          "metadata": {},
          "execution_count": 110
        }
      ]
    },
    {
      "cell_type": "markdown",
      "metadata": {
        "id": "dOwxVNGYDInp"
      },
      "source": [
        "negative index ชี้จากข้างหลัง"
      ]
    },
    {
      "cell_type": "code",
      "metadata": {
        "colab": {
          "base_uri": "https://localhost:8080/",
          "height": 37
        },
        "id": "qkwGru6uC3Ky",
        "outputId": "f21bbad4-c0a9-4ee0-b2ce-770b6991cc4e"
      },
      "source": [
        "list_a[-2]"
      ],
      "execution_count": 111,
      "outputs": [
        {
          "output_type": "execute_result",
          "data": {
            "text/plain": [
              "'aaz'"
            ],
            "application/vnd.google.colaboratory.intrinsic+json": {
              "type": "string"
            }
          },
          "metadata": {},
          "execution_count": 111
        }
      ]
    },
    {
      "cell_type": "code",
      "metadata": {
        "colab": {
          "base_uri": "https://localhost:8080/"
        },
        "id": "Oiqx68EGDAmx",
        "outputId": "dabcdfc4-d807-423a-80be-da20915cce9b"
      },
      "source": [
        "list_b = ['pizza',list_a]\n",
        "list_b"
      ],
      "execution_count": 112,
      "outputs": [
        {
          "output_type": "execute_result",
          "data": {
            "text/plain": [
              "['pizza', [1, 2, 3, 0.9, 'aaz', 3.14]]"
            ]
          },
          "metadata": {},
          "execution_count": 112
        }
      ]
    },
    {
      "cell_type": "code",
      "metadata": {
        "colab": {
          "base_uri": "https://localhost:8080/"
        },
        "id": "5NQsXKKGDeTl",
        "outputId": "99d7e944-efa2-4eeb-de53-cce0b256267c"
      },
      "source": [
        "list_b[1][3]"
      ],
      "execution_count": 114,
      "outputs": [
        {
          "output_type": "execute_result",
          "data": {
            "text/plain": [
              "0.9"
            ]
          },
          "metadata": {},
          "execution_count": 114
        }
      ]
    },
    {
      "cell_type": "markdown",
      "metadata": {
        "id": "z1nFkKU_D8x3"
      },
      "source": [
        "string คือ list ของ ตัวอักษร"
      ]
    },
    {
      "cell_type": "code",
      "metadata": {
        "colab": {
          "base_uri": "https://localhost:8080/",
          "height": 37
        },
        "id": "snsHFViADrHk",
        "outputId": "6e5a0941-d5bd-49e3-9f24-17ec3dfd1c01"
      },
      "source": [
        "x = 'shabu'\n",
        "x[3]"
      ],
      "execution_count": 115,
      "outputs": [
        {
          "output_type": "execute_result",
          "data": {
            "text/plain": [
              "'b'"
            ],
            "application/vnd.google.colaboratory.intrinsic+json": {
              "type": "string"
            }
          },
          "metadata": {},
          "execution_count": 115
        }
      ]
    },
    {
      "cell_type": "code",
      "metadata": {
        "colab": {
          "base_uri": "https://localhost:8080/"
        },
        "id": "-LoZsl3eETS_",
        "outputId": "98472809-8682-4943-adca-2c48f172ffda"
      },
      "source": [
        "print(list_a)\n",
        "print(list_b)"
      ],
      "execution_count": 116,
      "outputs": [
        {
          "output_type": "stream",
          "name": "stdout",
          "text": [
            "[1, 2, 3, 0.9, 'aaz', 3.14]\n",
            "['pizza', [1, 2, 3, 0.9, 'aaz', 3.14]]\n"
          ]
        }
      ]
    },
    {
      "cell_type": "code",
      "metadata": {
        "colab": {
          "base_uri": "https://localhost:8080/"
        },
        "id": "O7Zz6zxeEl56",
        "outputId": "c8ba78bd-e65c-427d-9853-8651ad7714f6"
      },
      "source": [
        "list_a + list_b"
      ],
      "execution_count": 117,
      "outputs": [
        {
          "output_type": "execute_result",
          "data": {
            "text/plain": [
              "[1, 2, 3, 0.9, 'aaz', 3.14, 'pizza', [1, 2, 3, 0.9, 'aaz', 3.14]]"
            ]
          },
          "metadata": {},
          "execution_count": 117
        }
      ]
    },
    {
      "cell_type": "markdown",
      "metadata": {
        "id": "T97zKMwEE7xt"
      },
      "source": [
        "## การสร้าง list\n",
        "1. สร้าง list ว่าง\n",
        "2. เพิ่มสมาชิกลงไปใน list"
      ]
    },
    {
      "cell_type": "markdown",
      "metadata": {
        "id": "u-Ovc4uEFNGo"
      },
      "source": [
        "1. การสร้าง list ว่าง"
      ]
    },
    {
      "cell_type": "code",
      "metadata": {
        "id": "mvZRmC0sEvco"
      },
      "source": [
        "list_aa = []"
      ],
      "execution_count": 118,
      "outputs": []
    },
    {
      "cell_type": "code",
      "metadata": {
        "colab": {
          "base_uri": "https://localhost:8080/"
        },
        "id": "VqYQQ21jFXtY",
        "outputId": "0c092edd-5ac0-4d76-9687-1744bc829a5f"
      },
      "source": [
        "list_aa"
      ],
      "execution_count": 119,
      "outputs": [
        {
          "output_type": "execute_result",
          "data": {
            "text/plain": [
              "[]"
            ]
          },
          "metadata": {},
          "execution_count": 119
        }
      ]
    },
    {
      "cell_type": "code",
      "metadata": {
        "colab": {
          "base_uri": "https://localhost:8080/"
        },
        "id": "4X2qb0SCFZD4",
        "outputId": "ba97dd55-e706-41d7-fcfd-3e342fe0ea6e"
      },
      "source": [
        "list_bb = list()\n",
        "print(list_bb)"
      ],
      "execution_count": 120,
      "outputs": [
        {
          "output_type": "stream",
          "name": "stdout",
          "text": [
            "[]\n"
          ]
        }
      ]
    },
    {
      "cell_type": "markdown",
      "metadata": {
        "id": "gkBcNf5LFmsx"
      },
      "source": [
        "2. การเพิ่มสมาชิกลงไปใน list (.append())"
      ]
    },
    {
      "cell_type": "code",
      "metadata": {
        "id": "B0cnI1-wFezo"
      },
      "source": [
        "list_aa.append('chiken')\n",
        "list_aa.append('water')\n",
        "list_aa.append('vegetable')"
      ],
      "execution_count": 121,
      "outputs": []
    },
    {
      "cell_type": "code",
      "metadata": {
        "colab": {
          "base_uri": "https://localhost:8080/"
        },
        "id": "dUKi_VcfF5Z0",
        "outputId": "c69af6e3-0fb0-43d8-d979-40d24db3706b"
      },
      "source": [
        "list_aa"
      ],
      "execution_count": 122,
      "outputs": [
        {
          "output_type": "execute_result",
          "data": {
            "text/plain": [
              "['chiken', 'water', 'vegetable']"
            ]
          },
          "metadata": {},
          "execution_count": 122
        }
      ]
    },
    {
      "cell_type": "code",
      "metadata": {
        "colab": {
          "base_uri": "https://localhost:8080/",
          "height": 37
        },
        "id": "8h5jsrzPF66M",
        "outputId": "a88fb193-3539-44df-c80e-7d067c65c633"
      },
      "source": [
        "list_aa[-1]"
      ],
      "execution_count": 123,
      "outputs": [
        {
          "output_type": "execute_result",
          "data": {
            "text/plain": [
              "'vegetable'"
            ],
            "application/vnd.google.colaboratory.intrinsic+json": {
              "type": "string"
            }
          },
          "metadata": {},
          "execution_count": 123
        }
      ]
    },
    {
      "cell_type": "code",
      "metadata": {
        "id": "nOw3aCMVGDDd"
      },
      "source": [
        "list_aa.append('plate')"
      ],
      "execution_count": 124,
      "outputs": []
    },
    {
      "cell_type": "code",
      "metadata": {
        "colab": {
          "base_uri": "https://localhost:8080/",
          "height": 37
        },
        "id": "rRPMNfoSGomJ",
        "outputId": "120b87df-90a0-499b-cf64-ba07dc695f8d"
      },
      "source": [
        "list_aa[-2]"
      ],
      "execution_count": 125,
      "outputs": [
        {
          "output_type": "execute_result",
          "data": {
            "text/plain": [
              "'vegetable'"
            ],
            "application/vnd.google.colaboratory.intrinsic+json": {
              "type": "string"
            }
          },
          "metadata": {},
          "execution_count": 125
        }
      ]
    },
    {
      "cell_type": "markdown",
      "metadata": {
        "id": "UeomoWa2G1jJ"
      },
      "source": [
        "### list slicing"
      ]
    },
    {
      "cell_type": "markdown",
      "metadata": {
        "id": "UyqSJyYEHgxG"
      },
      "source": [
        ": (colon)\n",
        "\n",
        "เราจะตัดlist โดยเอาตั้งแต่ [ตัวหน้า:ตัวก่อนตัวหลัง]\n",
        "\n",
        "ถ้าเป็นสัญลักษณ์คณิตศาสตร์ [ตัวหน้า:ตัวหลัง] -> [ตัวหน้า,ตัวหลัง)"
      ]
    },
    {
      "cell_type": "code",
      "metadata": {
        "colab": {
          "base_uri": "https://localhost:8080/"
        },
        "id": "B_HncTsiGq7H",
        "outputId": "a21c6858-2128-4e60-dced-aff2046e6ab8"
      },
      "source": [
        "list_aa"
      ],
      "execution_count": 126,
      "outputs": [
        {
          "output_type": "execute_result",
          "data": {
            "text/plain": [
              "['chiken', 'water', 'vegetable', 'plate']"
            ]
          },
          "metadata": {},
          "execution_count": 126
        }
      ]
    },
    {
      "cell_type": "code",
      "metadata": {
        "colab": {
          "base_uri": "https://localhost:8080/"
        },
        "id": "t92RV-dFHOp_",
        "outputId": "3b15acc7-d524-449b-fb7b-78584f7c5d53"
      },
      "source": [
        "list_aa[1:3]"
      ],
      "execution_count": 127,
      "outputs": [
        {
          "output_type": "execute_result",
          "data": {
            "text/plain": [
              "['water', 'vegetable']"
            ]
          },
          "metadata": {},
          "execution_count": 127
        }
      ]
    },
    {
      "cell_type": "markdown",
      "metadata": {
        "id": "zaWTrgehIgY5"
      },
      "source": [
        "Quiz 1\n",
        "\n",
        "ตัด ส่วนของ list เหล่านี้มาจาก list_aa\n",
        "\n",
        "1. 'iken'\n",
        "2. 'get'\n",
        "3. 'tab'"
      ]
    },
    {
      "cell_type": "code",
      "source": [
        "list_aa[0][2:]"
      ],
      "metadata": {
        "id": "6BHdby16RMrE",
        "outputId": "e47401ed-2282-4471-c63f-5347cf85f695",
        "colab": {
          "base_uri": "https://localhost:8080/",
          "height": 37
        }
      },
      "execution_count": 149,
      "outputs": [
        {
          "output_type": "execute_result",
          "data": {
            "text/plain": [
              "'iken'"
            ],
            "application/vnd.google.colaboratory.intrinsic+json": {
              "type": "string"
            }
          },
          "metadata": {},
          "execution_count": 149
        }
      ]
    },
    {
      "cell_type": "code",
      "source": [
        "list_aa[2][2:5]"
      ],
      "metadata": {
        "id": "Too7nrfoRu6E",
        "outputId": "cfa9d70b-c224-43b5-d5e9-52a8d488ca21",
        "colab": {
          "base_uri": "https://localhost:8080/",
          "height": 37
        }
      },
      "execution_count": 150,
      "outputs": [
        {
          "output_type": "execute_result",
          "data": {
            "text/plain": [
              "'get'"
            ],
            "application/vnd.google.colaboratory.intrinsic+json": {
              "type": "string"
            }
          },
          "metadata": {},
          "execution_count": 150
        }
      ]
    },
    {
      "cell_type": "code",
      "source": [
        "list_aa[2][4:-2]"
      ],
      "metadata": {
        "id": "5OYhbGBsR8pw",
        "outputId": "bcc690d2-7d09-4c7a-bc2f-30721a6c56fc",
        "colab": {
          "base_uri": "https://localhost:8080/",
          "height": 37
        }
      },
      "execution_count": 151,
      "outputs": [
        {
          "output_type": "execute_result",
          "data": {
            "text/plain": [
              "'tab'"
            ],
            "application/vnd.google.colaboratory.intrinsic+json": {
              "type": "string"
            }
          },
          "metadata": {},
          "execution_count": 151
        }
      ]
    },
    {
      "cell_type": "code",
      "metadata": {
        "colab": {
          "base_uri": "https://localhost:8080/",
          "height": 37
        },
        "id": "_yd6tbO_HZPT",
        "outputId": "5a0ac10e-3acd-4162-b2ca-a9ac9490475c"
      },
      "source": [
        "list_aa[-1][1:]"
      ],
      "execution_count": 128,
      "outputs": [
        {
          "output_type": "execute_result",
          "data": {
            "text/plain": [
              "'late'"
            ],
            "application/vnd.google.colaboratory.intrinsic+json": {
              "type": "string"
            }
          },
          "metadata": {},
          "execution_count": 128
        }
      ]
    },
    {
      "cell_type": "code",
      "metadata": {
        "id": "JntG_aC5PI8S",
        "colab": {
          "base_uri": "https://localhost:8080/",
          "height": 37
        },
        "outputId": "a3ad3d72-4830-484b-e2e2-2fece5cd2fb2"
      },
      "source": [
        "list_aa[1][:3]"
      ],
      "execution_count": 129,
      "outputs": [
        {
          "output_type": "execute_result",
          "data": {
            "text/plain": [
              "'wat'"
            ],
            "application/vnd.google.colaboratory.intrinsic+json": {
              "type": "string"
            }
          },
          "metadata": {},
          "execution_count": 129
        }
      ]
    },
    {
      "cell_type": "markdown",
      "metadata": {
        "id": "hsxeh5FTPYvz"
      },
      "source": [
        "### Advance list slicing\n",
        "\n",
        "::\n",
        "เราจะตัดlist โดยเอาตั้งแต่ [ตัวหน้า:ตัวก่อนตัวหลัง:step]"
      ]
    },
    {
      "cell_type": "code",
      "source": [
        "[0,1,2,3,4,5][0::-1]"
      ],
      "metadata": {
        "id": "5lMl3RV2TCa_",
        "outputId": "8c1e0fed-3a3c-43f9-f71c-757c45e96aa6",
        "colab": {
          "base_uri": "https://localhost:8080/"
        }
      },
      "execution_count": 156,
      "outputs": [
        {
          "output_type": "execute_result",
          "data": {
            "text/plain": [
              "[0]"
            ]
          },
          "metadata": {},
          "execution_count": 156
        }
      ]
    },
    {
      "cell_type": "code",
      "source": [
        "[0,1,2,3,4,5][::-1]"
      ],
      "metadata": {
        "id": "lXjXUysuSyBM",
        "outputId": "bc8c5c54-6bb7-4233-ee5a-d7e2d58063c6",
        "colab": {
          "base_uri": "https://localhost:8080/"
        }
      },
      "execution_count": 155,
      "outputs": [
        {
          "output_type": "execute_result",
          "data": {
            "text/plain": [
              "[5, 4, 3, 2, 1, 0]"
            ]
          },
          "metadata": {},
          "execution_count": 155
        }
      ]
    },
    {
      "cell_type": "code",
      "metadata": {
        "id": "VLkxZxZRPQwZ",
        "colab": {
          "base_uri": "https://localhost:8080/",
          "height": 37
        },
        "outputId": "f055e28c-e1f3-4602-ee47-8bf1d7ed8c91"
      },
      "source": [
        "list_aa[2]"
      ],
      "execution_count": 130,
      "outputs": [
        {
          "output_type": "execute_result",
          "data": {
            "text/plain": [
              "'vegetable'"
            ],
            "application/vnd.google.colaboratory.intrinsic+json": {
              "type": "string"
            }
          },
          "metadata": {},
          "execution_count": 130
        }
      ]
    },
    {
      "cell_type": "code",
      "source": [
        "list_aa[2][5:1:-1] #ย้อนกลับ(-1) จาก5ถึง1"
      ],
      "metadata": {
        "id": "268OHNjzTbpX",
        "outputId": "1e518cfc-7a49-4801-8065-89a18eae3d7f",
        "colab": {
          "base_uri": "https://localhost:8080/",
          "height": 37
        }
      },
      "execution_count": 159,
      "outputs": [
        {
          "output_type": "execute_result",
          "data": {
            "text/plain": [
              "'ateg'"
            ],
            "application/vnd.google.colaboratory.intrinsic+json": {
              "type": "string"
            }
          },
          "metadata": {},
          "execution_count": 159
        }
      ]
    },
    {
      "cell_type": "code",
      "source": [
        "list_aa[2][-2:1:-2]"
      ],
      "metadata": {
        "id": "5cZe_IbJUgX1",
        "outputId": "d3e44bec-9844-479e-f510-703955cb9b72",
        "colab": {
          "base_uri": "https://localhost:8080/",
          "height": 37
        }
      },
      "execution_count": 162,
      "outputs": [
        {
          "output_type": "execute_result",
          "data": {
            "text/plain": [
              "'lae'"
            ],
            "application/vnd.google.colaboratory.intrinsic+json": {
              "type": "string"
            }
          },
          "metadata": {},
          "execution_count": 162
        }
      ]
    },
    {
      "cell_type": "code",
      "metadata": {
        "colab": {
          "base_uri": "https://localhost:8080/",
          "height": 37
        },
        "id": "yzwnoVFaSkQq",
        "outputId": "55429202-121a-4454-d519-7a308c1192d1"
      },
      "source": [
        "list_aa[2][::]"
      ],
      "execution_count": 131,
      "outputs": [
        {
          "output_type": "execute_result",
          "data": {
            "text/plain": [
              "'vegetable'"
            ],
            "application/vnd.google.colaboratory.intrinsic+json": {
              "type": "string"
            }
          },
          "metadata": {},
          "execution_count": 131
        }
      ]
    },
    {
      "cell_type": "code",
      "metadata": {
        "colab": {
          "base_uri": "https://localhost:8080/",
          "height": 37
        },
        "id": "4LrDESiSSuNu",
        "outputId": "fe65d15a-9b45-4b1d-f507-a503b28ba281"
      },
      "source": [
        "list_aa[2][::2]"
      ],
      "execution_count": 132,
      "outputs": [
        {
          "output_type": "execute_result",
          "data": {
            "text/plain": [
              "'vgtbe'"
            ],
            "application/vnd.google.colaboratory.intrinsic+json": {
              "type": "string"
            }
          },
          "metadata": {},
          "execution_count": 132
        }
      ]
    },
    {
      "cell_type": "code",
      "metadata": {
        "colab": {
          "base_uri": "https://localhost:8080/",
          "height": 37
        },
        "id": "9LAHUq6ZS0bR",
        "outputId": "b2579f28-04ea-4e92-83fd-5dcf297992c2"
      },
      "source": [
        "list_aa[2][::-1]"
      ],
      "execution_count": 133,
      "outputs": [
        {
          "output_type": "execute_result",
          "data": {
            "text/plain": [
              "'elbategev'"
            ],
            "application/vnd.google.colaboratory.intrinsic+json": {
              "type": "string"
            }
          },
          "metadata": {},
          "execution_count": 133
        }
      ]
    },
    {
      "cell_type": "markdown",
      "metadata": {
        "id": "0ITn6r4vTV0r"
      },
      "source": [
        "format string\n",
        "```python\n",
        "f'string{variable}'\n",
        "```"
      ]
    },
    {
      "cell_type": "code",
      "source": [
        "variable_a"
      ],
      "metadata": {
        "id": "OgFJMF_8VJKt",
        "outputId": "885017f0-6e6a-40ef-8ed2-245f01e86dc0",
        "colab": {
          "base_uri": "https://localhost:8080/"
        }
      },
      "execution_count": 164,
      "outputs": [
        {
          "output_type": "execute_result",
          "data": {
            "text/plain": [
              "15"
            ]
          },
          "metadata": {},
          "execution_count": 164
        }
      ]
    },
    {
      "cell_type": "code",
      "source": [
        "print(\"result =\",5*variable_a)"
      ],
      "metadata": {
        "id": "7a1uwgsKUzCH",
        "outputId": "67095835-d809-449a-9745-a99fd779d4a4",
        "colab": {
          "base_uri": "https://localhost:8080/"
        }
      },
      "execution_count": 163,
      "outputs": [
        {
          "output_type": "stream",
          "name": "stdout",
          "text": [
            "result = 75\n"
          ]
        }
      ]
    },
    {
      "cell_type": "code",
      "metadata": {
        "colab": {
          "base_uri": "https://localhost:8080/",
          "height": 37
        },
        "id": "3I-yOmhWS-rr",
        "outputId": "307d07a6-7e4b-4226-fa99-d7b573298bc0"
      },
      "source": [
        "f'I like to eat {list_aa[2]}' #{} curly brackets"
      ],
      "execution_count": 134,
      "outputs": [
        {
          "output_type": "execute_result",
          "data": {
            "text/plain": [
              "'I like to eat vegetable'"
            ],
            "application/vnd.google.colaboratory.intrinsic+json": {
              "type": "string"
            }
          },
          "metadata": {},
          "execution_count": 134
        }
      ]
    },
    {
      "cell_type": "code",
      "metadata": {
        "colab": {
          "base_uri": "https://localhost:8080/",
          "height": 37
        },
        "id": "1vsMbGpRT7iD",
        "outputId": "27112260-3a7a-4fcf-e7c9-71b25af3c862"
      },
      "source": [
        "f'9x10 = {9*10}'"
      ],
      "execution_count": 135,
      "outputs": [
        {
          "output_type": "execute_result",
          "data": {
            "text/plain": [
              "'9x10 = 90'"
            ],
            "application/vnd.google.colaboratory.intrinsic+json": {
              "type": "string"
            }
          },
          "metadata": {},
          "execution_count": 135
        }
      ]
    },
    {
      "cell_type": "code",
      "source": [
        "'result = {} and {}'.format(str(9),str(0))"
      ],
      "metadata": {
        "id": "t2yWiVn3VmtP",
        "outputId": "1f53a203-2249-4a57-8855-39c91221f07d",
        "colab": {
          "base_uri": "https://localhost:8080/",
          "height": 37
        }
      },
      "execution_count": 165,
      "outputs": [
        {
          "output_type": "execute_result",
          "data": {
            "text/plain": [
              "'result = 9 and 0'"
            ],
            "application/vnd.google.colaboratory.intrinsic+json": {
              "type": "string"
            }
          },
          "metadata": {},
          "execution_count": 165
        }
      ]
    },
    {
      "cell_type": "code",
      "source": [
        "mytxt = 'result = {:.2f} and {}'\n",
        "mytxt.format(9.00,str(0))"
      ],
      "metadata": {
        "id": "Aakqh5bqWH6h",
        "outputId": "bf097c45-0248-4334-fd9e-9f9e34bf12ad",
        "colab": {
          "base_uri": "https://localhost:8080/",
          "height": 37
        }
      },
      "execution_count": 169,
      "outputs": [
        {
          "output_type": "execute_result",
          "data": {
            "text/plain": [
              "'result = 9.00 and 0'"
            ],
            "application/vnd.google.colaboratory.intrinsic+json": {
              "type": "string"
            }
          },
          "metadata": {},
          "execution_count": 169
        }
      ]
    },
    {
      "cell_type": "code",
      "source": [
        "mytxt = 'result = {:.2f} and {:.2e}'\n",
        "mytxt.format(9.00,0.000000967)"
      ],
      "metadata": {
        "id": "ud5X6VLsWb_L",
        "outputId": "58d885d3-1e19-4950-b35d-b6bc2c50f9ca",
        "colab": {
          "base_uri": "https://localhost:8080/",
          "height": 37
        }
      },
      "execution_count": 171,
      "outputs": [
        {
          "output_type": "execute_result",
          "data": {
            "text/plain": [
              "'result = 9.00 and 9.67e-07'"
            ],
            "application/vnd.google.colaboratory.intrinsic+json": {
              "type": "string"
            }
          },
          "metadata": {},
          "execution_count": 171
        }
      ]
    },
    {
      "cell_type": "markdown",
      "metadata": {
        "id": "zmFoEf1dUlVk"
      },
      "source": [
        "## Loop\n",
        "การให้ com ทำงานที่ซ้ำๆกัน หรือ ทำงานที่คล้ายๆกัน หลายๆรอบ\n",
        "\n",
        "\n",
        "indent\n",
        "\n",
        "```python\n",
        "for ตัวแปรที่เราจะรับค่าจากลิสต์ in ลิสต์ที่ต้องการจะวนลูป :\n",
        "    do something\n",
        "    do another thing\n",
        "\n",
        "this is outside the loop\n",
        "\n",
        "```"
      ]
    },
    {
      "cell_type": "code",
      "metadata": {
        "colab": {
          "base_uri": "https://localhost:8080/"
        },
        "id": "NvomEqnHWXz0",
        "outputId": "523c1c2f-c176-48d9-cad4-2a6cb1e83b99"
      },
      "source": [
        "list_aa"
      ],
      "execution_count": 136,
      "outputs": [
        {
          "output_type": "execute_result",
          "data": {
            "text/plain": [
              "['chiken', 'water', 'vegetable', 'plate']"
            ]
          },
          "metadata": {},
          "execution_count": 136
        }
      ]
    },
    {
      "cell_type": "markdown",
      "metadata": {
        "id": "q-5P3mtVW6bQ"
      },
      "source": [
        "#### ทำงานคล้ายๆกัน"
      ]
    },
    {
      "cell_type": "code",
      "metadata": {
        "colab": {
          "base_uri": "https://localhost:8080/"
        },
        "id": "_CTpbt-HUOHi",
        "outputId": "3129b940-2e11-41d4-ada9-c3285150d69a"
      },
      "source": [
        "for i in list_aa:\n",
        "    print(f'now i is {i}')\n",
        "    print(f'I like to eat {i}')"
      ],
      "execution_count": 137,
      "outputs": [
        {
          "output_type": "stream",
          "name": "stdout",
          "text": [
            "now i is chiken\n",
            "I like to eat chiken\n",
            "now i is water\n",
            "I like to eat water\n",
            "now i is vegetable\n",
            "I like to eat vegetable\n",
            "now i is plate\n",
            "I like to eat plate\n"
          ]
        }
      ]
    },
    {
      "cell_type": "markdown",
      "metadata": {
        "id": "OqrDKpFsW-PE"
      },
      "source": [
        "#### ทำงานซ้ำๆกัน"
      ]
    },
    {
      "cell_type": "code",
      "metadata": {
        "colab": {
          "base_uri": "https://localhost:8080/"
        },
        "id": "pAUID-owWIcn",
        "outputId": "225313d2-3bc6-4324-f3e8-dacba17f809e"
      },
      "source": [
        "for i in list_aa:\n",
        "    print('Ha')"
      ],
      "execution_count": 138,
      "outputs": [
        {
          "output_type": "stream",
          "name": "stdout",
          "text": [
            "Ha\n",
            "Ha\n",
            "Ha\n",
            "Ha\n"
          ]
        }
      ]
    },
    {
      "cell_type": "code",
      "metadata": {
        "colab": {
          "base_uri": "https://localhost:8080/"
        },
        "id": "Z6Y0kp6hXGdG",
        "outputId": "720e5014-b128-47f8-a3f1-2efc3ff76b58"
      },
      "source": [
        "for x in [1,3,5,7,9]:\n",
        "    print(f'this x = {x} x/2 = {x/2}')"
      ],
      "execution_count": 139,
      "outputs": [
        {
          "output_type": "stream",
          "name": "stdout",
          "text": [
            "this x = 1 x/2 = 0.5\n",
            "this x = 3 x/2 = 1.5\n",
            "this x = 5 x/2 = 2.5\n",
            "this x = 7 x/2 = 3.5\n",
            "this x = 9 x/2 = 4.5\n"
          ]
        }
      ]
    },
    {
      "cell_type": "code",
      "metadata": {
        "colab": {
          "base_uri": "https://localhost:8080/"
        },
        "id": "eNbotO4BXx6P",
        "outputId": "d70e3b8e-a868-4729-e163-85a7885b4637"
      },
      "source": [
        "list(range(10))"
      ],
      "execution_count": 140,
      "outputs": [
        {
          "output_type": "execute_result",
          "data": {
            "text/plain": [
              "[0, 1, 2, 3, 4, 5, 6, 7, 8, 9]"
            ]
          },
          "metadata": {},
          "execution_count": 140
        }
      ]
    },
    {
      "cell_type": "code",
      "metadata": {
        "colab": {
          "base_uri": "https://localhost:8080/"
        },
        "id": "lrqQiEcuYJDm",
        "outputId": "c8f091d9-cec6-42e5-85fd-0c0d903482cb"
      },
      "source": [
        "for i in range(100):\n",
        "    print(f'Ha{i}',end='')"
      ],
      "execution_count": 141,
      "outputs": [
        {
          "output_type": "stream",
          "name": "stdout",
          "text": [
            "Ha0Ha1Ha2Ha3Ha4Ha5Ha6Ha7Ha8Ha9Ha10Ha11Ha12Ha13Ha14Ha15Ha16Ha17Ha18Ha19Ha20Ha21Ha22Ha23Ha24Ha25Ha26Ha27Ha28Ha29Ha30Ha31Ha32Ha33Ha34Ha35Ha36Ha37Ha38Ha39Ha40Ha41Ha42Ha43Ha44Ha45Ha46Ha47Ha48Ha49Ha50Ha51Ha52Ha53Ha54Ha55Ha56Ha57Ha58Ha59Ha60Ha61Ha62Ha63Ha64Ha65Ha66Ha67Ha68Ha69Ha70Ha71Ha72Ha73Ha74Ha75Ha76Ha77Ha78Ha79Ha80Ha81Ha82Ha83Ha84Ha85Ha86Ha87Ha88Ha89Ha90Ha91Ha92Ha93Ha94Ha95Ha96Ha97Ha98Ha99"
          ]
        }
      ]
    },
    {
      "cell_type": "code",
      "metadata": {
        "colab": {
          "base_uri": "https://localhost:8080/"
        },
        "id": "P_jsgEfyYh_y",
        "outputId": "05eb65dd-e975-49ee-d8e8-7899bb4306ab"
      },
      "source": [
        "list(range(5,10))"
      ],
      "execution_count": 142,
      "outputs": [
        {
          "output_type": "execute_result",
          "data": {
            "text/plain": [
              "[5, 6, 7, 8, 9]"
            ]
          },
          "metadata": {},
          "execution_count": 142
        }
      ]
    },
    {
      "cell_type": "code",
      "metadata": {
        "colab": {
          "base_uri": "https://localhost:8080/"
        },
        "id": "tfFm8vBnZIGX",
        "outputId": "62e9526a-152c-4c25-8a75-4b053dc5a2da"
      },
      "source": [
        "list(range(5,100,5))"
      ],
      "execution_count": 143,
      "outputs": [
        {
          "output_type": "execute_result",
          "data": {
            "text/plain": [
              "[5, 10, 15, 20, 25, 30, 35, 40, 45, 50, 55, 60, 65, 70, 75, 80, 85, 90, 95]"
            ]
          },
          "metadata": {},
          "execution_count": 143
        }
      ]
    },
    {
      "cell_type": "markdown",
      "metadata": {
        "id": "RocKb6NtZxw3"
      },
      "source": [
        "### Nested loop"
      ]
    },
    {
      "cell_type": "code",
      "metadata": {
        "colab": {
          "base_uri": "https://localhost:8080/"
        },
        "id": "8IjxLwK_ZaPY",
        "outputId": "2e37449c-5d24-4752-eed9-74703b5337ec"
      },
      "source": [
        "for i in range(3): #0,1,2\n",
        "    #print(f'i = {i}')\n",
        "    for j in range(2): #0,1\n",
        "        #print(f'j = {j}')\n",
        "        print(f'i = {i}, j = {j}, i+j = {i+j}')"
      ],
      "execution_count": 144,
      "outputs": [
        {
          "output_type": "stream",
          "name": "stdout",
          "text": [
            "i = 0, j = 0, i+j = 0\n",
            "i = 0, j = 1, i+j = 1\n",
            "i = 1, j = 0, i+j = 1\n",
            "i = 1, j = 1, i+j = 2\n",
            "i = 2, j = 0, i+j = 2\n",
            "i = 2, j = 1, i+j = 3\n"
          ]
        }
      ]
    },
    {
      "cell_type": "code",
      "source": [
        "x=0\n",
        "for i in range(5): #0,1,2\n",
        "   for j in range(7): #0,1\n",
        "    x+=1\n",
        "print(x)"
      ],
      "metadata": {
        "id": "7JDYhQ2TYF9c",
        "outputId": "5737317a-d392-4ccb-ac3d-ec0eee5d6e10",
        "colab": {
          "base_uri": "https://localhost:8080/"
        }
      },
      "execution_count": 178,
      "outputs": [
        {
          "output_type": "stream",
          "name": "stdout",
          "text": [
            "35\n"
          ]
        }
      ]
    },
    {
      "cell_type": "markdown",
      "metadata": {
        "id": "lnANC6XcbDnw"
      },
      "source": [
        "Quiz 2\n",
        "\n",
        "สร้าง list\n",
        "[[1],[1,1],[1,1,1],...,[1,1,1,1,1,1,1,1,1,1]] โดยใช้ for loop"
      ]
    },
    {
      "cell_type": "code",
      "metadata": {
        "colab": {
          "base_uri": "https://localhost:8080/"
        },
        "id": "pmDqAEGHaHYu",
        "outputId": "f9c2dfe7-a363-41d2-be3e-13c69fed4bd4"
      },
      "source": [
        "list_ans = []\n",
        "print(f'list_ans = {list_ans}')\n",
        "for i in range(1,4):\n",
        "    temp = []\n",
        "    print(f'temp = {temp} i = {i}')\n",
        "    for j in range(i):\n",
        "        temp.append(1)#\n",
        "    print(f'temp = {temp}')\n",
        "    list_ans.append(temp)\n",
        "    print(f'list_ans = {list_ans}')\n",
        "print(list_ans)"
      ],
      "execution_count": 179,
      "outputs": [
        {
          "output_type": "stream",
          "name": "stdout",
          "text": [
            "list_ans = []\n",
            "temp = [] i = 1\n",
            "temp = [1]\n",
            "list_ans = [[1]]\n",
            "temp = [] i = 2\n",
            "temp = [1, 1]\n",
            "list_ans = [[1], [1, 1]]\n",
            "temp = [] i = 3\n",
            "temp = [1, 1, 1]\n",
            "list_ans = [[1], [1, 1], [1, 1, 1]]\n",
            "[[1], [1, 1], [1, 1, 1]]\n"
          ]
        }
      ]
    },
    {
      "cell_type": "markdown",
      "metadata": {
        "id": "bbnN2FZlg2jb"
      },
      "source": [
        "Quiz 3\n",
        "\n",
        "สร้าง list\n",
        "[[1],[1,2],[1,2,3],...,[1,2,3,4,5,6,7,8,9,10]] โดยใช้ for loop\n",
        "1ถึงi+1"
      ]
    },
    {
      "cell_type": "code",
      "source": [
        "list_ans = []\n",
        "print(f'list_ans = {list_ans}')\n",
        "for i in range(1,4):\n",
        "    temp = []\n",
        "    print(f'temp = {temp} i = {i}')\n",
        "    for j in range(i):\n",
        "        temp.append(1)#\n",
        "    print(f'temp = {temp}')\n",
        "    list_ans.append(temp)\n",
        "    print(f'list_ans = {list_ans}')\n",
        "print(list_ans)"
      ],
      "metadata": {
        "id": "LFreyB2OZs2r",
        "outputId": "30bd34ce-2dad-4c2f-fc81-845003b5806f",
        "colab": {
          "base_uri": "https://localhost:8080/"
        }
      },
      "execution_count": 193,
      "outputs": [
        {
          "output_type": "stream",
          "name": "stdout",
          "text": [
            "list_ans = []\n",
            "temp = [] i = 2\n",
            "temp = [1]\n",
            "list_ans = [[1]]\n",
            "temp = [] i = 3\n",
            "temp = [1, 1]\n",
            "list_ans = [[1], [1, 1]]\n",
            "temp = [] i = 4\n",
            "temp = [1, 1, 1]\n",
            "list_ans = [[1], [1, 1], [1, 1, 1]]\n",
            "[[1], [1, 1], [1, 1, 1]]\n"
          ]
        }
      ]
    },
    {
      "cell_type": "markdown",
      "metadata": {
        "id": "Dl0DX7kyjgXd"
      },
      "source": [
        "## Conditional Statement (if statement)\n",
        "\n",
        "```python\n",
        "if เงื่อนที่เราจะตรวจสอบ (โดยอาศัยสัญลักษณ์เหล่านี้ ==, !=, <, >, <=, >=, in, is_null()) :\n",
        "    ถ้าเงื่อนไขเป็นจริง ทำ\n",
        "    ถ้าเงื่อนไขเป็นจริง ทำ\n",
        "```"
      ]
    },
    {
      "cell_type": "code",
      "metadata": {
        "id": "OqCizm0SjfzT",
        "colab": {
          "base_uri": "https://localhost:8080/"
        },
        "outputId": "2caffa89-0b34-4673-d698-147bbd913381"
      },
      "source": [
        "if 1 < 5:\n",
        "    print('yes')"
      ],
      "execution_count": 146,
      "outputs": [
        {
          "output_type": "stream",
          "name": "stdout",
          "text": [
            "yes\n"
          ]
        }
      ]
    },
    {
      "cell_type": "code",
      "source": [
        "if 1 :\n",
        "    print('yes')"
      ],
      "metadata": {
        "id": "O5sLmPfNaAyu",
        "outputId": "34048d1f-fda1-4600-eb0b-b7736b7eee12",
        "colab": {
          "base_uri": "https://localhost:8080/"
        }
      },
      "execution_count": 182,
      "outputs": [
        {
          "output_type": "stream",
          "name": "stdout",
          "text": [
            "yes\n"
          ]
        }
      ]
    },
    {
      "cell_type": "markdown",
      "metadata": {
        "id": "M5gCT3RTkmcY"
      },
      "source": [
        "```python\n",
        "if เงื่อนไขที่จะตรวจสอบ (โดยใช้สัญลักษณ์ ==,!=,<,>,<=,>=):\n",
        "    ถ้าเงื่อนไขเป็นจริง ทำงานที่ 1\n",
        "    ถ้าเงื่อนไขเป็นจริง ทำงานที่ 2\n",
        "elif เงื่อนไขที่จะตรวจสอบต่อไปถ้าเงื่อนไขข้างบนไม่เป็นจริง:\n",
        "    ถ้าเงื่อนไขเป็นจริง ทำงานที่ a1\n",
        "    ถ้าเงื่อนไขเป็นจริง ทำงานที่ a2\n",
        "elif เงื่อนไขที่จะตรวจสอบต่อไปถ้าเงื่อนไขข้างบนไม่เป็นจริง:\n",
        "    ถ้าเงื่อนไขเป็นจริง ทำงานที่ b1\n",
        "    ถ้าเงื่อนไขเป็นจริง ทำงานที่ b2\n",
        "else: #ตรวจสอบเงื่อนไขข้างบนแล้วไม่เป็นจริง\n",
        "    ทำงานที่ X\n",
        "```"
      ]
    },
    {
      "cell_type": "code",
      "metadata": {
        "id": "CvxdSH-RklyL",
        "colab": {
          "base_uri": "https://localhost:8080/"
        },
        "outputId": "bf743091-c532-460d-de02-2260b10b3a8b"
      },
      "source": [
        "x = -12\n",
        "\n",
        "if x < 5:\n",
        "    print('yes')\n",
        "else:\n",
        "    print('no')"
      ],
      "execution_count": 147,
      "outputs": [
        {
          "output_type": "stream",
          "name": "stdout",
          "text": [
            "yes\n"
          ]
        }
      ]
    },
    {
      "cell_type": "markdown",
      "metadata": {
        "id": "OufnxXv2lU4L"
      },
      "source": [
        "### example\n",
        "list_ex = [1,5,9,-19,-2,0] #หาค่าน้อยที่สุดใน list_ex โดยไม่ใช้ function min (ใช้ for กับ if)"
      ]
    },
    {
      "cell_type": "code",
      "source": [
        "list_ex = [1,5,9,-19,-2,0] #หาค่าน้อยที่สุดใน list_ex โดยไม่ใช้ function min (ใช้ for กับ if)"
      ],
      "metadata": {
        "id": "Y2ND-ePDa7Ye"
      },
      "execution_count": 194,
      "outputs": []
    },
    {
      "cell_type": "code",
      "metadata": {
        "id": "GJY7Kf_7n4OC",
        "colab": {
          "base_uri": "https://localhost:8080/"
        },
        "outputId": "2d0ecf6b-faeb-44b4-eaef-5c08ca641a0b"
      },
      "source": [
        "min = 100000000\n",
        "print(list_ex)\n",
        "for i in list_ex:\n",
        "    print(f'now i = {i}, min = {min}')\n",
        "    print('start condition')\n",
        "    if i < min:\n",
        "        print(f'i < min, update min -> {i}')\n",
        "        min = i\n",
        "    else:\n",
        "        print('i >= min, not update')\n",
        "    print('end condition, go to next i')\n",
        "\n",
        "print(min)"
      ],
      "execution_count": 196,
      "outputs": [
        {
          "output_type": "stream",
          "name": "stdout",
          "text": [
            "[1, 5, 9, -19, -2, 0]\n",
            "now i = 1, min = 100000000\n",
            "start condition\n",
            "i < min, update min -> 1\n",
            "end condition, go to next i\n",
            "now i = 5, min = 1\n",
            "start condition\n",
            "i >= min, not update\n",
            "end condition, go to next i\n",
            "now i = 9, min = 1\n",
            "start condition\n",
            "i >= min, not update\n",
            "end condition, go to next i\n",
            "now i = -19, min = 1\n",
            "start condition\n",
            "i < min, update min -> -19\n",
            "end condition, go to next i\n",
            "now i = -2, min = -19\n",
            "start condition\n",
            "i >= min, not update\n",
            "end condition, go to next i\n",
            "now i = 0, min = -19\n",
            "start condition\n",
            "i >= min, not update\n",
            "end condition, go to next i\n",
            "-19\n"
          ]
        }
      ]
    },
    {
      "cell_type": "code",
      "metadata": {
        "colab": {
          "base_uri": "https://localhost:8080/"
        },
        "id": "nFiZEclpfddW",
        "outputId": "525973fa-45b2-46fc-d87e-6dccbe9f612b"
      },
      "source": [
        "list_ex = [1,5,9,-19,-2,0]\n",
        "\n",
        "min = 100000000\n",
        "for x in list_ex:\n",
        "    if x < min:\n",
        "        min = x\n",
        "\n",
        "print(min)"
      ],
      "execution_count": 197,
      "outputs": [
        {
          "output_type": "stream",
          "name": "stdout",
          "text": [
            "-19\n"
          ]
        }
      ]
    },
    {
      "cell_type": "markdown",
      "metadata": {
        "id": "2BfmG-LnoifA"
      },
      "source": [
        "### quiz 4\n",
        "list_ex = [1,5,9,-19,-2,0] #หาค่ามากที่สุดใน list_ex โดยไม่ใช้ function max (ใช้ for กับ if)"
      ]
    },
    {
      "cell_type": "code",
      "metadata": {
        "id": "HVZjI1hMn_HB"
      },
      "source": [],
      "execution_count": 197,
      "outputs": []
    },
    {
      "cell_type": "markdown",
      "metadata": {
        "id": "BHSOMxsbrvhM"
      },
      "source": [
        "## Function\n",
        "\n",
        "```python\n",
        "def ชื่อฟังก์ชั่น(input1,input2,....):\n",
        "    งานxxx\n",
        "    งานyyy\n",
        "    return output\n",
        "```\n",
        "\n",
        "![image.png](data:image/png;base64,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)"
      ]
    },
    {
      "cell_type": "markdown",
      "metadata": {
        "id": "MuAZ1Lok4vpi"
      },
      "source": [
        "ส่วนประกอบสำคัญ\n",
        "* input\n",
        "* process (ไม่มีไม่ได้)\n",
        "* output\n"
      ]
    },
    {
      "cell_type": "markdown",
      "metadata": {
        "id": "-GBTxt005PwD"
      },
      "source": [
        "#### Example 1"
      ]
    },
    {
      "cell_type": "code",
      "metadata": {
        "id": "gy8yhVDy4uid"
      },
      "source": [
        "def find_min(list_ex):\n",
        "    min = 100000000\n",
        "    for x in list_ex:\n",
        "        if x < min:\n",
        "            min = x\n",
        "\n",
        "    return min"
      ],
      "execution_count": 198,
      "outputs": []
    },
    {
      "cell_type": "code",
      "metadata": {
        "id": "6wLegJw5rPHC",
        "colab": {
          "base_uri": "https://localhost:8080/"
        },
        "outputId": "edac36ed-7487-473d-8d57-7222ac8b1a68"
      },
      "source": [
        "list_A = [1,5,9,-19,-2,0]\n",
        "XXX = find_min(list_A)\n",
        "print(XXX)"
      ],
      "execution_count": 199,
      "outputs": [
        {
          "output_type": "stream",
          "name": "stdout",
          "text": [
            "-19\n"
          ]
        }
      ]
    },
    {
      "cell_type": "markdown",
      "metadata": {
        "id": "EOD0hH7x6P5d"
      },
      "source": [
        "#### Example 2"
      ]
    },
    {
      "cell_type": "code",
      "metadata": {
        "id": "9dXpooUK6B7f"
      },
      "source": [
        "def find_min2(list_ex):\n",
        "    min = 100000000\n",
        "    for x in list_ex:\n",
        "        if x < min:\n",
        "            min = x\n",
        "    print(min)"
      ],
      "execution_count": 200,
      "outputs": []
    },
    {
      "cell_type": "code",
      "metadata": {
        "colab": {
          "base_uri": "https://localhost:8080/"
        },
        "id": "nIcDI9cH6Y-y",
        "outputId": "f4eb0f7b-fc9e-4141-b2a6-bc147bc34bad"
      },
      "source": [
        "find_min2(list_A)"
      ],
      "execution_count": 201,
      "outputs": [
        {
          "output_type": "stream",
          "name": "stdout",
          "text": [
            "-19\n"
          ]
        }
      ]
    },
    {
      "cell_type": "code",
      "metadata": {
        "colab": {
          "base_uri": "https://localhost:8080/"
        },
        "id": "iuVueumJ6cXl",
        "outputId": "f1dd81c4-4ee2-44cd-94c6-ca615acbbcbe"
      },
      "source": [
        "YYY = find_min2(list_A)"
      ],
      "execution_count": 202,
      "outputs": [
        {
          "output_type": "stream",
          "name": "stdout",
          "text": [
            "-19\n"
          ]
        }
      ]
    },
    {
      "cell_type": "code",
      "metadata": {
        "id": "1yx1AenN6sbp"
      },
      "source": [
        "YYY"
      ],
      "execution_count": 203,
      "outputs": []
    },
    {
      "cell_type": "markdown",
      "metadata": {
        "id": "ZOZQGUdG6209"
      },
      "source": [
        "#### Example 3"
      ]
    },
    {
      "cell_type": "code",
      "metadata": {
        "id": "E1CVTQP06t7v"
      },
      "source": [
        "def Pi_val():\n",
        "    return 3.1416"
      ],
      "execution_count": 204,
      "outputs": []
    },
    {
      "cell_type": "code",
      "metadata": {
        "colab": {
          "base_uri": "https://localhost:8080/"
        },
        "id": "x0mv8vO17Dh2",
        "outputId": "7b88948a-00f9-4068-9a7e-a9e1b7126cd5"
      },
      "source": [
        "r = 10\n",
        "print(f'พื้นที่วงกลมที่มีเส้นผ่านศูนย์กลางเท่ากับ {r} คือ {Pi_val()*r*r}')"
      ],
      "execution_count": 205,
      "outputs": [
        {
          "output_type": "stream",
          "name": "stdout",
          "text": [
            "พื้นที่วงกลมที่มีเส้นผ่านศูนย์กลางเท่ากับ 10 คือ 314.16\n"
          ]
        }
      ]
    },
    {
      "cell_type": "markdown",
      "metadata": {
        "id": "vYipabi27ihu"
      },
      "source": [
        "#### Example 4"
      ]
    },
    {
      "cell_type": "code",
      "metadata": {
        "id": "-3J6JeQ27Usc"
      },
      "source": [
        "def draw_rectangle():\n",
        "    print('======')\n",
        "    print('|    |')\n",
        "    print('======')"
      ],
      "execution_count": 206,
      "outputs": []
    },
    {
      "cell_type": "code",
      "metadata": {
        "colab": {
          "base_uri": "https://localhost:8080/"
        },
        "id": "7szjLxFg8VyB",
        "outputId": "d93ad1d1-44ba-4fc8-901f-ee0aefd10abf"
      },
      "source": [
        "draw_rectangle()"
      ],
      "execution_count": 207,
      "outputs": [
        {
          "output_type": "stream",
          "name": "stdout",
          "text": [
            "======\n",
            "|    |\n",
            "======\n"
          ]
        }
      ]
    },
    {
      "cell_type": "code",
      "metadata": {
        "id": "MxK8l4ZI8YD-"
      },
      "source": [
        "def draw_hello():\n",
        "    print('============')\n",
        "    print('|  Hello  |')\n",
        "    print('============')"
      ],
      "execution_count": 208,
      "outputs": []
    },
    {
      "cell_type": "code",
      "metadata": {
        "colab": {
          "base_uri": "https://localhost:8080/"
        },
        "id": "iNdjg8p08o42",
        "outputId": "39311306-2df8-4e3d-b1a3-330fe0c527e3"
      },
      "source": [
        "draw_hello()"
      ],
      "execution_count": 209,
      "outputs": [
        {
          "output_type": "stream",
          "name": "stdout",
          "text": [
            "============\n",
            "|  Hello  |\n",
            "============\n"
          ]
        }
      ]
    },
    {
      "cell_type": "code",
      "metadata": {
        "colab": {
          "base_uri": "https://localhost:8080/",
          "height": 130
        },
        "id": "oqfUiQAp8s-y",
        "outputId": "de3fe8e4-75ec-487f-ed25-bf7d860eed61"
      },
      "source": [
        "def draw_rectangle():"
      ],
      "execution_count": 211,
      "outputs": [
        {
          "output_type": "error",
          "ename": "SyntaxError",
          "evalue": "ignored",
          "traceback": [
            "\u001b[0;36m  File \u001b[0;32m\"<ipython-input-211-96ff03789653>\"\u001b[0;36m, line \u001b[0;32m1\u001b[0m\n\u001b[0;31m    def draw_rectangle():\u001b[0m\n\u001b[0m                         ^\u001b[0m\n\u001b[0;31mSyntaxError\u001b[0m\u001b[0;31m:\u001b[0m incomplete input\n"
          ]
        }
      ]
    },
    {
      "cell_type": "markdown",
      "metadata": {
        "id": "SPGPe49x9HwR"
      },
      "source": [
        "\n",
        "ลักษณะของ input(paremeter,argument)\n",
        "* จำเป็นต้องใส่ (non-default argument)\n",
        "* ไม่จำเป็นต้องใส่ (default argument)"
      ]
    },
    {
      "cell_type": "code",
      "metadata": {
        "id": "mJOeYvVQ8-Ew"
      },
      "source": [
        "def draw_rectangle(dbbound=True):\n",
        "    if dbbound:\n",
        "        print('========')\n",
        "        print('||    ||')\n",
        "        print('========')\n",
        "    else:\n",
        "        print('________')\n",
        "        print('|      |')\n",
        "        print('--------')\n",
        "\n"
      ],
      "execution_count": 213,
      "outputs": []
    },
    {
      "cell_type": "code",
      "metadata": {
        "colab": {
          "base_uri": "https://localhost:8080/"
        },
        "id": "twsP66By-tpK",
        "outputId": "2dcd67b5-3c39-4aa6-d930-e393675582fd"
      },
      "source": [
        "draw_rectangle()"
      ],
      "execution_count": 214,
      "outputs": [
        {
          "output_type": "stream",
          "name": "stdout",
          "text": [
            "========\n",
            "||    ||\n",
            "========\n"
          ]
        }
      ]
    },
    {
      "cell_type": "code",
      "metadata": {
        "colab": {
          "base_uri": "https://localhost:8080/"
        },
        "id": "wK_Uqxh6-yTL",
        "outputId": "26f32f6c-a269-4985-baaa-83c882f2f7da"
      },
      "source": [
        "draw_rectangle(True)"
      ],
      "execution_count": 215,
      "outputs": [
        {
          "output_type": "stream",
          "name": "stdout",
          "text": [
            "========\n",
            "||    ||\n",
            "========\n"
          ]
        }
      ]
    },
    {
      "cell_type": "code",
      "metadata": {
        "colab": {
          "base_uri": "https://localhost:8080/"
        },
        "id": "zroHsi40-1DU",
        "outputId": "ef25ac3d-ae62-4868-a391-8999ee7aabe0"
      },
      "source": [
        "draw_rectangle(False)"
      ],
      "execution_count": 216,
      "outputs": [
        {
          "output_type": "stream",
          "name": "stdout",
          "text": [
            "________\n",
            "|      |\n",
            "--------\n"
          ]
        }
      ]
    },
    {
      "cell_type": "code",
      "metadata": {
        "colab": {
          "base_uri": "https://localhost:8080/",
          "height": 164
        },
        "id": "pLimn5_F-3xT",
        "outputId": "0b4a675e-ecbb-4c1d-dc07-848aec1b1ccc"
      },
      "source": [
        "find_min2()"
      ],
      "execution_count": 217,
      "outputs": [
        {
          "output_type": "error",
          "ename": "TypeError",
          "evalue": "ignored",
          "traceback": [
            "\u001b[0;31m---------------------------------------------------------------------------\u001b[0m",
            "\u001b[0;31mTypeError\u001b[0m                                 Traceback (most recent call last)",
            "\u001b[0;32m<ipython-input-217-99c508e7a45c>\u001b[0m in \u001b[0;36m<cell line: 1>\u001b[0;34m()\u001b[0m\n\u001b[0;32m----> 1\u001b[0;31m \u001b[0mfind_min2\u001b[0m\u001b[0;34m(\u001b[0m\u001b[0;34m)\u001b[0m\u001b[0;34m\u001b[0m\u001b[0;34m\u001b[0m\u001b[0m\n\u001b[0m",
            "\u001b[0;31mTypeError\u001b[0m: find_min2() missing 1 required positional argument: 'list_ex'"
          ]
        }
      ]
    },
    {
      "cell_type": "code",
      "metadata": {
        "id": "BK_csYC5_Zuk"
      },
      "source": [
        "def draw_rectangle(size,dbbound=True):\n",
        "    if dbbound:\n",
        "        up = '='\n",
        "        space = ' '\n",
        "        print(f'{(size+4)*up}')\n",
        "        print(f'||{size*space}||')\n",
        "        print(f'{(size+4)*up}')\n",
        "    else:\n",
        "        up = '-'\n",
        "        space = ' '\n",
        "        print(f'{(size+4)*up}')\n",
        "        print(f'|{size*space}|')\n",
        "        print(f'{(size+4)*up}')"
      ],
      "execution_count": null,
      "outputs": []
    },
    {
      "cell_type": "code",
      "metadata": {
        "id": "y4pbjPCsAK3Z"
      },
      "source": [
        "draw_rectangle()"
      ],
      "execution_count": null,
      "outputs": []
    },
    {
      "cell_type": "code",
      "metadata": {
        "id": "JjROLBPDANSu"
      },
      "source": [
        "draw_rectangle(10,False)"
      ],
      "execution_count": null,
      "outputs": []
    },
    {
      "cell_type": "code",
      "metadata": {
        "id": "ILiCpUB3Ba29"
      },
      "source": [
        "def draw_rectangle(size,dbbound=True):\n",
        "    if dbbound:\n",
        "        up = '='\n",
        "        #space = ' '\n",
        "        print(f'{(size+4)*up}')\n",
        "        print(f'||{size*\" \"}||')\n",
        "        print(f'{(size+4)*up}')\n",
        "    else:\n",
        "        up = '-'\n",
        "        #space = ' '\n",
        "        print(f'{(size+4)*up}')\n",
        "        print(f'|{size*\" \"}|')\n",
        "        print(f'{(size+4)*up}')"
      ],
      "execution_count": null,
      "outputs": []
    },
    {
      "cell_type": "code",
      "metadata": {
        "id": "8pCUSAXmB_MC"
      },
      "source": [
        "draw_rectangle(dbbound=False,size=7)"
      ],
      "execution_count": null,
      "outputs": []
    },
    {
      "cell_type": "markdown",
      "metadata": {
        "id": "Zsc9KNMtDsYR"
      },
      "source": [
        "Quiz 5\n",
        "สร้าง function วาด 4 เหลี่ยม\n",
        "โดยให้สามารถกำหนดความยาวและความกว้างได้\n",
        "แต่ ถ้า ใส่ parameter ตัวเดียว ก็ให้วาด สี่เหลี่ยมจัตุรัส ที่มีความยาวและความกว้างเท่ากับ parameter ที่ใส่\n",
        "\n",
        "(ให้ปริ้น ความกว้าง x ความยาวของ สี่เหลี่ยม)\n",
        "\n",
        "ตัวอย่าง\n",
        "```\n",
        "rext(3,5)\n",
        "> 3 x 5\n",
        "rext(7)\n",
        "> 7 x 7\n",
        "```"
      ]
    },
    {
      "cell_type": "code",
      "metadata": {
        "id": "qPIx_9bfC9KN"
      },
      "source": [
        "def rext(w,h='tohn'):\n",
        "    if h=='tohn':#check if there is only 1 argument\n",
        "        h=w\n",
        "    print(f'{w} x {h}')"
      ],
      "execution_count": null,
      "outputs": []
    },
    {
      "cell_type": "code",
      "metadata": {
        "id": "1E1ie1x9I1qj"
      },
      "source": [
        "rext(3,5)"
      ],
      "execution_count": null,
      "outputs": []
    },
    {
      "cell_type": "code",
      "metadata": {
        "id": "VJA9tQprI30G"
      },
      "source": [
        "rext(12)"
      ],
      "execution_count": null,
      "outputs": []
    },
    {
      "cell_type": "code",
      "metadata": {
        "id": "MI1J3n5HI51P"
      },
      "source": [],
      "execution_count": null,
      "outputs": []
    }
  ]
}