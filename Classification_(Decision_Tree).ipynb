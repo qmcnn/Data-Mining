{
  "nbformat": 4,
  "nbformat_minor": 0,
  "metadata": {
    "colab": {
      "provenance": [],
      "include_colab_link": true
    },
    "kernelspec": {
      "name": "python3",
      "display_name": "Python 3"
    },
    "language_info": {
      "name": "python"
    }
  },
  "cells": [
    {
      "cell_type": "markdown",
      "metadata": {
        "id": "view-in-github",
        "colab_type": "text"
      },
      "source": [
        "<a href=\"https://colab.research.google.com/github/qmcnn/Data-Mining/blob/main/Classification_(Decision_Tree).ipynb\" target=\"_parent\"><img src=\"https://colab.research.google.com/assets/colab-badge.svg\" alt=\"Open In Colab\"/></a>"
      ]
    },
    {
      "cell_type": "markdown",
      "metadata": {
        "id": "j0XvESJgvr6e"
      },
      "source": [
        "Scikit-learn คือ package ที่รวบรวมอัลกอริทึม ที่เกี่ยวข้องกับ machine learning และ data mining (sklearn)"
      ]
    },
    {
      "cell_type": "markdown",
      "metadata": {
        "id": "LBUEC8Yxv-SO"
      },
      "source": [
        "# Load Data"
      ]
    },
    {
      "cell_type": "code",
      "metadata": {
        "id": "1pxschjYvQ3b"
      },
      "source": [
        "from sklearn import datasets\n",
        "\n",
        "iris_data = datasets.load_iris()"
      ],
      "execution_count": 1,
      "outputs": []
    },
    {
      "cell_type": "code",
      "metadata": {
        "colab": {
          "base_uri": "https://localhost:8080/"
        },
        "id": "9U757HvHwbdq",
        "outputId": "c7b4b6db-2bda-4a27-e51c-8ac9c752d545"
      },
      "source": [
        "iris_data"
      ],
      "execution_count": 2,
      "outputs": [
        {
          "output_type": "execute_result",
          "data": {
            "text/plain": [
              "{'data': array([[5.1, 3.5, 1.4, 0.2],\n",
              "        [4.9, 3. , 1.4, 0.2],\n",
              "        [4.7, 3.2, 1.3, 0.2],\n",
              "        [4.6, 3.1, 1.5, 0.2],\n",
              "        [5. , 3.6, 1.4, 0.2],\n",
              "        [5.4, 3.9, 1.7, 0.4],\n",
              "        [4.6, 3.4, 1.4, 0.3],\n",
              "        [5. , 3.4, 1.5, 0.2],\n",
              "        [4.4, 2.9, 1.4, 0.2],\n",
              "        [4.9, 3.1, 1.5, 0.1],\n",
              "        [5.4, 3.7, 1.5, 0.2],\n",
              "        [4.8, 3.4, 1.6, 0.2],\n",
              "        [4.8, 3. , 1.4, 0.1],\n",
              "        [4.3, 3. , 1.1, 0.1],\n",
              "        [5.8, 4. , 1.2, 0.2],\n",
              "        [5.7, 4.4, 1.5, 0.4],\n",
              "        [5.4, 3.9, 1.3, 0.4],\n",
              "        [5.1, 3.5, 1.4, 0.3],\n",
              "        [5.7, 3.8, 1.7, 0.3],\n",
              "        [5.1, 3.8, 1.5, 0.3],\n",
              "        [5.4, 3.4, 1.7, 0.2],\n",
              "        [5.1, 3.7, 1.5, 0.4],\n",
              "        [4.6, 3.6, 1. , 0.2],\n",
              "        [5.1, 3.3, 1.7, 0.5],\n",
              "        [4.8, 3.4, 1.9, 0.2],\n",
              "        [5. , 3. , 1.6, 0.2],\n",
              "        [5. , 3.4, 1.6, 0.4],\n",
              "        [5.2, 3.5, 1.5, 0.2],\n",
              "        [5.2, 3.4, 1.4, 0.2],\n",
              "        [4.7, 3.2, 1.6, 0.2],\n",
              "        [4.8, 3.1, 1.6, 0.2],\n",
              "        [5.4, 3.4, 1.5, 0.4],\n",
              "        [5.2, 4.1, 1.5, 0.1],\n",
              "        [5.5, 4.2, 1.4, 0.2],\n",
              "        [4.9, 3.1, 1.5, 0.2],\n",
              "        [5. , 3.2, 1.2, 0.2],\n",
              "        [5.5, 3.5, 1.3, 0.2],\n",
              "        [4.9, 3.6, 1.4, 0.1],\n",
              "        [4.4, 3. , 1.3, 0.2],\n",
              "        [5.1, 3.4, 1.5, 0.2],\n",
              "        [5. , 3.5, 1.3, 0.3],\n",
              "        [4.5, 2.3, 1.3, 0.3],\n",
              "        [4.4, 3.2, 1.3, 0.2],\n",
              "        [5. , 3.5, 1.6, 0.6],\n",
              "        [5.1, 3.8, 1.9, 0.4],\n",
              "        [4.8, 3. , 1.4, 0.3],\n",
              "        [5.1, 3.8, 1.6, 0.2],\n",
              "        [4.6, 3.2, 1.4, 0.2],\n",
              "        [5.3, 3.7, 1.5, 0.2],\n",
              "        [5. , 3.3, 1.4, 0.2],\n",
              "        [7. , 3.2, 4.7, 1.4],\n",
              "        [6.4, 3.2, 4.5, 1.5],\n",
              "        [6.9, 3.1, 4.9, 1.5],\n",
              "        [5.5, 2.3, 4. , 1.3],\n",
              "        [6.5, 2.8, 4.6, 1.5],\n",
              "        [5.7, 2.8, 4.5, 1.3],\n",
              "        [6.3, 3.3, 4.7, 1.6],\n",
              "        [4.9, 2.4, 3.3, 1. ],\n",
              "        [6.6, 2.9, 4.6, 1.3],\n",
              "        [5.2, 2.7, 3.9, 1.4],\n",
              "        [5. , 2. , 3.5, 1. ],\n",
              "        [5.9, 3. , 4.2, 1.5],\n",
              "        [6. , 2.2, 4. , 1. ],\n",
              "        [6.1, 2.9, 4.7, 1.4],\n",
              "        [5.6, 2.9, 3.6, 1.3],\n",
              "        [6.7, 3.1, 4.4, 1.4],\n",
              "        [5.6, 3. , 4.5, 1.5],\n",
              "        [5.8, 2.7, 4.1, 1. ],\n",
              "        [6.2, 2.2, 4.5, 1.5],\n",
              "        [5.6, 2.5, 3.9, 1.1],\n",
              "        [5.9, 3.2, 4.8, 1.8],\n",
              "        [6.1, 2.8, 4. , 1.3],\n",
              "        [6.3, 2.5, 4.9, 1.5],\n",
              "        [6.1, 2.8, 4.7, 1.2],\n",
              "        [6.4, 2.9, 4.3, 1.3],\n",
              "        [6.6, 3. , 4.4, 1.4],\n",
              "        [6.8, 2.8, 4.8, 1.4],\n",
              "        [6.7, 3. , 5. , 1.7],\n",
              "        [6. , 2.9, 4.5, 1.5],\n",
              "        [5.7, 2.6, 3.5, 1. ],\n",
              "        [5.5, 2.4, 3.8, 1.1],\n",
              "        [5.5, 2.4, 3.7, 1. ],\n",
              "        [5.8, 2.7, 3.9, 1.2],\n",
              "        [6. , 2.7, 5.1, 1.6],\n",
              "        [5.4, 3. , 4.5, 1.5],\n",
              "        [6. , 3.4, 4.5, 1.6],\n",
              "        [6.7, 3.1, 4.7, 1.5],\n",
              "        [6.3, 2.3, 4.4, 1.3],\n",
              "        [5.6, 3. , 4.1, 1.3],\n",
              "        [5.5, 2.5, 4. , 1.3],\n",
              "        [5.5, 2.6, 4.4, 1.2],\n",
              "        [6.1, 3. , 4.6, 1.4],\n",
              "        [5.8, 2.6, 4. , 1.2],\n",
              "        [5. , 2.3, 3.3, 1. ],\n",
              "        [5.6, 2.7, 4.2, 1.3],\n",
              "        [5.7, 3. , 4.2, 1.2],\n",
              "        [5.7, 2.9, 4.2, 1.3],\n",
              "        [6.2, 2.9, 4.3, 1.3],\n",
              "        [5.1, 2.5, 3. , 1.1],\n",
              "        [5.7, 2.8, 4.1, 1.3],\n",
              "        [6.3, 3.3, 6. , 2.5],\n",
              "        [5.8, 2.7, 5.1, 1.9],\n",
              "        [7.1, 3. , 5.9, 2.1],\n",
              "        [6.3, 2.9, 5.6, 1.8],\n",
              "        [6.5, 3. , 5.8, 2.2],\n",
              "        [7.6, 3. , 6.6, 2.1],\n",
              "        [4.9, 2.5, 4.5, 1.7],\n",
              "        [7.3, 2.9, 6.3, 1.8],\n",
              "        [6.7, 2.5, 5.8, 1.8],\n",
              "        [7.2, 3.6, 6.1, 2.5],\n",
              "        [6.5, 3.2, 5.1, 2. ],\n",
              "        [6.4, 2.7, 5.3, 1.9],\n",
              "        [6.8, 3. , 5.5, 2.1],\n",
              "        [5.7, 2.5, 5. , 2. ],\n",
              "        [5.8, 2.8, 5.1, 2.4],\n",
              "        [6.4, 3.2, 5.3, 2.3],\n",
              "        [6.5, 3. , 5.5, 1.8],\n",
              "        [7.7, 3.8, 6.7, 2.2],\n",
              "        [7.7, 2.6, 6.9, 2.3],\n",
              "        [6. , 2.2, 5. , 1.5],\n",
              "        [6.9, 3.2, 5.7, 2.3],\n",
              "        [5.6, 2.8, 4.9, 2. ],\n",
              "        [7.7, 2.8, 6.7, 2. ],\n",
              "        [6.3, 2.7, 4.9, 1.8],\n",
              "        [6.7, 3.3, 5.7, 2.1],\n",
              "        [7.2, 3.2, 6. , 1.8],\n",
              "        [6.2, 2.8, 4.8, 1.8],\n",
              "        [6.1, 3. , 4.9, 1.8],\n",
              "        [6.4, 2.8, 5.6, 2.1],\n",
              "        [7.2, 3. , 5.8, 1.6],\n",
              "        [7.4, 2.8, 6.1, 1.9],\n",
              "        [7.9, 3.8, 6.4, 2. ],\n",
              "        [6.4, 2.8, 5.6, 2.2],\n",
              "        [6.3, 2.8, 5.1, 1.5],\n",
              "        [6.1, 2.6, 5.6, 1.4],\n",
              "        [7.7, 3. , 6.1, 2.3],\n",
              "        [6.3, 3.4, 5.6, 2.4],\n",
              "        [6.4, 3.1, 5.5, 1.8],\n",
              "        [6. , 3. , 4.8, 1.8],\n",
              "        [6.9, 3.1, 5.4, 2.1],\n",
              "        [6.7, 3.1, 5.6, 2.4],\n",
              "        [6.9, 3.1, 5.1, 2.3],\n",
              "        [5.8, 2.7, 5.1, 1.9],\n",
              "        [6.8, 3.2, 5.9, 2.3],\n",
              "        [6.7, 3.3, 5.7, 2.5],\n",
              "        [6.7, 3. , 5.2, 2.3],\n",
              "        [6.3, 2.5, 5. , 1.9],\n",
              "        [6.5, 3. , 5.2, 2. ],\n",
              "        [6.2, 3.4, 5.4, 2.3],\n",
              "        [5.9, 3. , 5.1, 1.8]]),\n",
              " 'target': array([0, 0, 0, 0, 0, 0, 0, 0, 0, 0, 0, 0, 0, 0, 0, 0, 0, 0, 0, 0, 0, 0,\n",
              "        0, 0, 0, 0, 0, 0, 0, 0, 0, 0, 0, 0, 0, 0, 0, 0, 0, 0, 0, 0, 0, 0,\n",
              "        0, 0, 0, 0, 0, 0, 1, 1, 1, 1, 1, 1, 1, 1, 1, 1, 1, 1, 1, 1, 1, 1,\n",
              "        1, 1, 1, 1, 1, 1, 1, 1, 1, 1, 1, 1, 1, 1, 1, 1, 1, 1, 1, 1, 1, 1,\n",
              "        1, 1, 1, 1, 1, 1, 1, 1, 1, 1, 1, 1, 2, 2, 2, 2, 2, 2, 2, 2, 2, 2,\n",
              "        2, 2, 2, 2, 2, 2, 2, 2, 2, 2, 2, 2, 2, 2, 2, 2, 2, 2, 2, 2, 2, 2,\n",
              "        2, 2, 2, 2, 2, 2, 2, 2, 2, 2, 2, 2, 2, 2, 2, 2, 2, 2]),\n",
              " 'frame': None,\n",
              " 'target_names': array(['setosa', 'versicolor', 'virginica'], dtype='<U10'),\n",
              " 'DESCR': '.. _iris_dataset:\\n\\nIris plants dataset\\n--------------------\\n\\n**Data Set Characteristics:**\\n\\n    :Number of Instances: 150 (50 in each of three classes)\\n    :Number of Attributes: 4 numeric, predictive attributes and the class\\n    :Attribute Information:\\n        - sepal length in cm\\n        - sepal width in cm\\n        - petal length in cm\\n        - petal width in cm\\n        - class:\\n                - Iris-Setosa\\n                - Iris-Versicolour\\n                - Iris-Virginica\\n                \\n    :Summary Statistics:\\n\\n    ============== ==== ==== ======= ===== ====================\\n                    Min  Max   Mean    SD   Class Correlation\\n    ============== ==== ==== ======= ===== ====================\\n    sepal length:   4.3  7.9   5.84   0.83    0.7826\\n    sepal width:    2.0  4.4   3.05   0.43   -0.4194\\n    petal length:   1.0  6.9   3.76   1.76    0.9490  (high!)\\n    petal width:    0.1  2.5   1.20   0.76    0.9565  (high!)\\n    ============== ==== ==== ======= ===== ====================\\n\\n    :Missing Attribute Values: None\\n    :Class Distribution: 33.3% for each of 3 classes.\\n    :Creator: R.A. Fisher\\n    :Donor: Michael Marshall (MARSHALL%PLU@io.arc.nasa.gov)\\n    :Date: July, 1988\\n\\nThe famous Iris database, first used by Sir R.A. Fisher. The dataset is taken\\nfrom Fisher\\'s paper. Note that it\\'s the same as in R, but not as in the UCI\\nMachine Learning Repository, which has two wrong data points.\\n\\nThis is perhaps the best known database to be found in the\\npattern recognition literature.  Fisher\\'s paper is a classic in the field and\\nis referenced frequently to this day.  (See Duda & Hart, for example.)  The\\ndata set contains 3 classes of 50 instances each, where each class refers to a\\ntype of iris plant.  One class is linearly separable from the other 2; the\\nlatter are NOT linearly separable from each other.\\n\\n.. topic:: References\\n\\n   - Fisher, R.A. \"The use of multiple measurements in taxonomic problems\"\\n     Annual Eugenics, 7, Part II, 179-188 (1936); also in \"Contributions to\\n     Mathematical Statistics\" (John Wiley, NY, 1950).\\n   - Duda, R.O., & Hart, P.E. (1973) Pattern Classification and Scene Analysis.\\n     (Q327.D83) John Wiley & Sons.  ISBN 0-471-22361-1.  See page 218.\\n   - Dasarathy, B.V. (1980) \"Nosing Around the Neighborhood: A New System\\n     Structure and Classification Rule for Recognition in Partially Exposed\\n     Environments\".  IEEE Transactions on Pattern Analysis and Machine\\n     Intelligence, Vol. PAMI-2, No. 1, 67-71.\\n   - Gates, G.W. (1972) \"The Reduced Nearest Neighbor Rule\".  IEEE Transactions\\n     on Information Theory, May 1972, 431-433.\\n   - See also: 1988 MLC Proceedings, 54-64.  Cheeseman et al\"s AUTOCLASS II\\n     conceptual clustering system finds 3 classes in the data.\\n   - Many, many more ...',\n",
              " 'feature_names': ['sepal length (cm)',\n",
              "  'sepal width (cm)',\n",
              "  'petal length (cm)',\n",
              "  'petal width (cm)'],\n",
              " 'filename': 'iris.csv',\n",
              " 'data_module': 'sklearn.datasets.data'}"
            ]
          },
          "metadata": {},
          "execution_count": 2
        }
      ]
    },
    {
      "cell_type": "code",
      "metadata": {
        "id": "BYmYIIDCyHxn"
      },
      "source": [
        "X = iris_data['data']\n",
        "Y = iris_data['target']"
      ],
      "execution_count": 3,
      "outputs": []
    },
    {
      "cell_type": "markdown",
      "metadata": {
        "id": "qlPVVtKEv-Mz"
      },
      "source": [
        "# Train Model"
      ]
    },
    {
      "cell_type": "markdown",
      "metadata": {
        "id": "BpHaEEyGxT77"
      },
      "source": [
        "## import"
      ]
    },
    {
      "cell_type": "code",
      "metadata": {
        "id": "nhNT3lygxPkr"
      },
      "source": [
        "from sklearn.tree import DecisionTreeClassifier"
      ],
      "execution_count": 4,
      "outputs": []
    },
    {
      "cell_type": "markdown",
      "metadata": {
        "id": "jmtA6w1LxT46"
      },
      "source": [
        "## define"
      ]
    },
    {
      "cell_type": "code",
      "metadata": {
        "id": "n-uZ5-GYxPbh"
      },
      "source": [
        "mytree = DecisionTreeClassifier()"
      ],
      "execution_count": 5,
      "outputs": []
    },
    {
      "cell_type": "markdown",
      "metadata": {
        "id": "3D38okMmxT1x"
      },
      "source": [
        "## train"
      ]
    },
    {
      "cell_type": "code",
      "metadata": {
        "colab": {
          "base_uri": "https://localhost:8080/",
          "height": 74
        },
        "id": "6kVuF5kYxPVq",
        "outputId": "6d669ee5-4b11-488d-c773-76828fbf58ea"
      },
      "source": [
        "mytree.fit(X,Y)#ใส่ข้อมูลเข้าไป"
      ],
      "execution_count": 6,
      "outputs": [
        {
          "output_type": "execute_result",
          "data": {
            "text/plain": [
              "DecisionTreeClassifier()"
            ],
            "text/html": [
              "<style>#sk-container-id-1 {color: black;background-color: white;}#sk-container-id-1 pre{padding: 0;}#sk-container-id-1 div.sk-toggleable {background-color: white;}#sk-container-id-1 label.sk-toggleable__label {cursor: pointer;display: block;width: 100%;margin-bottom: 0;padding: 0.3em;box-sizing: border-box;text-align: center;}#sk-container-id-1 label.sk-toggleable__label-arrow:before {content: \"▸\";float: left;margin-right: 0.25em;color: #696969;}#sk-container-id-1 label.sk-toggleable__label-arrow:hover:before {color: black;}#sk-container-id-1 div.sk-estimator:hover label.sk-toggleable__label-arrow:before {color: black;}#sk-container-id-1 div.sk-toggleable__content {max-height: 0;max-width: 0;overflow: hidden;text-align: left;background-color: #f0f8ff;}#sk-container-id-1 div.sk-toggleable__content pre {margin: 0.2em;color: black;border-radius: 0.25em;background-color: #f0f8ff;}#sk-container-id-1 input.sk-toggleable__control:checked~div.sk-toggleable__content {max-height: 200px;max-width: 100%;overflow: auto;}#sk-container-id-1 input.sk-toggleable__control:checked~label.sk-toggleable__label-arrow:before {content: \"▾\";}#sk-container-id-1 div.sk-estimator input.sk-toggleable__control:checked~label.sk-toggleable__label {background-color: #d4ebff;}#sk-container-id-1 div.sk-label input.sk-toggleable__control:checked~label.sk-toggleable__label {background-color: #d4ebff;}#sk-container-id-1 input.sk-hidden--visually {border: 0;clip: rect(1px 1px 1px 1px);clip: rect(1px, 1px, 1px, 1px);height: 1px;margin: -1px;overflow: hidden;padding: 0;position: absolute;width: 1px;}#sk-container-id-1 div.sk-estimator {font-family: monospace;background-color: #f0f8ff;border: 1px dotted black;border-radius: 0.25em;box-sizing: border-box;margin-bottom: 0.5em;}#sk-container-id-1 div.sk-estimator:hover {background-color: #d4ebff;}#sk-container-id-1 div.sk-parallel-item::after {content: \"\";width: 100%;border-bottom: 1px solid gray;flex-grow: 1;}#sk-container-id-1 div.sk-label:hover label.sk-toggleable__label {background-color: #d4ebff;}#sk-container-id-1 div.sk-serial::before {content: \"\";position: absolute;border-left: 1px solid gray;box-sizing: border-box;top: 0;bottom: 0;left: 50%;z-index: 0;}#sk-container-id-1 div.sk-serial {display: flex;flex-direction: column;align-items: center;background-color: white;padding-right: 0.2em;padding-left: 0.2em;position: relative;}#sk-container-id-1 div.sk-item {position: relative;z-index: 1;}#sk-container-id-1 div.sk-parallel {display: flex;align-items: stretch;justify-content: center;background-color: white;position: relative;}#sk-container-id-1 div.sk-item::before, #sk-container-id-1 div.sk-parallel-item::before {content: \"\";position: absolute;border-left: 1px solid gray;box-sizing: border-box;top: 0;bottom: 0;left: 50%;z-index: -1;}#sk-container-id-1 div.sk-parallel-item {display: flex;flex-direction: column;z-index: 1;position: relative;background-color: white;}#sk-container-id-1 div.sk-parallel-item:first-child::after {align-self: flex-end;width: 50%;}#sk-container-id-1 div.sk-parallel-item:last-child::after {align-self: flex-start;width: 50%;}#sk-container-id-1 div.sk-parallel-item:only-child::after {width: 0;}#sk-container-id-1 div.sk-dashed-wrapped {border: 1px dashed gray;margin: 0 0.4em 0.5em 0.4em;box-sizing: border-box;padding-bottom: 0.4em;background-color: white;}#sk-container-id-1 div.sk-label label {font-family: monospace;font-weight: bold;display: inline-block;line-height: 1.2em;}#sk-container-id-1 div.sk-label-container {text-align: center;}#sk-container-id-1 div.sk-container {/* jupyter's `normalize.less` sets `[hidden] { display: none; }` but bootstrap.min.css set `[hidden] { display: none !important; }` so we also need the `!important` here to be able to override the default hidden behavior on the sphinx rendered scikit-learn.org. See: https://github.com/scikit-learn/scikit-learn/issues/21755 */display: inline-block !important;position: relative;}#sk-container-id-1 div.sk-text-repr-fallback {display: none;}</style><div id=\"sk-container-id-1\" class=\"sk-top-container\"><div class=\"sk-text-repr-fallback\"><pre>DecisionTreeClassifier()</pre><b>In a Jupyter environment, please rerun this cell to show the HTML representation or trust the notebook. <br />On GitHub, the HTML representation is unable to render, please try loading this page with nbviewer.org.</b></div><div class=\"sk-container\" hidden><div class=\"sk-item\"><div class=\"sk-estimator sk-toggleable\"><input class=\"sk-toggleable__control sk-hidden--visually\" id=\"sk-estimator-id-1\" type=\"checkbox\" checked><label for=\"sk-estimator-id-1\" class=\"sk-toggleable__label sk-toggleable__label-arrow\">DecisionTreeClassifier</label><div class=\"sk-toggleable__content\"><pre>DecisionTreeClassifier()</pre></div></div></div></div></div>"
            ]
          },
          "metadata": {},
          "execution_count": 6
        }
      ]
    },
    {
      "cell_type": "markdown",
      "metadata": {
        "id": "sqgZkQ_fyVHp"
      },
      "source": [
        "## plot tree"
      ]
    },
    {
      "cell_type": "code",
      "metadata": {
        "id": "evT0Mq-IyUw3"
      },
      "source": [
        "from sklearn.tree import plot_tree"
      ],
      "execution_count": 7,
      "outputs": []
    },
    {
      "cell_type": "code",
      "metadata": {
        "colab": {
          "base_uri": "https://localhost:8080/",
          "height": 695
        },
        "id": "DrBHCXnhyfzY",
        "outputId": "55e46530-301f-4b71-a447-ed6a5a76a1c7"
      },
      "source": [
        "plot_tree(mytree)"
      ],
      "execution_count": 37,
      "outputs": [
        {
          "output_type": "execute_result",
          "data": {
            "text/plain": [
              "[Text(0.5, 0.9166666666666666, 'x[2] <= 2.45\\ngini = 0.667\\nsamples = 150\\nvalue = [50, 50, 50]'),\n",
              " Text(0.4230769230769231, 0.75, 'gini = 0.0\\nsamples = 50\\nvalue = [50, 0, 0]'),\n",
              " Text(0.5769230769230769, 0.75, 'x[3] <= 1.75\\ngini = 0.5\\nsamples = 100\\nvalue = [0, 50, 50]'),\n",
              " Text(0.3076923076923077, 0.5833333333333334, 'x[2] <= 4.95\\ngini = 0.168\\nsamples = 54\\nvalue = [0, 49, 5]'),\n",
              " Text(0.15384615384615385, 0.4166666666666667, 'x[3] <= 1.65\\ngini = 0.041\\nsamples = 48\\nvalue = [0, 47, 1]'),\n",
              " Text(0.07692307692307693, 0.25, 'gini = 0.0\\nsamples = 47\\nvalue = [0, 47, 0]'),\n",
              " Text(0.23076923076923078, 0.25, 'gini = 0.0\\nsamples = 1\\nvalue = [0, 0, 1]'),\n",
              " Text(0.46153846153846156, 0.4166666666666667, 'x[3] <= 1.55\\ngini = 0.444\\nsamples = 6\\nvalue = [0, 2, 4]'),\n",
              " Text(0.38461538461538464, 0.25, 'gini = 0.0\\nsamples = 3\\nvalue = [0, 0, 3]'),\n",
              " Text(0.5384615384615384, 0.25, 'x[0] <= 6.95\\ngini = 0.444\\nsamples = 3\\nvalue = [0, 2, 1]'),\n",
              " Text(0.46153846153846156, 0.08333333333333333, 'gini = 0.0\\nsamples = 2\\nvalue = [0, 2, 0]'),\n",
              " Text(0.6153846153846154, 0.08333333333333333, 'gini = 0.0\\nsamples = 1\\nvalue = [0, 0, 1]'),\n",
              " Text(0.8461538461538461, 0.5833333333333334, 'x[2] <= 4.85\\ngini = 0.043\\nsamples = 46\\nvalue = [0, 1, 45]'),\n",
              " Text(0.7692307692307693, 0.4166666666666667, 'x[1] <= 3.1\\ngini = 0.444\\nsamples = 3\\nvalue = [0, 1, 2]'),\n",
              " Text(0.6923076923076923, 0.25, 'gini = 0.0\\nsamples = 2\\nvalue = [0, 0, 2]'),\n",
              " Text(0.8461538461538461, 0.25, 'gini = 0.0\\nsamples = 1\\nvalue = [0, 1, 0]'),\n",
              " Text(0.9230769230769231, 0.4166666666666667, 'gini = 0.0\\nsamples = 43\\nvalue = [0, 0, 43]')]"
            ]
          },
          "metadata": {},
          "execution_count": 37
        },
        {
          "output_type": "display_data",
          "data": {
            "text/plain": [
              "<Figure size 640x480 with 1 Axes>"
            ],
            "image/png": "[encoded data removed]"
          },
          "metadata": {}
        }
      ]
    },
    {
      "cell_type": "code",
      "source": [
        "from sklearn.metrics"
      ],
      "metadata": {
        "id": "nsLeyYiUADjP"
      },
      "execution_count": null,
      "outputs": []
    },
    {
      "cell_type": "markdown",
      "metadata": {
        "id": "Bt6g9d4wv-Jc"
      },
      "source": [
        "# Evaluation"
      ]
    },
    {
      "cell_type": "markdown",
      "metadata": {
        "id": "Czs1jeZEmguh"
      },
      "source": [
        "# Advanced Tree"
      ]
    },
    {
      "cell_type": "markdown",
      "metadata": {
        "id": "dSL0RXlQmzIY"
      },
      "source": [
        "## load data"
      ]
    },
    {
      "cell_type": "code",
      "metadata": {
        "id": "kezc9xEJiD3v"
      },
      "source": [
        "from sklearn import datasets"
      ],
      "execution_count": 9,
      "outputs": []
    },
    {
      "cell_type": "code",
      "metadata": {
        "id": "wmk5b-X6m21y"
      },
      "source": [
        "mnist_data = datasets.load_digits()"
      ],
      "execution_count": 10,
      "outputs": []
    },
    {
      "cell_type": "code",
      "metadata": {
        "id": "5lJYhxB8m-96",
        "outputId": "aba37937-8d0d-40a2-c085-c40b0fc8db32",
        "colab": {
          "base_uri": "https://localhost:8080/"
        }
      },
      "source": [
        "mnist_data"
      ],
      "execution_count": 38,
      "outputs": [
        {
          "output_type": "execute_result",
          "data": {
            "text/plain": [
              "{'data': array([[ 0.,  0.,  5., ...,  0.,  0.,  0.],\n",
              "        [ 0.,  0.,  0., ..., 10.,  0.,  0.],\n",
              "        [ 0.,  0.,  0., ..., 16.,  9.,  0.],\n",
              "        ...,\n",
              "        [ 0.,  0.,  1., ...,  6.,  0.,  0.],\n",
              "        [ 0.,  0.,  2., ..., 12.,  0.,  0.],\n",
              "        [ 0.,  0., 10., ..., 12.,  1.,  0.]]),\n",
              " 'target': array([0, 1, 2, ..., 8, 9, 8]),\n",
              " 'frame': None,\n",
              " 'feature_names': ['pixel_0_0',\n",
              "  'pixel_0_1',\n",
              "  'pixel_0_2',\n",
              "  'pixel_0_3',\n",
              "  'pixel_0_4',\n",
              "  'pixel_0_5',\n",
              "  'pixel_0_6',\n",
              "  'pixel_0_7',\n",
              "  'pixel_1_0',\n",
              "  'pixel_1_1',\n",
              "  'pixel_1_2',\n",
              "  'pixel_1_3',\n",
              "  'pixel_1_4',\n",
              "  'pixel_1_5',\n",
              "  'pixel_1_6',\n",
              "  'pixel_1_7',\n",
              "  'pixel_2_0',\n",
              "  'pixel_2_1',\n",
              "  'pixel_2_2',\n",
              "  'pixel_2_3',\n",
              "  'pixel_2_4',\n",
              "  'pixel_2_5',\n",
              "  'pixel_2_6',\n",
              "  'pixel_2_7',\n",
              "  'pixel_3_0',\n",
              "  'pixel_3_1',\n",
              "  'pixel_3_2',\n",
              "  'pixel_3_3',\n",
              "  'pixel_3_4',\n",
              "  'pixel_3_5',\n",
              "  'pixel_3_6',\n",
              "  'pixel_3_7',\n",
              "  'pixel_4_0',\n",
              "  'pixel_4_1',\n",
              "  'pixel_4_2',\n",
              "  'pixel_4_3',\n",
              "  'pixel_4_4',\n",
              "  'pixel_4_5',\n",
              "  'pixel_4_6',\n",
              "  'pixel_4_7',\n",
              "  'pixel_5_0',\n",
              "  'pixel_5_1',\n",
              "  'pixel_5_2',\n",
              "  'pixel_5_3',\n",
              "  'pixel_5_4',\n",
              "  'pixel_5_5',\n",
              "  'pixel_5_6',\n",
              "  'pixel_5_7',\n",
              "  'pixel_6_0',\n",
              "  'pixel_6_1',\n",
              "  'pixel_6_2',\n",
              "  'pixel_6_3',\n",
              "  'pixel_6_4',\n",
              "  'pixel_6_5',\n",
              "  'pixel_6_6',\n",
              "  'pixel_6_7',\n",
              "  'pixel_7_0',\n",
              "  'pixel_7_1',\n",
              "  'pixel_7_2',\n",
              "  'pixel_7_3',\n",
              "  'pixel_7_4',\n",
              "  'pixel_7_5',\n",
              "  'pixel_7_6',\n",
              "  'pixel_7_7'],\n",
              " 'target_names': array([0, 1, 2, 3, 4, 5, 6, 7, 8, 9]),\n",
              " 'images': array([[[ 0.,  0.,  5., ...,  1.,  0.,  0.],\n",
              "         [ 0.,  0., 13., ..., 15.,  5.,  0.],\n",
              "         [ 0.,  3., 15., ..., 11.,  8.,  0.],\n",
              "         ...,\n",
              "         [ 0.,  4., 11., ..., 12.,  7.,  0.],\n",
              "         [ 0.,  2., 14., ..., 12.,  0.,  0.],\n",
              "         [ 0.,  0.,  6., ...,  0.,  0.,  0.]],\n",
              " \n",
              "        [[ 0.,  0.,  0., ...,  5.,  0.,  0.],\n",
              "         [ 0.,  0.,  0., ...,  9.,  0.,  0.],\n",
              "         [ 0.,  0.,  3., ...,  6.,  0.,  0.],\n",
              "         ...,\n",
              "         [ 0.,  0.,  1., ...,  6.,  0.,  0.],\n",
              "         [ 0.,  0.,  1., ...,  6.,  0.,  0.],\n",
              "         [ 0.,  0.,  0., ..., 10.,  0.,  0.]],\n",
              " \n",
              "        [[ 0.,  0.,  0., ..., 12.,  0.,  0.],\n",
              "         [ 0.,  0.,  3., ..., 14.,  0.,  0.],\n",
              "         [ 0.,  0.,  8., ..., 16.,  0.,  0.],\n",
              "         ...,\n",
              "         [ 0.,  9., 16., ...,  0.,  0.,  0.],\n",
              "         [ 0.,  3., 13., ..., 11.,  5.,  0.],\n",
              "         [ 0.,  0.,  0., ..., 16.,  9.,  0.]],\n",
              " \n",
              "        ...,\n",
              " \n",
              "        [[ 0.,  0.,  1., ...,  1.,  0.,  0.],\n",
              "         [ 0.,  0., 13., ...,  2.,  1.,  0.],\n",
              "         [ 0.,  0., 16., ..., 16.,  5.,  0.],\n",
              "         ...,\n",
              "         [ 0.,  0., 16., ..., 15.,  0.,  0.],\n",
              "         [ 0.,  0., 15., ..., 16.,  0.,  0.],\n",
              "         [ 0.,  0.,  2., ...,  6.,  0.,  0.]],\n",
              " \n",
              "        [[ 0.,  0.,  2., ...,  0.,  0.,  0.],\n",
              "         [ 0.,  0., 14., ..., 15.,  1.,  0.],\n",
              "         [ 0.,  4., 16., ..., 16.,  7.,  0.],\n",
              "         ...,\n",
              "         [ 0.,  0.,  0., ..., 16.,  2.,  0.],\n",
              "         [ 0.,  0.,  4., ..., 16.,  2.,  0.],\n",
              "         [ 0.,  0.,  5., ..., 12.,  0.,  0.]],\n",
              " \n",
              "        [[ 0.,  0., 10., ...,  1.,  0.,  0.],\n",
              "         [ 0.,  2., 16., ...,  1.,  0.,  0.],\n",
              "         [ 0.,  0., 15., ..., 15.,  0.,  0.],\n",
              "         ...,\n",
              "         [ 0.,  4., 16., ..., 16.,  6.,  0.],\n",
              "         [ 0.,  8., 16., ..., 16.,  8.,  0.],\n",
              "         [ 0.,  1.,  8., ..., 12.,  1.,  0.]]]),\n",
              " 'DESCR': \".. _digits_dataset:\\n\\nOptical recognition of handwritten digits dataset\\n--------------------------------------------------\\n\\n**Data Set Characteristics:**\\n\\n    :Number of Instances: 1797\\n    :Number of Attributes: 64\\n    :Attribute Information: 8x8 image of integer pixels in the range 0..16.\\n    :Missing Attribute Values: None\\n    :Creator: E. Alpaydin (alpaydin '@' boun.edu.tr)\\n    :Date: July; 1998\\n\\nThis is a copy of the test set of the UCI ML hand-written digits datasets\\nhttps://archive.ics.uci.edu/ml/datasets/Optical+Recognition+of+Handwritten+Digits\\n\\nThe data set contains images of hand-written digits: 10 classes where\\neach class refers to a digit.\\n\\nPreprocessing programs made available by NIST were used to extract\\nnormalized bitmaps of handwritten digits from a preprinted form. From a\\ntotal of 43 people, 30 contributed to the training set and different 13\\nto the test set. 32x32 bitmaps are divided into nonoverlapping blocks of\\n4x4 and the number of on pixels are counted in each block. This generates\\nan input matrix of 8x8 where each element is an integer in the range\\n0..16. This reduces dimensionality and gives invariance to small\\ndistortions.\\n\\nFor info on NIST preprocessing routines, see M. D. Garris, J. L. Blue, G.\\nT. Candela, D. L. Dimmick, J. Geist, P. J. Grother, S. A. Janet, and C.\\nL. Wilson, NIST Form-Based Handprint Recognition System, NISTIR 5469,\\n1994.\\n\\n.. topic:: References\\n\\n  - C. Kaynak (1995) Methods of Combining Multiple Classifiers and Their\\n    Applications to Handwritten Digit Recognition, MSc Thesis, Institute of\\n    Graduate Studies in Science and Engineering, Bogazici University.\\n  - E. Alpaydin, C. Kaynak (1998) Cascading Classifiers, Kybernetika.\\n  - Ken Tang and Ponnuthurai N. Suganthan and Xi Yao and A. Kai Qin.\\n    Linear dimensionalityreduction using relevance weighted LDA. School of\\n    Electrical and Electronic Engineering Nanyang Technological University.\\n    2005.\\n  - Claudio Gentile. A New Approximate Maximal Margin Classification\\n    Algorithm. NIPS. 2000.\\n\"}"
            ]
          },
          "metadata": {},
          "execution_count": 38
        }
      ]
    },
    {
      "cell_type": "code",
      "metadata": {
        "colab": {
          "base_uri": "https://localhost:8080/"
        },
        "id": "1KlScvW1nBEN",
        "outputId": "63e9ebcc-dde6-45ed-8192-3e4336193ec8"
      },
      "source": [
        "X = mnist_data['data']\n",
        "X.shape"
      ],
      "execution_count": 12,
      "outputs": [
        {
          "output_type": "execute_result",
          "data": {
            "text/plain": [
              "(1797, 64)"
            ]
          },
          "metadata": {},
          "execution_count": 12
        }
      ]
    },
    {
      "cell_type": "code",
      "metadata": {
        "colab": {
          "base_uri": "https://localhost:8080/"
        },
        "id": "IJWJlf6_nwhj",
        "outputId": "f6613482-c157-4f90-f61c-b09f1bc4bf9f"
      },
      "source": [
        "X[0,:]"
      ],
      "execution_count": 13,
      "outputs": [
        {
          "output_type": "execute_result",
          "data": {
            "text/plain": [
              "array([ 0.,  0.,  5., 13.,  9.,  1.,  0.,  0.,  0.,  0., 13., 15., 10.,\n",
              "       15.,  5.,  0.,  0.,  3., 15.,  2.,  0., 11.,  8.,  0.,  0.,  4.,\n",
              "       12.,  0.,  0.,  8.,  8.,  0.,  0.,  5.,  8.,  0.,  0.,  9.,  8.,\n",
              "        0.,  0.,  4., 11.,  0.,  1., 12.,  7.,  0.,  0.,  2., 14.,  5.,\n",
              "       10., 12.,  0.,  0.,  0.,  0.,  6., 13., 10.,  0.,  0.,  0.])"
            ]
          },
          "metadata": {},
          "execution_count": 13
        }
      ]
    },
    {
      "cell_type": "code",
      "metadata": {
        "id": "RHF4c1wAXmGV",
        "outputId": "79572e82-b9a2-4dfa-a493-f9e571c840d1",
        "colab": {
          "base_uri": "https://localhost:8080/"
        }
      },
      "source": [
        "X[0,:].shape"
      ],
      "execution_count": 14,
      "outputs": [
        {
          "output_type": "execute_result",
          "data": {
            "text/plain": [
              "(64,)"
            ]
          },
          "metadata": {},
          "execution_count": 14
        }
      ]
    },
    {
      "cell_type": "code",
      "metadata": {
        "id": "OyjAq9TtXvKn",
        "outputId": "3b77cc7f-3db8-4b02-b748-af1054c48cd1",
        "colab": {
          "base_uri": "https://localhost:8080/",
          "height": 447
        }
      },
      "source": [
        "from matplotlib import pyplot as plt\n",
        "import numpy as np\n",
        "\n",
        "plt.imshow(X[112,:].reshape([8,8]),cmap='gray')"
      ],
      "execution_count": 15,
      "outputs": [
        {
          "output_type": "execute_result",
          "data": {
            "text/plain": [
              "<matplotlib.image.AxesImage at 0x7d972bcd61a0>"
            ]
          },
          "metadata": {},
          "execution_count": 15
        },
        {
          "output_type": "display_data",
          "data": {
            "text/plain": [
              "<Figure size 640x480 with 1 Axes>"
            ],
            "image/png": "[encoded data removed]"
          },
          "metadata": {}
        }
      ]
    },
    {
      "cell_type": "code",
      "metadata": {
        "colab": {
          "base_uri": "https://localhost:8080/"
        },
        "id": "88fcASJln_Iy",
        "outputId": "737ed6ef-9251-4a8a-ccdd-e4d5402d3296"
      },
      "source": [
        "np.max(X)"
      ],
      "execution_count": 16,
      "outputs": [
        {
          "output_type": "execute_result",
          "data": {
            "text/plain": [
              "16.0"
            ]
          },
          "metadata": {},
          "execution_count": 16
        }
      ]
    },
    {
      "cell_type": "code",
      "metadata": {
        "colab": {
          "base_uri": "https://localhost:8080/"
        },
        "id": "Qjzfo53inP9m",
        "outputId": "e3c888d6-1b18-4f00-954e-d2c505516d41"
      },
      "source": [
        "Y = mnist_data['target']\n",
        "Y.shape"
      ],
      "execution_count": 17,
      "outputs": [
        {
          "output_type": "execute_result",
          "data": {
            "text/plain": [
              "(1797,)"
            ]
          },
          "metadata": {},
          "execution_count": 17
        }
      ]
    },
    {
      "cell_type": "code",
      "metadata": {
        "id": "twVGS6xjYC3E",
        "outputId": "e338e88e-4044-4dae-cd71-a58db6b90471",
        "colab": {
          "base_uri": "https://localhost:8080/"
        }
      },
      "source": [
        "Y[112]"
      ],
      "execution_count": 18,
      "outputs": [
        {
          "output_type": "execute_result",
          "data": {
            "text/plain": [
              "7"
            ]
          },
          "metadata": {},
          "execution_count": 18
        }
      ]
    },
    {
      "cell_type": "markdown",
      "metadata": {
        "id": "j9Vvg1PMojDP"
      },
      "source": [
        "## แบ่ง test เอาไว้วัดผลอย่างเดียว"
      ]
    },
    {
      "cell_type": "code",
      "metadata": {
        "id": "EIONx4G7npjx"
      },
      "source": [
        "from sklearn.model_selection import train_test_split"
      ],
      "execution_count": 19,
      "outputs": []
    },
    {
      "cell_type": "code",
      "metadata": {
        "id": "Ouq0HIT1op2k"
      },
      "source": [
        "X_train, X_test, y_train, y_test = train_test_split(X, Y, test_size=0.5, random_state=6)"
      ],
      "execution_count": 20,
      "outputs": []
    },
    {
      "cell_type": "code",
      "metadata": {
        "colab": {
          "base_uri": "https://localhost:8080/"
        },
        "id": "KaODb9lHpJyO",
        "outputId": "59f485e3-07ab-4557-98a6-f40683590e43"
      },
      "source": [
        "X_train[:5,:6]"
      ],
      "execution_count": 21,
      "outputs": [
        {
          "output_type": "execute_result",
          "data": {
            "text/plain": [
              "array([[ 0.,  0.,  8., 15.,  9.,  0.],\n",
              "       [ 0.,  0.,  0.,  9., 11.,  0.],\n",
              "       [ 0.,  1., 12., 16., 16., 16.],\n",
              "       [ 0.,  0., 12., 14.,  6.,  0.],\n",
              "       [ 0.,  0.,  1.,  8.,  8.,  9.]])"
            ]
          },
          "metadata": {},
          "execution_count": 21
        }
      ]
    },
    {
      "cell_type": "markdown",
      "metadata": {
        "id": "wR7gwkU0pb3A"
      },
      "source": [
        "## เริ่มสร้างโมเดล"
      ]
    },
    {
      "cell_type": "markdown",
      "metadata": {
        "id": "aiyKyCawqakO"
      },
      "source": [
        "### หา validation set"
      ]
    },
    {
      "cell_type": "code",
      "metadata": {
        "id": "E4p3cUmDqgQZ"
      },
      "source": [
        "X_traintrain, X_val, y_traintrain, y_val = train_test_split(X_train, y_train, test_size=0.3, random_state=6)"
      ],
      "execution_count": 22,
      "outputs": []
    },
    {
      "cell_type": "code",
      "metadata": {
        "colab": {
          "base_uri": "https://localhost:8080/"
        },
        "id": "OpQTFXPmq1f8",
        "outputId": "c9d60906-f640-401d-a76a-ab049c77aac1"
      },
      "source": [
        "X_traintrain[:5,:7]"
      ],
      "execution_count": 23,
      "outputs": [
        {
          "output_type": "execute_result",
          "data": {
            "text/plain": [
              "array([[ 0.,  0.,  9., 16., 10.,  2.,  0.],\n",
              "       [ 0.,  1., 15.,  4.,  0.,  0.,  0.],\n",
              "       [ 0.,  0.,  4., 14., 16., 15.,  1.],\n",
              "       [ 0.,  0.,  3., 11., 14., 12.,  3.],\n",
              "       [ 0.,  0.,  5., 12., 16., 15.,  0.]])"
            ]
          },
          "metadata": {},
          "execution_count": 23
        }
      ]
    },
    {
      "cell_type": "markdown",
      "metadata": {
        "id": "UaxIPPLhpkIE"
      },
      "source": [
        "1. ใช้ Entropy มี ความสูงไม่เกิน 4 ชั้น\n",
        "2. ใช้ Gini และ leaf node ต้องมีจำนวน data ไม่น้อยกว่า 5\n",
        "3. ใช้ Entropy และ มี จำนวน leaf node ไม่เกิน 15"
      ]
    },
    {
      "cell_type": "markdown",
      "metadata": {
        "id": "8qxQ4Pg8rEtl"
      },
      "source": [
        "Import"
      ]
    },
    {
      "cell_type": "code",
      "metadata": {
        "id": "2uOTuYvvrl3I"
      },
      "source": [
        "from sklearn.tree import DecisionTreeClassifier"
      ],
      "execution_count": 24,
      "outputs": []
    },
    {
      "cell_type": "markdown",
      "metadata": {
        "id": "u1t4nIQJriTh"
      },
      "source": [
        "Define"
      ]
    },
    {
      "cell_type": "code",
      "metadata": {
        "id": "DoLfFXOhruAI"
      },
      "source": [
        "mytree0 = DecisionTreeClassifier(criterion='gini',max_depth=7,min_samples_split=30,min_samples_leaf=5)"
      ],
      "execution_count": 25,
      "outputs": []
    },
    {
      "cell_type": "markdown",
      "metadata": {
        "id": "62-lw-5srjw5"
      },
      "source": [
        "Train"
      ]
    },
    {
      "cell_type": "code",
      "metadata": {
        "colab": {
          "base_uri": "https://localhost:8080/",
          "height": 74
        },
        "id": "Xoojwdr4rEMM",
        "outputId": "8b7fa101-1788-4f1c-b7bc-f065b5acd278"
      },
      "source": [
        "mytree0.fit(X_traintrain,y_traintrain)"
      ],
      "execution_count": 26,
      "outputs": [
        {
          "output_type": "execute_result",
          "data": {
            "text/plain": [
              "DecisionTreeClassifier(max_depth=7, min_samples_leaf=5, min_samples_split=30)"
            ],
            "text/html": [
              "<style>#sk-container-id-2 {color: black;background-color: white;}#sk-container-id-2 pre{padding: 0;}#sk-container-id-2 div.sk-toggleable {background-color: white;}#sk-container-id-2 label.sk-toggleable__label {cursor: pointer;display: block;width: 100%;margin-bottom: 0;padding: 0.3em;box-sizing: border-box;text-align: center;}#sk-container-id-2 label.sk-toggleable__label-arrow:before {content: \"▸\";float: left;margin-right: 0.25em;color: #696969;}#sk-container-id-2 label.sk-toggleable__label-arrow:hover:before {color: black;}#sk-container-id-2 div.sk-estimator:hover label.sk-toggleable__label-arrow:before {color: black;}#sk-container-id-2 div.sk-toggleable__content {max-height: 0;max-width: 0;overflow: hidden;text-align: left;background-color: #f0f8ff;}#sk-container-id-2 div.sk-toggleable__content pre {margin: 0.2em;color: black;border-radius: 0.25em;background-color: #f0f8ff;}#sk-container-id-2 input.sk-toggleable__control:checked~div.sk-toggleable__content {max-height: 200px;max-width: 100%;overflow: auto;}#sk-container-id-2 input.sk-toggleable__control:checked~label.sk-toggleable__label-arrow:before {content: \"▾\";}#sk-container-id-2 div.sk-estimator input.sk-toggleable__control:checked~label.sk-toggleable__label {background-color: #d4ebff;}#sk-container-id-2 div.sk-label input.sk-toggleable__control:checked~label.sk-toggleable__label {background-color: #d4ebff;}#sk-container-id-2 input.sk-hidden--visually {border: 0;clip: rect(1px 1px 1px 1px);clip: rect(1px, 1px, 1px, 1px);height: 1px;margin: -1px;overflow: hidden;padding: 0;position: absolute;width: 1px;}#sk-container-id-2 div.sk-estimator {font-family: monospace;background-color: #f0f8ff;border: 1px dotted black;border-radius: 0.25em;box-sizing: border-box;margin-bottom: 0.5em;}#sk-container-id-2 div.sk-estimator:hover {background-color: #d4ebff;}#sk-container-id-2 div.sk-parallel-item::after {content: \"\";width: 100%;border-bottom: 1px solid gray;flex-grow: 1;}#sk-container-id-2 div.sk-label:hover label.sk-toggleable__label {background-color: #d4ebff;}#sk-container-id-2 div.sk-serial::before {content: \"\";position: absolute;border-left: 1px solid gray;box-sizing: border-box;top: 0;bottom: 0;left: 50%;z-index: 0;}#sk-container-id-2 div.sk-serial {display: flex;flex-direction: column;align-items: center;background-color: white;padding-right: 0.2em;padding-left: 0.2em;position: relative;}#sk-container-id-2 div.sk-item {position: relative;z-index: 1;}#sk-container-id-2 div.sk-parallel {display: flex;align-items: stretch;justify-content: center;background-color: white;position: relative;}#sk-container-id-2 div.sk-item::before, #sk-container-id-2 div.sk-parallel-item::before {content: \"\";position: absolute;border-left: 1px solid gray;box-sizing: border-box;top: 0;bottom: 0;left: 50%;z-index: -1;}#sk-container-id-2 div.sk-parallel-item {display: flex;flex-direction: column;z-index: 1;position: relative;background-color: white;}#sk-container-id-2 div.sk-parallel-item:first-child::after {align-self: flex-end;width: 50%;}#sk-container-id-2 div.sk-parallel-item:last-child::after {align-self: flex-start;width: 50%;}#sk-container-id-2 div.sk-parallel-item:only-child::after {width: 0;}#sk-container-id-2 div.sk-dashed-wrapped {border: 1px dashed gray;margin: 0 0.4em 0.5em 0.4em;box-sizing: border-box;padding-bottom: 0.4em;background-color: white;}#sk-container-id-2 div.sk-label label {font-family: monospace;font-weight: bold;display: inline-block;line-height: 1.2em;}#sk-container-id-2 div.sk-label-container {text-align: center;}#sk-container-id-2 div.sk-container {/* jupyter's `normalize.less` sets `[hidden] { display: none; }` but bootstrap.min.css set `[hidden] { display: none !important; }` so we also need the `!important` here to be able to override the default hidden behavior on the sphinx rendered scikit-learn.org. See: https://github.com/scikit-learn/scikit-learn/issues/21755 */display: inline-block !important;position: relative;}#sk-container-id-2 div.sk-text-repr-fallback {display: none;}</style><div id=\"sk-container-id-2\" class=\"sk-top-container\"><div class=\"sk-text-repr-fallback\"><pre>DecisionTreeClassifier(max_depth=7, min_samples_leaf=5, min_samples_split=30)</pre><b>In a Jupyter environment, please rerun this cell to show the HTML representation or trust the notebook. <br />On GitHub, the HTML representation is unable to render, please try loading this page with nbviewer.org.</b></div><div class=\"sk-container\" hidden><div class=\"sk-item\"><div class=\"sk-estimator sk-toggleable\"><input class=\"sk-toggleable__control sk-hidden--visually\" id=\"sk-estimator-id-2\" type=\"checkbox\" checked><label for=\"sk-estimator-id-2\" class=\"sk-toggleable__label sk-toggleable__label-arrow\">DecisionTreeClassifier</label><div class=\"sk-toggleable__content\"><pre>DecisionTreeClassifier(max_depth=7, min_samples_leaf=5, min_samples_split=30)</pre></div></div></div></div></div>"
            ]
          },
          "metadata": {},
          "execution_count": 26
        }
      ]
    },
    {
      "cell_type": "code",
      "metadata": {
        "id": "rJKKUfPSpP6p"
      },
      "source": [
        "plot_tree(mytree0)"
      ],
      "execution_count": null,
      "outputs": []
    },
    {
      "cell_type": "markdown",
      "metadata": {
        "id": "H10MViKjW61M"
      },
      "source": [
        "## ใช้ Entropy มี ความสูงไม่เกิน 4 ชั้น"
      ]
    },
    {
      "cell_type": "code",
      "metadata": {
        "id": "Bk7tO7z0sMzI"
      },
      "source": [
        "tree1 = DecisionTreeClassifier(criterion='entropy',max_depth=4)\n"
      ],
      "execution_count": 49,
      "outputs": []
    },
    {
      "cell_type": "code",
      "source": [
        "tree1.fit(X_traintrain,y_traintrain)"
      ],
      "metadata": {
        "id": "PvOH672jFNAH",
        "outputId": "4bbba08c-6ab2-4198-edc7-39f0d5a81f8c",
        "colab": {
          "base_uri": "https://localhost:8080/",
          "height": 74
        }
      },
      "execution_count": 50,
      "outputs": [
        {
          "output_type": "execute_result",
          "data": {
            "text/plain": [
              "DecisionTreeClassifier(criterion='entropy', max_depth=4)"
            ],
            "text/html": [
              "<style>#sk-container-id-5 {color: black;background-color: white;}#sk-container-id-5 pre{padding: 0;}#sk-container-id-5 div.sk-toggleable {background-color: white;}#sk-container-id-5 label.sk-toggleable__label {cursor: pointer;display: block;width: 100%;margin-bottom: 0;padding: 0.3em;box-sizing: border-box;text-align: center;}#sk-container-id-5 label.sk-toggleable__label-arrow:before {content: \"▸\";float: left;margin-right: 0.25em;color: #696969;}#sk-container-id-5 label.sk-toggleable__label-arrow:hover:before {color: black;}#sk-container-id-5 div.sk-estimator:hover label.sk-toggleable__label-arrow:before {color: black;}#sk-container-id-5 div.sk-toggleable__content {max-height: 0;max-width: 0;overflow: hidden;text-align: left;background-color: #f0f8ff;}#sk-container-id-5 div.sk-toggleable__content pre {margin: 0.2em;color: black;border-radius: 0.25em;background-color: #f0f8ff;}#sk-container-id-5 input.sk-toggleable__control:checked~div.sk-toggleable__content {max-height: 200px;max-width: 100%;overflow: auto;}#sk-container-id-5 input.sk-toggleable__control:checked~label.sk-toggleable__label-arrow:before {content: \"▾\";}#sk-container-id-5 div.sk-estimator input.sk-toggleable__control:checked~label.sk-toggleable__label {background-color: #d4ebff;}#sk-container-id-5 div.sk-label input.sk-toggleable__control:checked~label.sk-toggleable__label {background-color: #d4ebff;}#sk-container-id-5 input.sk-hidden--visually {border: 0;clip: rect(1px 1px 1px 1px);clip: rect(1px, 1px, 1px, 1px);height: 1px;margin: -1px;overflow: hidden;padding: 0;position: absolute;width: 1px;}#sk-container-id-5 div.sk-estimator {font-family: monospace;background-color: #f0f8ff;border: 1px dotted black;border-radius: 0.25em;box-sizing: border-box;margin-bottom: 0.5em;}#sk-container-id-5 div.sk-estimator:hover {background-color: #d4ebff;}#sk-container-id-5 div.sk-parallel-item::after {content: \"\";width: 100%;border-bottom: 1px solid gray;flex-grow: 1;}#sk-container-id-5 div.sk-label:hover label.sk-toggleable__label {background-color: #d4ebff;}#sk-container-id-5 div.sk-serial::before {content: \"\";position: absolute;border-left: 1px solid gray;box-sizing: border-box;top: 0;bottom: 0;left: 50%;z-index: 0;}#sk-container-id-5 div.sk-serial {display: flex;flex-direction: column;align-items: center;background-color: white;padding-right: 0.2em;padding-left: 0.2em;position: relative;}#sk-container-id-5 div.sk-item {position: relative;z-index: 1;}#sk-container-id-5 div.sk-parallel {display: flex;align-items: stretch;justify-content: center;background-color: white;position: relative;}#sk-container-id-5 div.sk-item::before, #sk-container-id-5 div.sk-parallel-item::before {content: \"\";position: absolute;border-left: 1px solid gray;box-sizing: border-box;top: 0;bottom: 0;left: 50%;z-index: -1;}#sk-container-id-5 div.sk-parallel-item {display: flex;flex-direction: column;z-index: 1;position: relative;background-color: white;}#sk-container-id-5 div.sk-parallel-item:first-child::after {align-self: flex-end;width: 50%;}#sk-container-id-5 div.sk-parallel-item:last-child::after {align-self: flex-start;width: 50%;}#sk-container-id-5 div.sk-parallel-item:only-child::after {width: 0;}#sk-container-id-5 div.sk-dashed-wrapped {border: 1px dashed gray;margin: 0 0.4em 0.5em 0.4em;box-sizing: border-box;padding-bottom: 0.4em;background-color: white;}#sk-container-id-5 div.sk-label label {font-family: monospace;font-weight: bold;display: inline-block;line-height: 1.2em;}#sk-container-id-5 div.sk-label-container {text-align: center;}#sk-container-id-5 div.sk-container {/* jupyter's `normalize.less` sets `[hidden] { display: none; }` but bootstrap.min.css set `[hidden] { display: none !important; }` so we also need the `!important` here to be able to override the default hidden behavior on the sphinx rendered scikit-learn.org. See: https://github.com/scikit-learn/scikit-learn/issues/21755 */display: inline-block !important;position: relative;}#sk-container-id-5 div.sk-text-repr-fallback {display: none;}</style><div id=\"sk-container-id-5\" class=\"sk-top-container\"><div class=\"sk-text-repr-fallback\"><pre>DecisionTreeClassifier(criterion=&#x27;entropy&#x27;, max_depth=4)</pre><b>In a Jupyter environment, please rerun this cell to show the HTML representation or trust the notebook. <br />On GitHub, the HTML representation is unable to render, please try loading this page with nbviewer.org.</b></div><div class=\"sk-container\" hidden><div class=\"sk-item\"><div class=\"sk-estimator sk-toggleable\"><input class=\"sk-toggleable__control sk-hidden--visually\" id=\"sk-estimator-id-5\" type=\"checkbox\" checked><label for=\"sk-estimator-id-5\" class=\"sk-toggleable__label sk-toggleable__label-arrow\">DecisionTreeClassifier</label><div class=\"sk-toggleable__content\"><pre>DecisionTreeClassifier(criterion=&#x27;entropy&#x27;, max_depth=4)</pre></div></div></div></div></div>"
            ]
          },
          "metadata": {},
          "execution_count": 50
        }
      ]
    },
    {
      "cell_type": "code",
      "source": [
        "plot_tree(tree1)"
      ],
      "metadata": {
        "id": "OZ9C-fJFFTsI"
      },
      "execution_count": null,
      "outputs": []
    },
    {
      "cell_type": "markdown",
      "metadata": {
        "id": "flDDZwxyXD39"
      },
      "source": [
        "## ใช้ Gini และ leaf node ต้องมีจำนวน data ไม่น้อยกว่า 5"
      ]
    },
    {
      "cell_type": "code",
      "metadata": {
        "id": "6CuuEqz0XCzv",
        "outputId": "267d6685-f49d-470a-998b-60884f6164d6",
        "colab": {
          "base_uri": "https://localhost:8080/",
          "height": 1000
        }
      },
      "source": [
        "tree2 = DecisionTreeClassifier(criterion='gini',min_samples_split=5)\n",
        "tree2.fit(X_traintrain,y_traintrain)\n",
        "plot_tree(tree2)"
      ],
      "execution_count": 57,
      "outputs": [
        {
          "output_type": "execute_result",
          "data": {
            "text/plain": [
              "[Text(0.5655531609195402, 0.9545454545454546, 'x[30] <= 0.5\\ngini = 0.899\\nsamples = 628\\nvalue = [57, 70, 56, 74, 54, 61, 62, 61, 64, 69]'),\n",
              " Text(0.2661637931034483, 0.8636363636363636, 'x[20] <= 3.5\\ngini = 0.857\\nsamples = 383\\nvalue = [0, 62, 54, 68, 11, 54, 61, 12, 51, 10]'),\n",
              " Text(0.1235632183908046, 0.7727272727272727, 'x[42] <= 11.5\\ngini = 0.641\\nsamples = 122\\nvalue = [0, 3, 1, 1, 4, 43, 58, 1, 10, 1]'),\n",
              " Text(0.07471264367816093, 0.6818181818181818, 'x[21] <= 7.0\\ngini = 0.449\\nsamples = 56\\nvalue = [0, 3, 1, 1, 0, 41, 3, 1, 5, 1]'),\n",
              " Text(0.04597701149425287, 0.5909090909090909, 'x[62] <= 7.0\\ngini = 0.231\\nsamples = 47\\nvalue = [0, 3, 0, 0, 0, 41, 3, 0, 0, 0]'),\n",
              " Text(0.022988505747126436, 0.5, 'x[2] <= 0.5\\ngini = 0.046\\nsamples = 42\\nvalue = [0, 0, 0, 0, 0, 41, 1, 0, 0, 0]'),\n",
              " Text(0.011494252873563218, 0.4090909090909091, 'gini = 0.0\\nsamples = 1\\nvalue = [0, 0, 0, 0, 0, 0, 1, 0, 0, 0]'),\n",
              " Text(0.034482758620689655, 0.4090909090909091, 'gini = 0.0\\nsamples = 41\\nvalue = [0, 0, 0, 0, 0, 41, 0, 0, 0, 0]'),\n",
              " Text(0.06896551724137931, 0.5, 'x[63] <= 5.5\\ngini = 0.48\\nsamples = 5\\nvalue = [0, 3, 0, 0, 0, 0, 2, 0, 0, 0]'),\n",
              " Text(0.05747126436781609, 0.4090909090909091, 'gini = 0.0\\nsamples = 2\\nvalue = [0, 0, 0, 0, 0, 0, 2, 0, 0, 0]'),\n",
              " Text(0.08045977011494253, 0.4090909090909091, 'gini = 0.0\\nsamples = 3\\nvalue = [0, 3, 0, 0, 0, 0, 0, 0, 0, 0]'),\n",
              " Text(0.10344827586206896, 0.5909090909090909, 'x[3] <= 13.5\\ngini = 0.642\\nsamples = 9\\nvalue = [0, 0, 1, 1, 0, 0, 0, 1, 5, 1]'),\n",
              " Text(0.09195402298850575, 0.5, 'gini = 0.0\\nsamples = 5\\nvalue = [0, 0, 0, 0, 0, 0, 0, 0, 5, 0]'),\n",
              " Text(0.11494252873563218, 0.5, 'gini = 0.75\\nsamples = 4\\nvalue = [0, 0, 1, 1, 0, 0, 0, 1, 0, 1]'),\n",
              " Text(0.1724137931034483, 0.6818181818181818, 'x[21] <= 0.5\\ngini = 0.295\\nsamples = 66\\nvalue = [0, 0, 0, 0, 4, 2, 55, 0, 5, 0]'),\n",
              " Text(0.14942528735632185, 0.5909090909090909, 'x[61] <= 6.5\\ngini = 0.156\\nsamples = 60\\nvalue = [0, 0, 0, 0, 3, 2, 55, 0, 0, 0]'),\n",
              " Text(0.13793103448275862, 0.5, 'x[6] <= 2.0\\ngini = 0.48\\nsamples = 5\\nvalue = [0, 0, 0, 0, 3, 2, 0, 0, 0, 0]'),\n",
              " Text(0.12643678160919541, 0.4090909090909091, 'gini = 0.0\\nsamples = 3\\nvalue = [0, 0, 0, 0, 3, 0, 0, 0, 0, 0]'),\n",
              " Text(0.14942528735632185, 0.4090909090909091, 'gini = 0.0\\nsamples = 2\\nvalue = [0, 0, 0, 0, 0, 2, 0, 0, 0, 0]'),\n",
              " Text(0.16091954022988506, 0.5, 'gini = 0.0\\nsamples = 55\\nvalue = [0, 0, 0, 0, 0, 0, 55, 0, 0, 0]'),\n",
              " Text(0.19540229885057472, 0.5909090909090909, 'x[60] <= 9.5\\ngini = 0.278\\nsamples = 6\\nvalue = [0, 0, 0, 0, 1, 0, 0, 0, 5, 0]'),\n",
              " Text(0.1839080459770115, 0.5, 'gini = 0.0\\nsamples = 1\\nvalue = [0, 0, 0, 0, 1, 0, 0, 0, 0, 0]'),\n",
              " Text(0.20689655172413793, 0.5, 'gini = 0.0\\nsamples = 5\\nvalue = [0, 0, 0, 0, 0, 0, 0, 0, 5, 0]'),\n",
              " Text(0.40876436781609193, 0.7727272727272727, 'x[43] <= 1.5\\ngini = 0.811\\nsamples = 261\\nvalue = [0, 59, 53, 67, 7, 11, 3, 11, 41, 9]'),\n",
              " Text(0.27298850574712646, 0.6818181818181818, 'x[26] <= 3.5\\ngini = 0.521\\nsamples = 91\\nvalue = [0, 10, 0, 61, 0, 9, 0, 0, 6, 5]'),\n",
              " Text(0.2413793103448276, 0.5909090909090909, 'x[11] <= 14.5\\ngini = 0.103\\nsamples = 56\\nvalue = [0, 2, 0, 53, 0, 0, 0, 0, 1, 0]'),\n",
              " Text(0.22988505747126436, 0.5, 'x[53] <= 1.0\\ngini = 0.036\\nsamples = 54\\nvalue = [0, 0, 0, 53, 0, 0, 0, 0, 1, 0]'),\n",
              " Text(0.21839080459770116, 0.4090909090909091, 'gini = 0.0\\nsamples = 1\\nvalue = [0, 0, 0, 0, 0, 0, 0, 0, 1, 0]'),\n",
              " Text(0.2413793103448276, 0.4090909090909091, 'gini = 0.0\\nsamples = 53\\nvalue = [0, 0, 0, 53, 0, 0, 0, 0, 0, 0]'),\n",
              " Text(0.25287356321839083, 0.5, 'gini = 0.0\\nsamples = 2\\nvalue = [0, 2, 0, 0, 0, 0, 0, 0, 0, 0]'),\n",
              " Text(0.3045977011494253, 0.5909090909090909, 'x[10] <= 9.0\\ngini = 0.789\\nsamples = 35\\nvalue = [0, 8, 0, 8, 0, 9, 0, 0, 5, 5]'),\n",
              " Text(0.27586206896551724, 0.5, 'x[38] <= 3.5\\ngini = 0.34\\nsamples = 10\\nvalue = [0, 8, 0, 1, 0, 0, 0, 0, 0, 1]'),\n",
              " Text(0.26436781609195403, 0.4090909090909091, 'x[34] <= 15.0\\ngini = 0.198\\nsamples = 9\\nvalue = [0, 8, 0, 0, 0, 0, 0, 0, 0, 1]'),\n",
              " Text(0.25287356321839083, 0.3181818181818182, 'gini = 0.0\\nsamples = 8\\nvalue = [0, 8, 0, 0, 0, 0, 0, 0, 0, 0]'),\n",
              " Text(0.27586206896551724, 0.3181818181818182, 'gini = 0.0\\nsamples = 1\\nvalue = [0, 0, 0, 0, 0, 0, 0, 0, 0, 1]'),\n",
              " Text(0.28735632183908044, 0.4090909090909091, 'gini = 0.0\\nsamples = 1\\nvalue = [0, 0, 0, 1, 0, 0, 0, 0, 0, 0]'),\n",
              " Text(0.3333333333333333, 0.5, 'x[26] <= 14.5\\ngini = 0.726\\nsamples = 25\\nvalue = [0, 0, 0, 7, 0, 9, 0, 0, 5, 4]'),\n",
              " Text(0.3218390804597701, 0.4090909090909091, 'x[44] <= 3.5\\ngini = 0.71\\nsamples = 18\\nvalue = [0, 0, 0, 7, 0, 2, 0, 0, 5, 4]'),\n",
              " Text(0.2988505747126437, 0.3181818181818182, 'x[29] <= 12.0\\ngini = 0.463\\nsamples = 11\\nvalue = [0, 0, 0, 7, 0, 0, 0, 0, 0, 4]'),\n",
              " Text(0.28735632183908044, 0.22727272727272727, 'x[60] <= 13.5\\ngini = 0.219\\nsamples = 8\\nvalue = [0, 0, 0, 7, 0, 0, 0, 0, 0, 1]'),\n",
              " Text(0.27586206896551724, 0.13636363636363635, 'gini = 0.0\\nsamples = 1\\nvalue = [0, 0, 0, 0, 0, 0, 0, 0, 0, 1]'),\n",
              " Text(0.2988505747126437, 0.13636363636363635, 'gini = 0.0\\nsamples = 7\\nvalue = [0, 0, 0, 7, 0, 0, 0, 0, 0, 0]'),\n",
              " Text(0.3103448275862069, 0.22727272727272727, 'gini = 0.0\\nsamples = 3\\nvalue = [0, 0, 0, 0, 0, 0, 0, 0, 0, 3]'),\n",
              " Text(0.3448275862068966, 0.3181818181818182, 'x[12] <= 10.5\\ngini = 0.408\\nsamples = 7\\nvalue = [0, 0, 0, 0, 0, 2, 0, 0, 5, 0]'),\n",
              " Text(0.3333333333333333, 0.22727272727272727, 'gini = 0.0\\nsamples = 5\\nvalue = [0, 0, 0, 0, 0, 0, 0, 0, 5, 0]'),\n",
              " Text(0.3563218390804598, 0.22727272727272727, 'gini = 0.0\\nsamples = 2\\nvalue = [0, 0, 0, 0, 0, 2, 0, 0, 0, 0]'),\n",
              " Text(0.3448275862068966, 0.4090909090909091, 'gini = 0.0\\nsamples = 7\\nvalue = [0, 0, 0, 0, 0, 7, 0, 0, 0, 0]'),\n",
              " Text(0.5445402298850575, 0.6818181818181818, 'x[19] <= 15.5\\ngini = 0.769\\nsamples = 170\\nvalue = [0, 49, 53, 6, 7, 2, 3, 11, 35, 4]'),\n",
              " Text(0.47413793103448276, 0.5909090909090909, 'x[54] <= 1.5\\ngini = 0.717\\nsamples = 117\\nvalue = [0, 8, 51, 5, 5, 1, 0, 11, 32, 4]'),\n",
              " Text(0.4425287356321839, 0.5, 'x[50] <= 7.5\\ngini = 0.75\\nsamples = 57\\nvalue = [0, 8, 2, 4, 5, 1, 0, 11, 24, 2]'),\n",
              " Text(0.41379310344827586, 0.4090909090909091, 'x[38] <= 0.5\\ngini = 0.768\\nsamples = 27\\nvalue = [0, 8, 1, 3, 3, 1, 0, 9, 0, 2]'),\n",
              " Text(0.39080459770114945, 0.3181818181818182, 'x[20] <= 15.5\\ngini = 0.688\\nsamples = 16\\nvalue = [0, 8, 1, 3, 1, 1, 0, 0, 0, 2]'),\n",
              " Text(0.3793103448275862, 0.22727272727272727, 'x[3] <= 13.5\\ngini = 0.75\\nsamples = 8\\nvalue = [0, 0, 1, 3, 1, 1, 0, 0, 0, 2]'),\n",
              " Text(0.367816091954023, 0.13636363636363635, 'x[52] <= 9.0\\ngini = 0.72\\nsamples = 5\\nvalue = [0, 0, 1, 0, 1, 1, 0, 0, 0, 2]'),\n",
              " Text(0.3563218390804598, 0.045454545454545456, 'gini = 0.0\\nsamples = 2\\nvalue = [0, 0, 0, 0, 0, 0, 0, 0, 0, 2]'),\n",
              " Text(0.3793103448275862, 0.045454545454545456, 'gini = 0.667\\nsamples = 3\\nvalue = [0, 0, 1, 0, 1, 1, 0, 0, 0, 0]'),\n",
              " Text(0.39080459770114945, 0.13636363636363635, 'gini = 0.0\\nsamples = 3\\nvalue = [0, 0, 0, 3, 0, 0, 0, 0, 0, 0]'),\n",
              " Text(0.40229885057471265, 0.22727272727272727, 'gini = 0.0\\nsamples = 8\\nvalue = [0, 8, 0, 0, 0, 0, 0, 0, 0, 0]'),\n",
              " Text(0.4367816091954023, 0.3181818181818182, 'x[58] <= 0.5\\ngini = 0.298\\nsamples = 11\\nvalue = [0, 0, 0, 0, 2, 0, 0, 9, 0, 0]'),\n",
              " Text(0.42528735632183906, 0.22727272727272727, 'gini = 0.0\\nsamples = 2\\nvalue = [0, 0, 0, 0, 2, 0, 0, 0, 0, 0]'),\n",
              " Text(0.4482758620689655, 0.22727272727272727, 'gini = 0.0\\nsamples = 9\\nvalue = [0, 0, 0, 0, 0, 0, 0, 9, 0, 0]'),\n",
              " Text(0.47126436781609193, 0.4090909090909091, 'x[60] <= 1.0\\ngini = 0.349\\nsamples = 30\\nvalue = [0, 0, 1, 1, 2, 0, 0, 2, 24, 0]'),\n",
              " Text(0.45977011494252873, 0.3181818181818182, 'gini = 0.444\\nsamples = 3\\nvalue = [0, 0, 0, 0, 1, 0, 0, 2, 0, 0]'),\n",
              " Text(0.4827586206896552, 0.3181818181818182, 'x[18] <= 1.5\\ngini = 0.206\\nsamples = 27\\nvalue = [0, 0, 1, 1, 1, 0, 0, 0, 24, 0]'),\n",
              " Text(0.47126436781609193, 0.22727272727272727, 'gini = 0.5\\nsamples = 2\\nvalue = [0, 0, 0, 1, 1, 0, 0, 0, 0, 0]'),\n",
              " Text(0.4942528735632184, 0.22727272727272727, 'x[21] <= 2.5\\ngini = 0.077\\nsamples = 25\\nvalue = [0, 0, 1, 0, 0, 0, 0, 0, 24, 0]'),\n",
              " Text(0.4827586206896552, 0.13636363636363635, 'gini = 0.0\\nsamples = 1\\nvalue = [0, 0, 1, 0, 0, 0, 0, 0, 0, 0]'),\n",
              " Text(0.5057471264367817, 0.13636363636363635, 'gini = 0.0\\nsamples = 24\\nvalue = [0, 0, 0, 0, 0, 0, 0, 0, 24, 0]'),\n",
              " Text(0.5057471264367817, 0.5, 'x[45] <= 8.5\\ngini = 0.314\\nsamples = 60\\nvalue = [0, 0, 49, 1, 0, 0, 0, 0, 8, 2]'),\n",
              " Text(0.4942528735632184, 0.4090909090909091, 'gini = 0.0\\nsamples = 47\\nvalue = [0, 0, 47, 0, 0, 0, 0, 0, 0, 0]'),\n",
              " Text(0.5172413793103449, 0.4090909090909091, 'x[46] <= 3.5\\ngini = 0.568\\nsamples = 13\\nvalue = [0, 0, 2, 1, 0, 0, 0, 0, 8, 2]'),\n",
              " Text(0.5057471264367817, 0.3181818181818182, 'gini = 0.0\\nsamples = 8\\nvalue = [0, 0, 0, 0, 0, 0, 0, 0, 8, 0]'),\n",
              " Text(0.5287356321839081, 0.3181818181818182, 'x[26] <= 3.5\\ngini = 0.64\\nsamples = 5\\nvalue = [0, 0, 2, 1, 0, 0, 0, 0, 0, 2]'),\n",
              " Text(0.5172413793103449, 0.22727272727272727, 'gini = 0.444\\nsamples = 3\\nvalue = [0, 0, 2, 1, 0, 0, 0, 0, 0, 0]'),\n",
              " Text(0.5402298850574713, 0.22727272727272727, 'gini = 0.0\\nsamples = 2\\nvalue = [0, 0, 0, 0, 0, 0, 0, 0, 0, 2]'),\n",
              " Text(0.6149425287356322, 0.5909090909090909, 'x[46] <= 1.0\\ngini = 0.392\\nsamples = 53\\nvalue = [0, 41, 2, 1, 2, 1, 3, 0, 3, 0]'),\n",
              " Text(0.5862068965517241, 0.5, 'x[26] <= 3.5\\ngini = 0.2\\nsamples = 46\\nvalue = [0, 41, 1, 0, 0, 1, 0, 0, 3, 0]'),\n",
              " Text(0.5632183908045977, 0.4090909090909091, 'x[21] <= 4.5\\ngini = 0.72\\nsamples = 5\\nvalue = [0, 1, 1, 0, 0, 1, 0, 0, 2, 0]'),\n",
              " Text(0.5517241379310345, 0.3181818181818182, 'gini = 0.667\\nsamples = 3\\nvalue = [0, 1, 1, 0, 0, 1, 0, 0, 0, 0]'),\n",
              " Text(0.5747126436781609, 0.3181818181818182, 'gini = 0.0\\nsamples = 2\\nvalue = [0, 0, 0, 0, 0, 0, 0, 0, 2, 0]'),\n",
              " Text(0.6091954022988506, 0.4090909090909091, 'x[35] <= 6.5\\ngini = 0.048\\nsamples = 41\\nvalue = [0, 40, 0, 0, 0, 0, 0, 0, 1, 0]'),\n",
              " Text(0.5977011494252874, 0.3181818181818182, 'gini = 0.5\\nsamples = 2\\nvalue = [0, 1, 0, 0, 0, 0, 0, 0, 1, 0]'),\n",
              " Text(0.6206896551724138, 0.3181818181818182, 'gini = 0.0\\nsamples = 39\\nvalue = [0, 39, 0, 0, 0, 0, 0, 0, 0, 0]'),\n",
              " Text(0.6436781609195402, 0.5, 'x[51] <= 15.5\\ngini = 0.694\\nsamples = 7\\nvalue = [0, 0, 1, 1, 2, 0, 3, 0, 0, 0]'),\n",
              " Text(0.632183908045977, 0.4090909090909091, 'gini = 0.625\\nsamples = 4\\nvalue = [0, 0, 1, 1, 2, 0, 0, 0, 0, 0]'),\n",
              " Text(0.6551724137931034, 0.4090909090909091, 'gini = 0.0\\nsamples = 3\\nvalue = [0, 0, 0, 0, 0, 0, 3, 0, 0, 0]'),\n",
              " Text(0.8649425287356322, 0.8636363636363636, 'x[33] <= 2.5\\ngini = 0.812\\nsamples = 245\\nvalue = [57, 8, 2, 6, 43, 7, 1, 49, 13, 59]'),\n",
              " Text(0.7873563218390804, 0.7727272727272727, 'x[43] <= 2.5\\ngini = 0.694\\nsamples = 130\\nvalue = [1, 5, 2, 6, 1, 4, 1, 38, 13, 59]'),\n",
              " Text(0.7298850574712644, 0.6818181818181818, 'x[21] <= 10.5\\ngini = 0.402\\nsamples = 72\\nvalue = [0, 4, 0, 6, 0, 4, 0, 2, 1, 55]'),\n",
              " Text(0.7011494252873564, 0.5909090909090909, 'x[2] <= 7.5\\ngini = 0.694\\nsamples = 11\\nvalue = [0, 0, 0, 4, 0, 4, 0, 2, 0, 1]'),\n",
              " Text(0.6896551724137931, 0.5, 'x[2] <= 2.0\\ngini = 0.571\\nsamples = 7\\nvalue = [0, 0, 0, 4, 0, 0, 0, 2, 0, 1]'),\n",
              " Text(0.6781609195402298, 0.4090909090909091, 'gini = 0.444\\nsamples = 3\\nvalue = [0, 0, 0, 0, 0, 0, 0, 2, 0, 1]'),\n",
              " Text(0.7011494252873564, 0.4090909090909091, 'gini = 0.0\\nsamples = 4\\nvalue = [0, 0, 0, 4, 0, 0, 0, 0, 0, 0]'),\n",
              " Text(0.7126436781609196, 0.5, 'gini = 0.0\\nsamples = 4\\nvalue = [0, 0, 0, 0, 0, 4, 0, 0, 0, 0]'),\n",
              " Text(0.7586206896551724, 0.5909090909090909, 'x[3] <= 1.5\\ngini = 0.211\\nsamples = 61\\nvalue = [0, 4, 0, 2, 0, 0, 0, 0, 1, 54]'),\n",
              " Text(0.735632183908046, 0.5, 'x[53] <= 13.0\\ngini = 0.444\\nsamples = 6\\nvalue = [0, 4, 0, 0, 0, 0, 0, 0, 0, 2]'),\n",
              " Text(0.7241379310344828, 0.4090909090909091, 'gini = 0.0\\nsamples = 2\\nvalue = [0, 0, 0, 0, 0, 0, 0, 0, 0, 2]'),\n",
              " Text(0.7471264367816092, 0.4090909090909091, 'gini = 0.0\\nsamples = 4\\nvalue = [0, 4, 0, 0, 0, 0, 0, 0, 0, 0]'),\n",
              " Text(0.7816091954022989, 0.5, 'x[27] <= 2.5\\ngini = 0.104\\nsamples = 55\\nvalue = [0, 0, 0, 2, 0, 0, 0, 0, 1, 52]'),\n",
              " Text(0.7701149425287356, 0.4090909090909091, 'gini = 0.0\\nsamples = 2\\nvalue = [0, 0, 0, 2, 0, 0, 0, 0, 0, 0]'),\n",
              " Text(0.7931034482758621, 0.4090909090909091, 'x[42] <= 9.5\\ngini = 0.037\\nsamples = 53\\nvalue = [0, 0, 0, 0, 0, 0, 0, 0, 1, 52]'),\n",
              " Text(0.7816091954022989, 0.3181818181818182, 'gini = 0.0\\nsamples = 52\\nvalue = [0, 0, 0, 0, 0, 0, 0, 0, 0, 52]'),\n",
              " Text(0.8045977011494253, 0.3181818181818182, 'gini = 0.0\\nsamples = 1\\nvalue = [0, 0, 0, 0, 0, 0, 0, 0, 1, 0]'),\n",
              " Text(0.8448275862068966, 0.6818181818181818, 'x[61] <= 0.5\\ngini = 0.565\\nsamples = 58\\nvalue = [1, 1, 2, 0, 1, 0, 1, 36, 12, 4]'),\n",
              " Text(0.8160919540229885, 0.5909090909090909, 'x[26] <= 12.0\\ngini = 0.1\\nsamples = 38\\nvalue = [0, 0, 0, 0, 0, 0, 0, 36, 0, 2]'),\n",
              " Text(0.8045977011494253, 0.5, 'gini = 0.0\\nsamples = 36\\nvalue = [0, 0, 0, 0, 0, 0, 0, 36, 0, 0]'),\n",
              " Text(0.8275862068965517, 0.5, 'gini = 0.0\\nsamples = 2\\nvalue = [0, 0, 0, 0, 0, 0, 0, 0, 0, 2]'),\n",
              " Text(0.8735632183908046, 0.5909090909090909, 'x[38] <= 0.5\\ngini = 0.61\\nsamples = 20\\nvalue = [1, 1, 2, 0, 1, 0, 1, 0, 12, 2]'),\n",
              " Text(0.8505747126436781, 0.5, 'x[14] <= 5.5\\ngini = 0.338\\nsamples = 15\\nvalue = [0, 1, 2, 0, 0, 0, 0, 0, 12, 0]'),\n",
              " Text(0.8390804597701149, 0.4090909090909091, 'x[53] <= 1.0\\ngini = 0.142\\nsamples = 13\\nvalue = [0, 1, 0, 0, 0, 0, 0, 0, 12, 0]'),\n",
              " Text(0.8275862068965517, 0.3181818181818182, 'gini = 0.0\\nsamples = 1\\nvalue = [0, 1, 0, 0, 0, 0, 0, 0, 0, 0]'),\n",
              " Text(0.8505747126436781, 0.3181818181818182, 'gini = 0.0\\nsamples = 12\\nvalue = [0, 0, 0, 0, 0, 0, 0, 0, 12, 0]'),\n",
              " Text(0.8620689655172413, 0.4090909090909091, 'gini = 0.0\\nsamples = 2\\nvalue = [0, 0, 2, 0, 0, 0, 0, 0, 0, 0]'),\n",
              " Text(0.896551724137931, 0.5, 'x[38] <= 6.5\\ngini = 0.72\\nsamples = 5\\nvalue = [1, 0, 0, 0, 1, 0, 1, 0, 0, 2]'),\n",
              " Text(0.8850574712643678, 0.4090909090909091, 'gini = 0.667\\nsamples = 3\\nvalue = [1, 0, 0, 0, 1, 0, 1, 0, 0, 0]'),\n",
              " Text(0.9080459770114943, 0.4090909090909091, 'gini = 0.0\\nsamples = 2\\nvalue = [0, 0, 0, 0, 0, 0, 0, 0, 0, 2]'),\n",
              " Text(0.9425287356321839, 0.7727272727272727, 'x[36] <= 0.5\\ngini = 0.619\\nsamples = 115\\nvalue = [56, 3, 0, 0, 42, 3, 0, 11, 0, 0]'),\n",
              " Text(0.9195402298850575, 0.6818181818181818, 'x[3] <= 4.5\\ngini = 0.098\\nsamples = 59\\nvalue = [56, 0, 0, 0, 2, 1, 0, 0, 0, 0]'),\n",
              " Text(0.9080459770114943, 0.5909090909090909, 'gini = 0.0\\nsamples = 2\\nvalue = [0, 0, 0, 0, 2, 0, 0, 0, 0, 0]'),\n",
              " Text(0.9310344827586207, 0.5909090909090909, 'x[28] <= 6.0\\ngini = 0.034\\nsamples = 57\\nvalue = [56, 0, 0, 0, 0, 1, 0, 0, 0, 0]'),\n",
              " Text(0.9195402298850575, 0.5, 'gini = 0.0\\nsamples = 56\\nvalue = [56, 0, 0, 0, 0, 0, 0, 0, 0, 0]'),\n",
              " Text(0.9425287356321839, 0.5, 'gini = 0.0\\nsamples = 1\\nvalue = [0, 0, 0, 0, 0, 1, 0, 0, 0, 0]'),\n",
              " Text(0.9655172413793104, 0.6818181818181818, 'x[19] <= 1.5\\ngini = 0.447\\nsamples = 56\\nvalue = [0, 3, 0, 0, 40, 2, 0, 11, 0, 0]'),\n",
              " Text(0.9540229885057471, 0.5909090909090909, 'gini = 0.0\\nsamples = 10\\nvalue = [0, 0, 0, 0, 0, 0, 0, 10, 0, 0]'),\n",
              " Text(0.9770114942528736, 0.5909090909090909, 'x[5] <= 12.0\\ngini = 0.237\\nsamples = 46\\nvalue = [0, 3, 0, 0, 40, 2, 0, 1, 0, 0]'),\n",
              " Text(0.9655172413793104, 0.5, 'x[2] <= 7.5\\ngini = 0.092\\nsamples = 42\\nvalue = [0, 0, 0, 0, 40, 1, 0, 1, 0, 0]'),\n",
              " Text(0.9540229885057471, 0.4090909090909091, 'x[44] <= 1.5\\ngini = 0.048\\nsamples = 41\\nvalue = [0, 0, 0, 0, 40, 1, 0, 0, 0, 0]'),\n",
              " Text(0.9425287356321839, 0.3181818181818182, 'gini = 0.0\\nsamples = 1\\nvalue = [0, 0, 0, 0, 0, 1, 0, 0, 0, 0]'),\n",
              " Text(0.9655172413793104, 0.3181818181818182, 'gini = 0.0\\nsamples = 40\\nvalue = [0, 0, 0, 0, 40, 0, 0, 0, 0, 0]'),\n",
              " Text(0.9770114942528736, 0.4090909090909091, 'gini = 0.0\\nsamples = 1\\nvalue = [0, 0, 0, 0, 0, 0, 0, 1, 0, 0]'),\n",
              " Text(0.9885057471264368, 0.5, 'gini = 0.375\\nsamples = 4\\nvalue = [0, 3, 0, 0, 0, 1, 0, 0, 0, 0]')]"
            ]
          },
          "metadata": {},
          "execution_count": 57
        },
        {
          "output_type": "display_data",
          "data": {
            "text/plain": [
              "<Figure size 640x480 with 1 Axes>"
            ],
            "image/png": "[encoded data removed]"
          },
          "metadata": {}
        }
      ]
    },
    {
      "cell_type": "markdown",
      "metadata": {
        "id": "nqtljoalXWKy"
      },
      "source": [
        "## ใช้ Entropy และ มี จำนวน leaf node ไม่เกิน 15"
      ]
    },
    {
      "cell_type": "code",
      "metadata": {
        "id": "PRvuZNblXTBR",
        "outputId": "5cf0fe28-a283-4318-95ae-3bacd0383af7",
        "colab": {
          "base_uri": "https://localhost:8080/",
          "height": 899
        }
      },
      "source": [
        "tree3 = DecisionTreeClassifier(criterion='entropy',max_leaf_nodes=15)\n",
        "tree3.fit(X_traintrain,y_traintrain)\n",
        "plot_tree(tree3)"
      ],
      "execution_count": 56,
      "outputs": [
        {
          "output_type": "execute_result",
          "data": {
            "text/plain": [
              "[Text(0.5163043478260869, 0.9166666666666666, 'x[30] <= 0.5\\nentropy = 3.315\\nsamples = 628\\nvalue = [57, 70, 56, 74, 54, 61, 62, 61, 64, 69]'),\n",
              " Text(0.25, 0.75, 'x[20] <= 3.5\\nentropy = 2.915\\nsamples = 383\\nvalue = [0, 62, 54, 68, 11, 54, 61, 12, 51, 10]'),\n",
              " Text(0.08695652173913043, 0.5833333333333334, 'x[42] <= 9.5\\nentropy = 1.856\\nsamples = 122\\nvalue = [0, 3, 1, 1, 4, 43, 58, 1, 10, 1]'),\n",
              " Text(0.043478260869565216, 0.4166666666666667, 'entropy = 1.266\\nsamples = 50\\nvalue = [0, 3, 1, 1, 0, 39, 1, 0, 4, 1]'),\n",
              " Text(0.13043478260869565, 0.4166666666666667, 'x[21] <= 5.0\\nentropy = 1.115\\nsamples = 72\\nvalue = [0, 0, 0, 0, 4, 4, 57, 1, 6, 0]'),\n",
              " Text(0.08695652173913043, 0.25, 'entropy = 0.661\\nsamples = 65\\nvalue = [0, 0, 0, 0, 4, 4, 57, 0, 0, 0]'),\n",
              " Text(0.17391304347826086, 0.25, 'entropy = 0.592\\nsamples = 7\\nvalue = [0, 0, 0, 0, 0, 0, 0, 1, 6, 0]'),\n",
              " Text(0.41304347826086957, 0.5833333333333334, 'x[43] <= 4.5\\nentropy = 2.642\\nsamples = 261\\nvalue = [0, 59, 53, 67, 7, 11, 3, 11, 41, 9]'),\n",
              " Text(0.30434782608695654, 0.4166666666666667, 'x[26] <= 5.5\\nentropy = 1.728\\nsamples = 102\\nvalue = [0, 15, 0, 62, 0, 9, 0, 0, 8, 8]'),\n",
              " Text(0.2608695652173913, 0.25, 'entropy = 0.654\\nsamples = 66\\nvalue = [0, 4, 0, 58, 0, 0, 0, 0, 4, 0]'),\n",
              " Text(0.34782608695652173, 0.25, 'entropy = 2.209\\nsamples = 36\\nvalue = [0, 11, 0, 4, 0, 9, 0, 0, 4, 8]'),\n",
              " Text(0.5217391304347826, 0.4166666666666667, 'x[19] <= 9.5\\nentropy = 2.367\\nsamples = 159\\nvalue = [0, 44, 53, 5, 7, 2, 3, 11, 33, 1]'),\n",
              " Text(0.43478260869565216, 0.25, 'x[54] <= 1.5\\nentropy = 1.702\\nsamples = 83\\nvalue = [0, 0, 47, 4, 1, 0, 0, 11, 19, 1]'),\n",
              " Text(0.391304347826087, 0.08333333333333333, 'entropy = 1.911\\nsamples = 33\\nvalue = [0, 0, 2, 3, 1, 0, 0, 11, 15, 1]'),\n",
              " Text(0.4782608695652174, 0.08333333333333333, 'entropy = 0.541\\nsamples = 50\\nvalue = [0, 0, 45, 1, 0, 0, 0, 0, 4, 0]'),\n",
              " Text(0.6086956521739131, 0.25, 'x[12] <= 14.5\\nentropy = 1.889\\nsamples = 76\\nvalue = [0, 44, 6, 1, 6, 2, 3, 0, 14, 0]'),\n",
              " Text(0.5652173913043478, 0.08333333333333333, 'entropy = 2.071\\nsamples = 29\\nvalue = [0, 5, 5, 0, 3, 0, 3, 0, 13, 0]'),\n",
              " Text(0.6521739130434783, 0.08333333333333333, 'entropy = 1.025\\nsamples = 47\\nvalue = [0, 39, 1, 1, 3, 2, 0, 0, 1, 0]'),\n",
              " Text(0.782608695652174, 0.75, 'x[33] <= 2.5\\nentropy = 2.642\\nsamples = 245\\nvalue = [57, 8, 2, 6, 43, 7, 1, 49, 13, 59]'),\n",
              " Text(0.6956521739130435, 0.5833333333333334, 'x[43] <= 2.5\\nentropy = 2.163\\nsamples = 130\\nvalue = [1, 5, 2, 6, 1, 4, 1, 38, 13, 59]'),\n",
              " Text(0.6521739130434783, 0.4166666666666667, 'entropy = 1.288\\nsamples = 72\\nvalue = [0, 4, 0, 6, 0, 4, 0, 2, 1, 55]'),\n",
              " Text(0.7391304347826086, 0.4166666666666667, 'x[61] <= 0.5\\nentropy = 1.735\\nsamples = 58\\nvalue = [1, 1, 2, 0, 1, 0, 1, 36, 12, 4]'),\n",
              " Text(0.6956521739130435, 0.25, 'entropy = 0.297\\nsamples = 38\\nvalue = [0, 0, 0, 0, 0, 0, 0, 36, 0, 2]'),\n",
              " Text(0.782608695652174, 0.25, 'entropy = 1.971\\nsamples = 20\\nvalue = [1, 1, 2, 0, 1, 0, 1, 0, 12, 2]'),\n",
              " Text(0.8695652173913043, 0.5833333333333334, 'x[36] <= 0.5\\nentropy = 1.635\\nsamples = 115\\nvalue = [56, 3, 0, 0, 42, 3, 0, 11, 0, 0]'),\n",
              " Text(0.8260869565217391, 0.4166666666666667, 'entropy = 0.337\\nsamples = 59\\nvalue = [56, 0, 0, 0, 2, 1, 0, 0, 0, 0]'),\n",
              " Text(0.9130434782608695, 0.4166666666666667, 'x[13] <= 9.0\\nentropy = 1.206\\nsamples = 56\\nvalue = [0, 3, 0, 0, 40, 2, 0, 11, 0, 0]'),\n",
              " Text(0.8695652173913043, 0.25, 'entropy = 0.286\\nsamples = 40\\nvalue = [0, 0, 0, 0, 38, 2, 0, 0, 0, 0]'),\n",
              " Text(0.9565217391304348, 0.25, 'entropy = 1.199\\nsamples = 16\\nvalue = [0, 3, 0, 0, 2, 0, 0, 11, 0, 0]')]"
            ]
          },
          "metadata": {},
          "execution_count": 56
        },
        {
          "output_type": "display_data",
          "data": {
            "text/plain": [
              "<Figure size 640x480 with 1 Axes>"
            ],
            "image/png": "[encoded data removed]"
          },
          "metadata": {}
        }
      ]
    },
    {
      "cell_type": "markdown",
      "metadata": {
        "id": "pxbXxma4Y2jT"
      },
      "source": [
        "## ทดสอบ หา model ที่ดีที่สุดด้วย validation set"
      ]
    },
    {
      "cell_type": "code",
      "metadata": {
        "id": "9enIOx-VXgDr"
      },
      "source": [
        "t0_result = mytree0.predict(X_val)"
      ],
      "execution_count": 28,
      "outputs": []
    },
    {
      "cell_type": "code",
      "metadata": {
        "id": "yw342ERmZPU7",
        "outputId": "d0149119-8d05-478a-c3f1-32d36cdd41b4",
        "colab": {
          "base_uri": "https://localhost:8080/"
        }
      },
      "source": [
        "t0_result"
      ],
      "execution_count": 29,
      "outputs": [
        {
          "output_type": "execute_result",
          "data": {
            "text/plain": [
              "array([7, 7, 3, 0, 8, 4, 7, 7, 0, 9, 3, 2, 6, 1, 8, 4, 3, 3, 8, 6, 2, 9,\n",
              "       5, 4, 3, 6, 3, 4, 7, 8, 4, 1, 8, 5, 3, 3, 4, 1, 2, 0, 8, 0, 6, 5,\n",
              "       3, 4, 6, 0, 6, 8, 2, 8, 6, 0, 9, 7, 0, 8, 5, 8, 0, 1, 5, 6, 5, 2,\n",
              "       7, 9, 3, 1, 4, 9, 7, 5, 6, 4, 5, 0, 5, 8, 3, 4, 7, 5, 8, 4, 8, 9,\n",
              "       1, 7, 1, 6, 7, 0, 8, 3, 8, 7, 1, 6, 7, 8, 1, 8, 8, 5, 4, 9, 6, 1,\n",
              "       2, 5, 6, 3, 0, 3, 7, 1, 9, 8, 4, 7, 9, 5, 5, 6, 0, 8, 6, 4, 2, 9,\n",
              "       8, 8, 6, 1, 1, 2, 3, 8, 9, 9, 5, 1, 5, 9, 5, 9, 8, 6, 3, 8, 6, 8,\n",
              "       2, 2, 1, 4, 0, 1, 2, 6, 7, 4, 8, 9, 3, 4, 2, 7, 5, 0, 3, 0, 1, 6,\n",
              "       4, 8, 1, 8, 4, 3, 9, 5, 5, 8, 5, 6, 1, 5, 8, 5, 7, 1, 8, 4, 3, 7,\n",
              "       9, 6, 7, 1, 4, 7, 5, 7, 7, 8, 2, 5, 5, 8, 5, 4, 8, 4, 8, 8, 9, 4,\n",
              "       5, 8, 2, 8, 5, 0, 9, 3, 4, 6, 3, 3, 1, 4, 2, 5, 4, 5, 0, 0, 3, 7,\n",
              "       8, 5, 0, 8, 7, 5, 6, 3, 6, 4, 3, 9, 8, 6, 1, 3, 7, 6, 4, 8, 8, 5,\n",
              "       1, 1, 2, 7, 7, 9])"
            ]
          },
          "metadata": {},
          "execution_count": 29
        }
      ]
    },
    {
      "cell_type": "code",
      "metadata": {
        "id": "5xWVDMC3ZQn-",
        "outputId": "6964e82f-a29e-429e-afc6-ff04396dc67f",
        "colab": {
          "base_uri": "https://localhost:8080/"
        }
      },
      "source": [
        "y_val"
      ],
      "execution_count": 30,
      "outputs": [
        {
          "output_type": "execute_result",
          "data": {
            "text/plain": [
              "array([4, 7, 3, 0, 6, 4, 7, 7, 0, 9, 3, 2, 6, 8, 8, 4, 3, 2, 7, 6, 2, 9,\n",
              "       5, 6, 5, 6, 9, 4, 7, 2, 4, 1, 7, 5, 3, 3, 4, 1, 2, 0, 8, 0, 6, 5,\n",
              "       3, 4, 6, 0, 6, 8, 2, 1, 6, 0, 9, 7, 0, 6, 3, 8, 0, 4, 5, 6, 9, 2,\n",
              "       3, 9, 3, 1, 4, 9, 7, 5, 6, 7, 5, 0, 5, 8, 3, 6, 3, 9, 8, 4, 9, 9,\n",
              "       8, 7, 1, 6, 3, 0, 8, 9, 8, 1, 1, 8, 7, 8, 4, 8, 8, 3, 4, 9, 6, 1,\n",
              "       2, 5, 6, 3, 0, 7, 7, 1, 9, 7, 4, 4, 9, 5, 5, 6, 0, 8, 6, 6, 2, 9,\n",
              "       8, 9, 6, 9, 1, 2, 3, 8, 9, 0, 5, 1, 9, 9, 5, 9, 3, 6, 5, 0, 6, 8,\n",
              "       2, 2, 4, 2, 0, 1, 2, 6, 1, 4, 3, 9, 3, 4, 2, 7, 8, 0, 9, 0, 6, 6,\n",
              "       4, 3, 5, 8, 4, 3, 9, 6, 5, 4, 5, 6, 3, 5, 4, 5, 7, 1, 2, 4, 5, 7,\n",
              "       9, 6, 7, 2, 1, 4, 6, 7, 4, 8, 2, 5, 5, 7, 5, 4, 8, 7, 3, 3, 9, 4,\n",
              "       5, 8, 2, 8, 5, 0, 9, 3, 4, 6, 3, 3, 1, 4, 2, 5, 4, 9, 0, 0, 3, 7,\n",
              "       8, 5, 0, 9, 7, 5, 6, 3, 6, 4, 9, 9, 8, 6, 1, 3, 7, 6, 4, 0, 8, 5,\n",
              "       9, 3, 2, 1, 1, 9])"
            ]
          },
          "metadata": {},
          "execution_count": 30
        }
      ]
    },
    {
      "cell_type": "code",
      "metadata": {
        "id": "_Bg5ZplWZWLo"
      },
      "source": [
        "from sklearn.metrics import accuracy_score"
      ],
      "execution_count": 31,
      "outputs": []
    },
    {
      "cell_type": "code",
      "metadata": {
        "id": "f06dSy0aZgrM",
        "outputId": "a01730c8-1634-4ce4-ca88-5fb2436dd9fe",
        "colab": {
          "base_uri": "https://localhost:8080/"
        }
      },
      "source": [
        "accuracy_score(y_val,t0_result)"
      ],
      "execution_count": 32,
      "outputs": [
        {
          "output_type": "execute_result",
          "data": {
            "text/plain": [
              "0.737037037037037"
            ]
          },
          "metadata": {},
          "execution_count": 32
        }
      ]
    },
    {
      "cell_type": "code",
      "metadata": {
        "id": "Hacg3EI_ZlvE",
        "outputId": "a4ad6c7b-66b8-4f05-f803-12b448e70f83",
        "colab": {
          "base_uri": "https://localhost:8080/",
          "height": 194
        }
      },
      "source": [
        "t1_result = mytree1.predict(X_val)\n",
        "accuracy_score(y_val,t1_result)"
      ],
      "execution_count": 34,
      "outputs": [
        {
          "output_type": "error",
          "ename": "NameError",
          "evalue": "ignored",
          "traceback": [
            "\u001b[0;31m---------------------------------------------------------------------------\u001b[0m",
            "\u001b[0;31mNameError\u001b[0m                                 Traceback (most recent call last)",
            "\u001b[0;32m<ipython-input-34-8ae69a726286>\u001b[0m in \u001b[0;36m<cell line: 1>\u001b[0;34m()\u001b[0m\n\u001b[0;32m----> 1\u001b[0;31m \u001b[0mt1_result\u001b[0m \u001b[0;34m=\u001b[0m \u001b[0mmytree1\u001b[0m\u001b[0;34m.\u001b[0m\u001b[0mpredict\u001b[0m\u001b[0;34m(\u001b[0m\u001b[0mX_val\u001b[0m\u001b[0;34m)\u001b[0m\u001b[0;34m\u001b[0m\u001b[0;34m\u001b[0m\u001b[0m\n\u001b[0m\u001b[1;32m      2\u001b[0m \u001b[0maccuracy_score\u001b[0m\u001b[0;34m(\u001b[0m\u001b[0my_val\u001b[0m\u001b[0;34m,\u001b[0m\u001b[0mt1_result\u001b[0m\u001b[0;34m)\u001b[0m\u001b[0;34m\u001b[0m\u001b[0;34m\u001b[0m\u001b[0m\n",
            "\u001b[0;31mNameError\u001b[0m: name 'mytree1' is not defined"
          ]
        }
      ]
    },
    {
      "cell_type": "code",
      "metadata": {
        "id": "vbY7FsnyZznS"
      },
      "source": [
        "t2_result = mytree2.predict(X_val)\n",
        "accuracy_score(y_val,t2_result)"
      ],
      "execution_count": null,
      "outputs": []
    },
    {
      "cell_type": "code",
      "metadata": {
        "id": "RJbBsvYcZ3mz",
        "outputId": "e8794120-7947-495e-e358-31877af1cc73",
        "colab": {
          "base_uri": "https://localhost:8080/",
          "height": 194
        }
      },
      "source": [
        "t3_result = mytree3.predict(X_val)\n",
        "accuracy_score(y_val,t3_result)"
      ],
      "execution_count": 35,
      "outputs": [
        {
          "output_type": "error",
          "ename": "NameError",
          "evalue": "ignored",
          "traceback": [
            "\u001b[0;31m---------------------------------------------------------------------------\u001b[0m",
            "\u001b[0;31mNameError\u001b[0m                                 Traceback (most recent call last)",
            "\u001b[0;32m<ipython-input-35-10a207b9f55f>\u001b[0m in \u001b[0;36m<cell line: 1>\u001b[0;34m()\u001b[0m\n\u001b[0;32m----> 1\u001b[0;31m \u001b[0mt3_result\u001b[0m \u001b[0;34m=\u001b[0m \u001b[0mmytree3\u001b[0m\u001b[0;34m.\u001b[0m\u001b[0mpredict\u001b[0m\u001b[0;34m(\u001b[0m\u001b[0mX_val\u001b[0m\u001b[0;34m)\u001b[0m\u001b[0;34m\u001b[0m\u001b[0;34m\u001b[0m\u001b[0m\n\u001b[0m\u001b[1;32m      2\u001b[0m \u001b[0maccuracy_score\u001b[0m\u001b[0;34m(\u001b[0m\u001b[0my_val\u001b[0m\u001b[0;34m,\u001b[0m\u001b[0mt3_result\u001b[0m\u001b[0;34m)\u001b[0m\u001b[0;34m\u001b[0m\u001b[0;34m\u001b[0m\u001b[0m\n",
            "\u001b[0;31mNameError\u001b[0m: name 'mytree3' is not defined"
          ]
        }
      ]
    },
    {
      "cell_type": "markdown",
      "metadata": {
        "id": "ULDJAcybaL0n"
      },
      "source": [
        "## สร้าง model จริง จาก training data"
      ]
    },
    {
      "cell_type": "code",
      "metadata": {
        "id": "H3EWwaBYZ7Bi"
      },
      "source": [
        "mytree2Full = DecisionTreeClassifier(criterion='gini',min_samples_leaf=5)\n",
        "mytree2Full.fit(X_train,y_train)"
      ],
      "execution_count": null,
      "outputs": []
    },
    {
      "cell_type": "markdown",
      "metadata": {
        "id": "-dbAEN4saeq6"
      },
      "source": [
        "## วัดผล"
      ]
    },
    {
      "cell_type": "code",
      "metadata": {
        "id": "59cHXTovadlt"
      },
      "source": [
        "final_result = mytree2Full.predict(X_test)"
      ],
      "execution_count": null,
      "outputs": []
    },
    {
      "cell_type": "code",
      "metadata": {
        "id": "sg7QJW86a6D_"
      },
      "source": [
        "accuracy_score(y_test,final_result)"
      ],
      "execution_count": null,
      "outputs": []
    },
    {
      "cell_type": "markdown",
      "metadata": {
        "id": "wR4arPtjcrse"
      },
      "source": [
        "# 3 Machine Learning Training Concepts\n",
        "\n",
        "0.   your data & all data in the world\n",
        "1.   split data -> train test validation\n",
        "2.   finding the best model\n",
        "3.   evaluate the model\n",
        "\n"
      ]
    }
  ]
}